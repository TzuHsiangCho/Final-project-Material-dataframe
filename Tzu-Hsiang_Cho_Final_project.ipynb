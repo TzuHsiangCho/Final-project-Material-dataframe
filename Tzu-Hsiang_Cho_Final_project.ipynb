{
  "nbformat": 4,
  "nbformat_minor": 0,
  "metadata": {
    "colab": {
      "provenance": []
    },
    "kernelspec": {
      "name": "python3",
      "display_name": "Python 3"
    },
    "language_info": {
      "name": "python"
    },
    "widgets": {
      "application/vnd.jupyter.widget-state+json": {
        "490182891a2d4934bf2981c12c6ef451": {
          "model_module": "@jupyter-widgets/controls",
          "model_name": "HBoxModel",
          "model_module_version": "1.5.0",
          "state": {
            "_dom_classes": [],
            "_model_module": "@jupyter-widgets/controls",
            "_model_module_version": "1.5.0",
            "_model_name": "HBoxModel",
            "_view_count": null,
            "_view_module": "@jupyter-widgets/controls",
            "_view_module_version": "1.5.0",
            "_view_name": "HBoxView",
            "box_style": "",
            "children": [
              "IPY_MODEL_340b53537a7744b28422bd4bf5754c5b",
              "IPY_MODEL_2757056c97e14c55a0a67b041780e069",
              "IPY_MODEL_d84b46c2baa04d15803f2de2a4add4fc"
            ],
            "layout": "IPY_MODEL_577d38995b12409ba94024f64ee23307"
          }
        },
        "340b53537a7744b28422bd4bf5754c5b": {
          "model_module": "@jupyter-widgets/controls",
          "model_name": "HTMLModel",
          "model_module_version": "1.5.0",
          "state": {
            "_dom_classes": [],
            "_model_module": "@jupyter-widgets/controls",
            "_model_module_version": "1.5.0",
            "_model_name": "HTMLModel",
            "_view_count": null,
            "_view_module": "@jupyter-widgets/controls",
            "_view_module_version": "1.5.0",
            "_view_name": "HTMLView",
            "description": "",
            "description_tooltip": null,
            "layout": "IPY_MODEL_9900e399de694498ac260f27c9f527a6",
            "placeholder": "​",
            "style": "IPY_MODEL_8e152189de28408fab91d275de56a8f9",
            "value": "Retrieving SummaryDoc documents: 100%"
          }
        },
        "2757056c97e14c55a0a67b041780e069": {
          "model_module": "@jupyter-widgets/controls",
          "model_name": "FloatProgressModel",
          "model_module_version": "1.5.0",
          "state": {
            "_dom_classes": [],
            "_model_module": "@jupyter-widgets/controls",
            "_model_module_version": "1.5.0",
            "_model_name": "FloatProgressModel",
            "_view_count": null,
            "_view_module": "@jupyter-widgets/controls",
            "_view_module_version": "1.5.0",
            "_view_name": "ProgressView",
            "bar_style": "success",
            "description": "",
            "description_tooltip": null,
            "layout": "IPY_MODEL_695bd334b3404b0e84f80af82c64ba8b",
            "max": 5149,
            "min": 0,
            "orientation": "horizontal",
            "style": "IPY_MODEL_0bdbf4c455c3486ebcd354614e76a34c",
            "value": 5149
          }
        },
        "d84b46c2baa04d15803f2de2a4add4fc": {
          "model_module": "@jupyter-widgets/controls",
          "model_name": "HTMLModel",
          "model_module_version": "1.5.0",
          "state": {
            "_dom_classes": [],
            "_model_module": "@jupyter-widgets/controls",
            "_model_module_version": "1.5.0",
            "_model_name": "HTMLModel",
            "_view_count": null,
            "_view_module": "@jupyter-widgets/controls",
            "_view_module_version": "1.5.0",
            "_view_name": "HTMLView",
            "description": "",
            "description_tooltip": null,
            "layout": "IPY_MODEL_1606f98303ef4fcebe17da047a8adf76",
            "placeholder": "​",
            "style": "IPY_MODEL_9c36d1b0b6184f2c88e8ae34e456eaca",
            "value": " 5149/5149 [00:01&lt;00:00, 2176.35it/s]"
          }
        },
        "577d38995b12409ba94024f64ee23307": {
          "model_module": "@jupyter-widgets/base",
          "model_name": "LayoutModel",
          "model_module_version": "1.2.0",
          "state": {
            "_model_module": "@jupyter-widgets/base",
            "_model_module_version": "1.2.0",
            "_model_name": "LayoutModel",
            "_view_count": null,
            "_view_module": "@jupyter-widgets/base",
            "_view_module_version": "1.2.0",
            "_view_name": "LayoutView",
            "align_content": null,
            "align_items": null,
            "align_self": null,
            "border": null,
            "bottom": null,
            "display": null,
            "flex": null,
            "flex_flow": null,
            "grid_area": null,
            "grid_auto_columns": null,
            "grid_auto_flow": null,
            "grid_auto_rows": null,
            "grid_column": null,
            "grid_gap": null,
            "grid_row": null,
            "grid_template_areas": null,
            "grid_template_columns": null,
            "grid_template_rows": null,
            "height": null,
            "justify_content": null,
            "justify_items": null,
            "left": null,
            "margin": null,
            "max_height": null,
            "max_width": null,
            "min_height": null,
            "min_width": null,
            "object_fit": null,
            "object_position": null,
            "order": null,
            "overflow": null,
            "overflow_x": null,
            "overflow_y": null,
            "padding": null,
            "right": null,
            "top": null,
            "visibility": null,
            "width": null
          }
        },
        "9900e399de694498ac260f27c9f527a6": {
          "model_module": "@jupyter-widgets/base",
          "model_name": "LayoutModel",
          "model_module_version": "1.2.0",
          "state": {
            "_model_module": "@jupyter-widgets/base",
            "_model_module_version": "1.2.0",
            "_model_name": "LayoutModel",
            "_view_count": null,
            "_view_module": "@jupyter-widgets/base",
            "_view_module_version": "1.2.0",
            "_view_name": "LayoutView",
            "align_content": null,
            "align_items": null,
            "align_self": null,
            "border": null,
            "bottom": null,
            "display": null,
            "flex": null,
            "flex_flow": null,
            "grid_area": null,
            "grid_auto_columns": null,
            "grid_auto_flow": null,
            "grid_auto_rows": null,
            "grid_column": null,
            "grid_gap": null,
            "grid_row": null,
            "grid_template_areas": null,
            "grid_template_columns": null,
            "grid_template_rows": null,
            "height": null,
            "justify_content": null,
            "justify_items": null,
            "left": null,
            "margin": null,
            "max_height": null,
            "max_width": null,
            "min_height": null,
            "min_width": null,
            "object_fit": null,
            "object_position": null,
            "order": null,
            "overflow": null,
            "overflow_x": null,
            "overflow_y": null,
            "padding": null,
            "right": null,
            "top": null,
            "visibility": null,
            "width": null
          }
        },
        "8e152189de28408fab91d275de56a8f9": {
          "model_module": "@jupyter-widgets/controls",
          "model_name": "DescriptionStyleModel",
          "model_module_version": "1.5.0",
          "state": {
            "_model_module": "@jupyter-widgets/controls",
            "_model_module_version": "1.5.0",
            "_model_name": "DescriptionStyleModel",
            "_view_count": null,
            "_view_module": "@jupyter-widgets/base",
            "_view_module_version": "1.2.0",
            "_view_name": "StyleView",
            "description_width": ""
          }
        },
        "695bd334b3404b0e84f80af82c64ba8b": {
          "model_module": "@jupyter-widgets/base",
          "model_name": "LayoutModel",
          "model_module_version": "1.2.0",
          "state": {
            "_model_module": "@jupyter-widgets/base",
            "_model_module_version": "1.2.0",
            "_model_name": "LayoutModel",
            "_view_count": null,
            "_view_module": "@jupyter-widgets/base",
            "_view_module_version": "1.2.0",
            "_view_name": "LayoutView",
            "align_content": null,
            "align_items": null,
            "align_self": null,
            "border": null,
            "bottom": null,
            "display": null,
            "flex": null,
            "flex_flow": null,
            "grid_area": null,
            "grid_auto_columns": null,
            "grid_auto_flow": null,
            "grid_auto_rows": null,
            "grid_column": null,
            "grid_gap": null,
            "grid_row": null,
            "grid_template_areas": null,
            "grid_template_columns": null,
            "grid_template_rows": null,
            "height": null,
            "justify_content": null,
            "justify_items": null,
            "left": null,
            "margin": null,
            "max_height": null,
            "max_width": null,
            "min_height": null,
            "min_width": null,
            "object_fit": null,
            "object_position": null,
            "order": null,
            "overflow": null,
            "overflow_x": null,
            "overflow_y": null,
            "padding": null,
            "right": null,
            "top": null,
            "visibility": null,
            "width": null
          }
        },
        "0bdbf4c455c3486ebcd354614e76a34c": {
          "model_module": "@jupyter-widgets/controls",
          "model_name": "ProgressStyleModel",
          "model_module_version": "1.5.0",
          "state": {
            "_model_module": "@jupyter-widgets/controls",
            "_model_module_version": "1.5.0",
            "_model_name": "ProgressStyleModel",
            "_view_count": null,
            "_view_module": "@jupyter-widgets/base",
            "_view_module_version": "1.2.0",
            "_view_name": "StyleView",
            "bar_color": null,
            "description_width": ""
          }
        },
        "1606f98303ef4fcebe17da047a8adf76": {
          "model_module": "@jupyter-widgets/base",
          "model_name": "LayoutModel",
          "model_module_version": "1.2.0",
          "state": {
            "_model_module": "@jupyter-widgets/base",
            "_model_module_version": "1.2.0",
            "_model_name": "LayoutModel",
            "_view_count": null,
            "_view_module": "@jupyter-widgets/base",
            "_view_module_version": "1.2.0",
            "_view_name": "LayoutView",
            "align_content": null,
            "align_items": null,
            "align_self": null,
            "border": null,
            "bottom": null,
            "display": null,
            "flex": null,
            "flex_flow": null,
            "grid_area": null,
            "grid_auto_columns": null,
            "grid_auto_flow": null,
            "grid_auto_rows": null,
            "grid_column": null,
            "grid_gap": null,
            "grid_row": null,
            "grid_template_areas": null,
            "grid_template_columns": null,
            "grid_template_rows": null,
            "height": null,
            "justify_content": null,
            "justify_items": null,
            "left": null,
            "margin": null,
            "max_height": null,
            "max_width": null,
            "min_height": null,
            "min_width": null,
            "object_fit": null,
            "object_position": null,
            "order": null,
            "overflow": null,
            "overflow_x": null,
            "overflow_y": null,
            "padding": null,
            "right": null,
            "top": null,
            "visibility": null,
            "width": null
          }
        },
        "9c36d1b0b6184f2c88e8ae34e456eaca": {
          "model_module": "@jupyter-widgets/controls",
          "model_name": "DescriptionStyleModel",
          "model_module_version": "1.5.0",
          "state": {
            "_model_module": "@jupyter-widgets/controls",
            "_model_module_version": "1.5.0",
            "_model_name": "DescriptionStyleModel",
            "_view_count": null,
            "_view_module": "@jupyter-widgets/base",
            "_view_module_version": "1.2.0",
            "_view_name": "StyleView",
            "description_width": ""
          }
        }
      }
    }
  },
  "cells": [
    {
      "cell_type": "code",
      "execution_count": null,
      "metadata": {
        "colab": {
          "base_uri": "https://localhost:8080/",
          "height": 1000,
          "referenced_widgets": [
            "490182891a2d4934bf2981c12c6ef451",
            "340b53537a7744b28422bd4bf5754c5b",
            "2757056c97e14c55a0a67b041780e069",
            "d84b46c2baa04d15803f2de2a4add4fc",
            "577d38995b12409ba94024f64ee23307",
            "9900e399de694498ac260f27c9f527a6",
            "8e152189de28408fab91d275de56a8f9",
            "695bd334b3404b0e84f80af82c64ba8b",
            "0bdbf4c455c3486ebcd354614e76a34c",
            "1606f98303ef4fcebe17da047a8adf76",
            "9c36d1b0b6184f2c88e8ae34e456eaca"
          ]
        },
        "id": "8htrlGtdHMPa",
        "outputId": "f53c0305-86ce-46cd-ca7a-a0e6b58af990"
      },
      "outputs": [
        {
          "output_type": "stream",
          "name": "stdout",
          "text": [
            "Looking in indexes: https://pypi.org/simple, https://us-python.pkg.dev/colab-wheels/public/simple/\n",
            "Collecting pymatgen\n",
            "  Downloading pymatgen-2023.5.31-cp310-cp310-manylinux_2_17_x86_64.manylinux2014_x86_64.whl (12.4 MB)\n",
            "\u001b[2K     \u001b[90m━━━━━━━━━━━━━━━━━━━━━━━━━━━━━━━━━━━━━━━━\u001b[0m \u001b[32m12.4/12.4 MB\u001b[0m \u001b[31m17.9 MB/s\u001b[0m eta \u001b[36m0:00:00\u001b[0m\n",
            "\u001b[?25hRequirement already satisfied: pandas in /usr/local/lib/python3.10/dist-packages (1.5.3)\n",
            "Requirement already satisfied: matplotlib in /usr/local/lib/python3.10/dist-packages (3.7.1)\n",
            "Requirement already satisfied: seaborn in /usr/local/lib/python3.10/dist-packages (0.12.2)\n",
            "Collecting monty>=3.0.2 (from pymatgen)\n",
            "  Downloading monty-2023.5.8-py3-none-any.whl (67 kB)\n",
            "\u001b[2K     \u001b[90m━━━━━━━━━━━━━━━━━━━━━━━━━━━━━━━━━━━━━━━━\u001b[0m \u001b[32m67.3/67.3 kB\u001b[0m \u001b[31m5.9 MB/s\u001b[0m eta \u001b[36m0:00:00\u001b[0m\n",
            "\u001b[?25hCollecting mp-api>=0.27.3 (from pymatgen)\n",
            "  Downloading mp_api-0.33.3-py3-none-any.whl (75 kB)\n",
            "\u001b[2K     \u001b[90m━━━━━━━━━━━━━━━━━━━━━━━━━━━━━━━━━━━━━━━━\u001b[0m \u001b[32m75.6/75.6 kB\u001b[0m \u001b[31m2.9 MB/s\u001b[0m eta \u001b[36m0:00:00\u001b[0m\n",
            "\u001b[?25hRequirement already satisfied: networkx>=2.2 in /usr/local/lib/python3.10/dist-packages (from pymatgen) (3.1)\n",
            "Requirement already satisfied: numpy>=1.20.1 in /usr/local/lib/python3.10/dist-packages (from pymatgen) (1.22.4)\n",
            "Requirement already satisfied: palettable>=3.1.1 in /usr/local/lib/python3.10/dist-packages (from pymatgen) (3.3.3)\n",
            "Requirement already satisfied: plotly>=4.5.0 in /usr/local/lib/python3.10/dist-packages (from pymatgen) (5.13.1)\n",
            "Collecting pybtex (from pymatgen)\n",
            "  Downloading pybtex-0.24.0-py2.py3-none-any.whl (561 kB)\n",
            "\u001b[2K     \u001b[90m━━━━━━━━━━━━━━━━━━━━━━━━━━━━━━━━━━━━━━\u001b[0m \u001b[32m561.4/561.4 kB\u001b[0m \u001b[31m16.6 MB/s\u001b[0m eta \u001b[36m0:00:00\u001b[0m\n",
            "\u001b[?25hRequirement already satisfied: requests in /usr/local/lib/python3.10/dist-packages (from pymatgen) (2.27.1)\n",
            "Collecting ruamel.yaml>=0.17.0 (from pymatgen)\n",
            "  Downloading ruamel.yaml-0.17.32-py3-none-any.whl (112 kB)\n",
            "\u001b[2K     \u001b[90m━━━━━━━━━━━━━━━━━━━━━━━━━━━━━━━━━━━━━━━\u001b[0m \u001b[32m112.2/112.2 kB\u001b[0m \u001b[31m7.7 MB/s\u001b[0m eta \u001b[36m0:00:00\u001b[0m\n",
            "\u001b[?25hRequirement already satisfied: scipy>=1.5.0 in /usr/local/lib/python3.10/dist-packages (from pymatgen) (1.10.1)\n",
            "Collecting spglib>=2.0.2 (from pymatgen)\n",
            "  Downloading spglib-2.0.2-cp310-cp310-manylinux_2_17_x86_64.manylinux2014_x86_64.whl (515 kB)\n",
            "\u001b[2K     \u001b[90m━━━━━━━━━━━━━━━━━━━━━━━━━━━━━━━━━━━━━━\u001b[0m \u001b[32m515.3/515.3 kB\u001b[0m \u001b[31m24.7 MB/s\u001b[0m eta \u001b[36m0:00:00\u001b[0m\n",
            "\u001b[?25hRequirement already satisfied: sympy in /usr/local/lib/python3.10/dist-packages (from pymatgen) (1.11.1)\n",
            "Requirement already satisfied: tabulate in /usr/local/lib/python3.10/dist-packages (from pymatgen) (0.8.10)\n",
            "Requirement already satisfied: tqdm in /usr/local/lib/python3.10/dist-packages (from pymatgen) (4.65.0)\n",
            "Collecting uncertainties>=3.1.4 (from pymatgen)\n",
            "  Downloading uncertainties-3.1.7-py2.py3-none-any.whl (98 kB)\n",
            "\u001b[2K     \u001b[90m━━━━━━━━━━━━━━━━━━━━━━━━━━━━━━━━━━━━━━━━\u001b[0m \u001b[32m98.4/98.4 kB\u001b[0m \u001b[31m9.4 MB/s\u001b[0m eta \u001b[36m0:00:00\u001b[0m\n",
            "\u001b[?25hRequirement already satisfied: python-dateutil>=2.8.1 in /usr/local/lib/python3.10/dist-packages (from pandas) (2.8.2)\n",
            "Requirement already satisfied: pytz>=2020.1 in /usr/local/lib/python3.10/dist-packages (from pandas) (2022.7.1)\n",
            "Requirement already satisfied: contourpy>=1.0.1 in /usr/local/lib/python3.10/dist-packages (from matplotlib) (1.0.7)\n",
            "Requirement already satisfied: cycler>=0.10 in /usr/local/lib/python3.10/dist-packages (from matplotlib) (0.11.0)\n",
            "Requirement already satisfied: fonttools>=4.22.0 in /usr/local/lib/python3.10/dist-packages (from matplotlib) (4.39.3)\n",
            "Requirement already satisfied: kiwisolver>=1.0.1 in /usr/local/lib/python3.10/dist-packages (from matplotlib) (1.4.4)\n",
            "Requirement already satisfied: packaging>=20.0 in /usr/local/lib/python3.10/dist-packages (from matplotlib) (23.1)\n",
            "Requirement already satisfied: pillow>=6.2.0 in /usr/local/lib/python3.10/dist-packages (from matplotlib) (8.4.0)\n",
            "Requirement already satisfied: pyparsing>=2.3.1 in /usr/local/lib/python3.10/dist-packages (from matplotlib) (3.0.9)\n",
            "Requirement already satisfied: setuptools in /usr/local/lib/python3.10/dist-packages (from mp-api>=0.27.3->pymatgen) (67.7.2)\n",
            "Requirement already satisfied: msgpack in /usr/local/lib/python3.10/dist-packages (from mp-api>=0.27.3->pymatgen) (1.0.5)\n",
            "Requirement already satisfied: typing-extensions>=3.7.4.1 in /usr/local/lib/python3.10/dist-packages (from mp-api>=0.27.3->pymatgen) (4.5.0)\n",
            "Collecting emmet-core>=0.54.0 (from mp-api>=0.27.3->pymatgen)\n",
            "  Downloading emmet_core-0.57.1-py3-none-any.whl (154 kB)\n",
            "\u001b[2K     \u001b[90m━━━━━━━━━━━━━━━━━━━━━━━━━━━━━━━━━━━━━━\u001b[0m \u001b[32m154.2/154.2 kB\u001b[0m \u001b[31m15.5 MB/s\u001b[0m eta \u001b[36m0:00:00\u001b[0m\n",
            "\u001b[?25hRequirement already satisfied: tenacity>=6.2.0 in /usr/local/lib/python3.10/dist-packages (from plotly>=4.5.0->pymatgen) (8.2.2)\n",
            "Requirement already satisfied: six>=1.5 in /usr/local/lib/python3.10/dist-packages (from python-dateutil>=2.8.1->pandas) (1.16.0)\n",
            "Requirement already satisfied: urllib3<1.27,>=1.21.1 in /usr/local/lib/python3.10/dist-packages (from requests->pymatgen) (1.26.15)\n",
            "Requirement already satisfied: certifi>=2017.4.17 in /usr/local/lib/python3.10/dist-packages (from requests->pymatgen) (2022.12.7)\n",
            "Requirement already satisfied: charset-normalizer~=2.0.0 in /usr/local/lib/python3.10/dist-packages (from requests->pymatgen) (2.0.12)\n",
            "Requirement already satisfied: idna<4,>=2.5 in /usr/local/lib/python3.10/dist-packages (from requests->pymatgen) (3.4)\n",
            "Collecting ruamel.yaml.clib>=0.2.7 (from ruamel.yaml>=0.17.0->pymatgen)\n",
            "  Downloading ruamel.yaml.clib-0.2.7-cp310-cp310-manylinux_2_17_x86_64.manylinux2014_x86_64.manylinux_2_24_x86_64.whl (485 kB)\n",
            "\u001b[2K     \u001b[90m━━━━━━━━━━━━━━━━━━━━━━━━━━━━━━━━━━━━━━\u001b[0m \u001b[32m485.6/485.6 kB\u001b[0m \u001b[31m30.1 MB/s\u001b[0m eta \u001b[36m0:00:00\u001b[0m\n",
            "\u001b[?25hRequirement already satisfied: future in /usr/local/lib/python3.10/dist-packages (from uncertainties>=3.1.4->pymatgen) (0.18.3)\n",
            "Requirement already satisfied: PyYAML>=3.01 in /usr/local/lib/python3.10/dist-packages (from pybtex->pymatgen) (6.0)\n",
            "Collecting latexcodec>=1.0.4 (from pybtex->pymatgen)\n",
            "  Downloading latexcodec-2.0.1-py2.py3-none-any.whl (18 kB)\n",
            "Requirement already satisfied: mpmath>=0.19 in /usr/local/lib/python3.10/dist-packages (from sympy->pymatgen) (1.3.0)\n",
            "Requirement already satisfied: pydantic>=1.10.2 in /usr/local/lib/python3.10/dist-packages (from emmet-core>=0.54.0->mp-api>=0.27.3->pymatgen) (1.10.7)\n",
            "Installing collected packages: uncertainties, spglib, ruamel.yaml.clib, monty, latexcodec, ruamel.yaml, pybtex, emmet-core, mp-api, pymatgen\n",
            "Successfully installed emmet-core-0.57.1 latexcodec-2.0.1 monty-2023.5.8 mp-api-0.33.3 pybtex-0.24.0 pymatgen-2023.5.31 ruamel.yaml-0.17.32 ruamel.yaml.clib-0.2.7 spglib-2.0.2 uncertainties-3.1.7\n"
          ]
        },
        {
          "output_type": "stream",
          "name": "stderr",
          "text": [
            "/usr/local/lib/python3.10/dist-packages/mp_api/client/mprester.py:182: UserWarning: mpcontribs-client not installed. Install the package to query MPContribs data, or construct pourbaix diagrams: 'pip install mpcontribs-client'\n",
            "  warnings.warn(\n"
          ]
        },
        {
          "output_type": "display_data",
          "data": {
            "text/plain": [
              "Retrieving SummaryDoc documents:   0%|          | 0/5149 [00:00<?, ?it/s]"
            ],
            "application/vnd.jupyter.widget-view+json": {
              "version_major": 2,
              "version_minor": 0,
              "model_id": "490182891a2d4934bf2981c12c6ef451"
            }
          },
          "metadata": {}
        }
      ],
      "source": [
        "!pip install pymatgen pandas matplotlib seaborn\n",
        "import pandas as pd\n",
        "from pymatgen.ext.matproj import MPRester\n",
        "import matplotlib.pyplot as plt\n",
        "import seaborn as sns\n",
        "my_API = 'Your_API'\n",
        "with MPRester(my_API) as mpr:\n",
        "    docs = mpr.summary.search(num_elements=2, exclude_elements =  [\"Np\", \"Pu\", \"Am\", \"Cm\", \"Bk\", \"Cf\", \"Es\", \"Fm\", \"Md\", \"No\", \"Lr\", \"Rf\", \"Db\", \"Sg\", \"Bh\", \"Hs\", \"Mt\", \"Ds\", \"Rg\", \"Cn\", \"Nh\", \"Fl\", \"Mc\", \"Lv\", \"Ts\", \"Og\"],\n",
        "                              is_stable = True,\n",
        "                     fields=[\"material_id\", \"band_gap\", \"formation_energy_per_atom\", \"density_atomic\", \"formula_pretty\"])"
      ]
    },
    {
      "cell_type": "code",
      "source": [
        "df = pd.read_csv(\"periodic_table_final.csv\")\n",
        "df.head()"
      ],
      "metadata": {
        "colab": {
          "base_uri": "https://localhost:8080/",
          "height": 386
        },
        "id": "Z_o-NFiNy6B3",
        "outputId": "7bb940f6-1e06-4e61-af4a-60d0c0b32b53"
      },
      "execution_count": null,
      "outputs": [
        {
          "output_type": "execute_result",
          "data": {
            "text/plain": [
              "   Unnamed: 0  AtomicNumber    Element Symbol  AtomicMass  NumberofNeutrons  \\\n",
              "0           0           1.0   Hydrogen      H       1.007               0.0   \n",
              "1           1           2.0     Helium     He       4.002               2.0   \n",
              "2           2           3.0    Lithium     Li       6.941               4.0   \n",
              "3           3           4.0  Beryllium     Be       9.012               5.0   \n",
              "4           4           5.0      Boron      B      10.811               6.0   \n",
              "\n",
              "   NumberofProtons  NumberofElectrons  Period  Group  ... Nonmetal Metalloid  \\\n",
              "0              1.0                1.0     1.0    1.0  ...      yes       NaN   \n",
              "1              2.0                2.0     1.0   18.0  ...      yes       NaN   \n",
              "2              3.0                3.0     2.0    1.0  ...      NaN       NaN   \n",
              "3              4.0                4.0     2.0    2.0  ...      NaN       NaN   \n",
              "4              5.0                5.0     2.0   13.0  ...      NaN       yes   \n",
              "\n",
              "                   Type AtomicRadius Electronegativity FirstIonization  \\\n",
              "0              Nonmetal         0.79              2.20         13.5984   \n",
              "1             Noble Gas         0.49              0.00         24.5874   \n",
              "2          Alkali Metal         2.10              0.98          5.3917   \n",
              "3  Alkaline Earth Metal         1.40              1.57          9.3227   \n",
              "4             Metalloid         1.20              2.04          8.2980   \n",
              "\n",
              "    Density  MeltingPoint  BoilingPoint  NumberOfIsotopes  \n",
              "0  0.000090        14.175         20.28               3.0  \n",
              "1  0.000179         0.950          4.22               5.0  \n",
              "2  0.534000       453.850       1615.00               5.0  \n",
              "3  1.850000      1560.150       2742.00               6.0  \n",
              "4  2.340000      2573.150       4200.00               6.0  \n",
              "\n",
              "[5 rows x 23 columns]"
            ],
            "text/html": [
              "\n",
              "  <div id=\"df-adf1dd59-4655-4053-8819-4f17426d495f\">\n",
              "    <div class=\"colab-df-container\">\n",
              "      <div>\n",
              "<style scoped>\n",
              "    .dataframe tbody tr th:only-of-type {\n",
              "        vertical-align: middle;\n",
              "    }\n",
              "\n",
              "    .dataframe tbody tr th {\n",
              "        vertical-align: top;\n",
              "    }\n",
              "\n",
              "    .dataframe thead th {\n",
              "        text-align: right;\n",
              "    }\n",
              "</style>\n",
              "<table border=\"1\" class=\"dataframe\">\n",
              "  <thead>\n",
              "    <tr style=\"text-align: right;\">\n",
              "      <th></th>\n",
              "      <th>Unnamed: 0</th>\n",
              "      <th>AtomicNumber</th>\n",
              "      <th>Element</th>\n",
              "      <th>Symbol</th>\n",
              "      <th>AtomicMass</th>\n",
              "      <th>NumberofNeutrons</th>\n",
              "      <th>NumberofProtons</th>\n",
              "      <th>NumberofElectrons</th>\n",
              "      <th>Period</th>\n",
              "      <th>Group</th>\n",
              "      <th>...</th>\n",
              "      <th>Nonmetal</th>\n",
              "      <th>Metalloid</th>\n",
              "      <th>Type</th>\n",
              "      <th>AtomicRadius</th>\n",
              "      <th>Electronegativity</th>\n",
              "      <th>FirstIonization</th>\n",
              "      <th>Density</th>\n",
              "      <th>MeltingPoint</th>\n",
              "      <th>BoilingPoint</th>\n",
              "      <th>NumberOfIsotopes</th>\n",
              "    </tr>\n",
              "  </thead>\n",
              "  <tbody>\n",
              "    <tr>\n",
              "      <th>0</th>\n",
              "      <td>0</td>\n",
              "      <td>1.0</td>\n",
              "      <td>Hydrogen</td>\n",
              "      <td>H</td>\n",
              "      <td>1.007</td>\n",
              "      <td>0.0</td>\n",
              "      <td>1.0</td>\n",
              "      <td>1.0</td>\n",
              "      <td>1.0</td>\n",
              "      <td>1.0</td>\n",
              "      <td>...</td>\n",
              "      <td>yes</td>\n",
              "      <td>NaN</td>\n",
              "      <td>Nonmetal</td>\n",
              "      <td>0.79</td>\n",
              "      <td>2.20</td>\n",
              "      <td>13.5984</td>\n",
              "      <td>0.000090</td>\n",
              "      <td>14.175</td>\n",
              "      <td>20.28</td>\n",
              "      <td>3.0</td>\n",
              "    </tr>\n",
              "    <tr>\n",
              "      <th>1</th>\n",
              "      <td>1</td>\n",
              "      <td>2.0</td>\n",
              "      <td>Helium</td>\n",
              "      <td>He</td>\n",
              "      <td>4.002</td>\n",
              "      <td>2.0</td>\n",
              "      <td>2.0</td>\n",
              "      <td>2.0</td>\n",
              "      <td>1.0</td>\n",
              "      <td>18.0</td>\n",
              "      <td>...</td>\n",
              "      <td>yes</td>\n",
              "      <td>NaN</td>\n",
              "      <td>Noble Gas</td>\n",
              "      <td>0.49</td>\n",
              "      <td>0.00</td>\n",
              "      <td>24.5874</td>\n",
              "      <td>0.000179</td>\n",
              "      <td>0.950</td>\n",
              "      <td>4.22</td>\n",
              "      <td>5.0</td>\n",
              "    </tr>\n",
              "    <tr>\n",
              "      <th>2</th>\n",
              "      <td>2</td>\n",
              "      <td>3.0</td>\n",
              "      <td>Lithium</td>\n",
              "      <td>Li</td>\n",
              "      <td>6.941</td>\n",
              "      <td>4.0</td>\n",
              "      <td>3.0</td>\n",
              "      <td>3.0</td>\n",
              "      <td>2.0</td>\n",
              "      <td>1.0</td>\n",
              "      <td>...</td>\n",
              "      <td>NaN</td>\n",
              "      <td>NaN</td>\n",
              "      <td>Alkali Metal</td>\n",
              "      <td>2.10</td>\n",
              "      <td>0.98</td>\n",
              "      <td>5.3917</td>\n",
              "      <td>0.534000</td>\n",
              "      <td>453.850</td>\n",
              "      <td>1615.00</td>\n",
              "      <td>5.0</td>\n",
              "    </tr>\n",
              "    <tr>\n",
              "      <th>3</th>\n",
              "      <td>3</td>\n",
              "      <td>4.0</td>\n",
              "      <td>Beryllium</td>\n",
              "      <td>Be</td>\n",
              "      <td>9.012</td>\n",
              "      <td>5.0</td>\n",
              "      <td>4.0</td>\n",
              "      <td>4.0</td>\n",
              "      <td>2.0</td>\n",
              "      <td>2.0</td>\n",
              "      <td>...</td>\n",
              "      <td>NaN</td>\n",
              "      <td>NaN</td>\n",
              "      <td>Alkaline Earth Metal</td>\n",
              "      <td>1.40</td>\n",
              "      <td>1.57</td>\n",
              "      <td>9.3227</td>\n",
              "      <td>1.850000</td>\n",
              "      <td>1560.150</td>\n",
              "      <td>2742.00</td>\n",
              "      <td>6.0</td>\n",
              "    </tr>\n",
              "    <tr>\n",
              "      <th>4</th>\n",
              "      <td>4</td>\n",
              "      <td>5.0</td>\n",
              "      <td>Boron</td>\n",
              "      <td>B</td>\n",
              "      <td>10.811</td>\n",
              "      <td>6.0</td>\n",
              "      <td>5.0</td>\n",
              "      <td>5.0</td>\n",
              "      <td>2.0</td>\n",
              "      <td>13.0</td>\n",
              "      <td>...</td>\n",
              "      <td>NaN</td>\n",
              "      <td>yes</td>\n",
              "      <td>Metalloid</td>\n",
              "      <td>1.20</td>\n",
              "      <td>2.04</td>\n",
              "      <td>8.2980</td>\n",
              "      <td>2.340000</td>\n",
              "      <td>2573.150</td>\n",
              "      <td>4200.00</td>\n",
              "      <td>6.0</td>\n",
              "    </tr>\n",
              "  </tbody>\n",
              "</table>\n",
              "<p>5 rows × 23 columns</p>\n",
              "</div>\n",
              "      <button class=\"colab-df-convert\" onclick=\"convertToInteractive('df-adf1dd59-4655-4053-8819-4f17426d495f')\"\n",
              "              title=\"Convert this dataframe to an interactive table.\"\n",
              "              style=\"display:none;\">\n",
              "        \n",
              "  <svg xmlns=\"http://www.w3.org/2000/svg\" height=\"24px\"viewBox=\"0 0 24 24\"\n",
              "       width=\"24px\">\n",
              "    <path d=\"M0 0h24v24H0V0z\" fill=\"none\"/>\n",
              "    <path d=\"M18.56 5.44l.94 2.06.94-2.06 2.06-.94-2.06-.94-.94-2.06-.94 2.06-2.06.94zm-11 1L8.5 8.5l.94-2.06 2.06-.94-2.06-.94L8.5 2.5l-.94 2.06-2.06.94zm10 10l.94 2.06.94-2.06 2.06-.94-2.06-.94-.94-2.06-.94 2.06-2.06.94z\"/><path d=\"M17.41 7.96l-1.37-1.37c-.4-.4-.92-.59-1.43-.59-.52 0-1.04.2-1.43.59L10.3 9.45l-7.72 7.72c-.78.78-.78 2.05 0 2.83L4 21.41c.39.39.9.59 1.41.59.51 0 1.02-.2 1.41-.59l7.78-7.78 2.81-2.81c.8-.78.8-2.07 0-2.86zM5.41 20L4 18.59l7.72-7.72 1.47 1.35L5.41 20z\"/>\n",
              "  </svg>\n",
              "      </button>\n",
              "      \n",
              "  <style>\n",
              "    .colab-df-container {\n",
              "      display:flex;\n",
              "      flex-wrap:wrap;\n",
              "      gap: 12px;\n",
              "    }\n",
              "\n",
              "    .colab-df-convert {\n",
              "      background-color: #E8F0FE;\n",
              "      border: none;\n",
              "      border-radius: 50%;\n",
              "      cursor: pointer;\n",
              "      display: none;\n",
              "      fill: #1967D2;\n",
              "      height: 32px;\n",
              "      padding: 0 0 0 0;\n",
              "      width: 32px;\n",
              "    }\n",
              "\n",
              "    .colab-df-convert:hover {\n",
              "      background-color: #E2EBFA;\n",
              "      box-shadow: 0px 1px 2px rgba(60, 64, 67, 0.3), 0px 1px 3px 1px rgba(60, 64, 67, 0.15);\n",
              "      fill: #174EA6;\n",
              "    }\n",
              "\n",
              "    [theme=dark] .colab-df-convert {\n",
              "      background-color: #3B4455;\n",
              "      fill: #D2E3FC;\n",
              "    }\n",
              "\n",
              "    [theme=dark] .colab-df-convert:hover {\n",
              "      background-color: #434B5C;\n",
              "      box-shadow: 0px 1px 3px 1px rgba(0, 0, 0, 0.15);\n",
              "      filter: drop-shadow(0px 1px 2px rgba(0, 0, 0, 0.3));\n",
              "      fill: #FFFFFF;\n",
              "    }\n",
              "  </style>\n",
              "\n",
              "      <script>\n",
              "        const buttonEl =\n",
              "          document.querySelector('#df-adf1dd59-4655-4053-8819-4f17426d495f button.colab-df-convert');\n",
              "        buttonEl.style.display =\n",
              "          google.colab.kernel.accessAllowed ? 'block' : 'none';\n",
              "\n",
              "        async function convertToInteractive(key) {\n",
              "          const element = document.querySelector('#df-adf1dd59-4655-4053-8819-4f17426d495f');\n",
              "          const dataTable =\n",
              "            await google.colab.kernel.invokeFunction('convertToInteractive',\n",
              "                                                     [key], {});\n",
              "          if (!dataTable) return;\n",
              "\n",
              "          const docLinkHtml = 'Like what you see? Visit the ' +\n",
              "            '<a target=\"_blank\" href=https://colab.research.google.com/notebooks/data_table.ipynb>data table notebook</a>'\n",
              "            + ' to learn more about interactive tables.';\n",
              "          element.innerHTML = '';\n",
              "          dataTable['output_type'] = 'display_data';\n",
              "          await google.colab.output.renderOutput(dataTable, element);\n",
              "          const docLink = document.createElement('div');\n",
              "          docLink.innerHTML = docLinkHtml;\n",
              "          element.appendChild(docLink);\n",
              "        }\n",
              "      </script>\n",
              "    </div>\n",
              "  </div>\n",
              "  "
            ]
          },
          "metadata": {},
          "execution_count": 3
        }
      ]
    },
    {
      "cell_type": "code",
      "source": [
        "df.columns"
      ],
      "metadata": {
        "colab": {
          "base_uri": "https://localhost:8080/"
        },
        "id": "nk5o7vwulUg8",
        "outputId": "577ba5d6-b0e5-4a42-ee40-1536fe8e45b5"
      },
      "execution_count": null,
      "outputs": [
        {
          "output_type": "execute_result",
          "data": {
            "text/plain": [
              "Index(['Unnamed: 0', 'AtomicNumber', 'Element', 'Symbol', 'AtomicMass',\n",
              "       'NumberofNeutrons', 'NumberofProtons', 'NumberofElectrons', 'Period',\n",
              "       'Group', 'Phase', 'Natural', 'Metal', 'Nonmetal', 'Metalloid', 'Type',\n",
              "       'AtomicRadius', 'Electronegativity', 'FirstIonization', 'Density',\n",
              "       'MeltingPoint', 'BoilingPoint', 'NumberOfIsotopes'],\n",
              "      dtype='object')"
            ]
          },
          "metadata": {},
          "execution_count": 4
        }
      ]
    },
    {
      "cell_type": "code",
      "source": [
        "formula = [doc.formula_pretty for doc in docs]\n",
        "len(formula)\n",
        "print(formula)"
      ],
      "metadata": {
        "colab": {
          "base_uri": "https://localhost:8080/"
        },
        "id": "Tb47qwAE5wKC",
        "outputId": "c99caa21-1c14-4a64-e175-b712d1f78f55"
      },
      "execution_count": null,
      "outputs": [
        {
          "output_type": "stream",
          "name": "stdout",
          "text": [
            "['Mg149Tc', 'K5As4', 'CuS2', 'Sm14Ag51', 'GdB6', 'Th2C3', 'YIr', 'TmSe2', 'ZrCr2', 'CaCu5', 'NdOs2', 'Ho2S3', 'NiCl2', 'SnRh', 'Zr7Pt10', 'Nd5Co2', 'Ac2O3', 'Er13Zn58', 'Au3F8', 'EuMg2', 'P4S3', 'Tm3Ru', 'GdSe2', 'Tl7Sb2', 'Ho2In', 'TaSi2', 'Ti2O', 'La5Ru2', 'Dy13Zn58', 'Zn3N2', 'In4Te3', 'TaAs', 'EuPb', 'BeH2', 'ZrSe2', 'SmH2', 'Ag3Pd', 'Tb11Sn10', 'Ti2Pd', 'Yb3Ge8', 'Li17Sn4', 'EuHg3', 'Ca5Au3', 'Sr3P4', 'Mg149In', 'NaCl7', 'Nb3B4', 'PtPb4', 'U3Sb4', 'TbBr3', 'BaF3', 'Yb5Pt3', 'Sb2Os', 'Th2Se3', 'PrSe2', 'Nb5Sb4', 'TeI', 'Nb2Pd', 'Tb2Co17', 'Ho2C', 'Rb4Ge23', 'TbZn2', 'HoHg3', 'GaBr3', 'BaMg', 'RbI', 'Tm3Ir', 'Zr3In', 'CrRh3', 'TmB2', 'Pr5Bi3', 'Dy3Ga5', 'DyRe2', 'Ba3N', 'Tm5Rh3', 'Cd41Ir8', 'CoSb', 'Pa3Te', 'Ca5Si3', 'Y2Se3', 'CsGa3', 'FePt3', 'Mo5As4', 'Ag3Sb', 'Lu2Se3', 'Nb2B3', 'ZrRh3', 'Yb2Ni7', 'BaZn2', 'PmHg3', 'In2O3', 'Tm11Cd45', 'TbIr2', 'Nd5Rh4', 'CrPt3', 'AlV3', 'PrMg', 'Zr2Al3', 'GaCo', 'MgTl', 'Li3Cd', 'Dy3Rh2', 'Cs3P7', 'La7Ru3', 'PrTl', 'Tl2O', 'Tc2As3', 'EuS2', 'Yb5Au3', 'SiB3', 'PrP5', 'TmMn12', 'Nd2Co17', 'NaGa4', 'SmZn2', 'NbS3', 'In2Ir', 'HfPd5', 'ReTc', 'MgIr2', 'Dy3C4', 'PrS', 'Al2S3', 'Cl2O7', 'SrSi', 'CePd3', 'Ba2Bi3', 'TiP2', 'HoRh2', 'Er14Ag51', 'LiAl', 'DyOs2', 'TbMg149', 'CCl4', 'Mg3Sb2', 'LuNi2', 'RbTe', 'TbCu', 'LaPt', 'YbN2', 'SmRh2', 'AcF3', 'Nb2C', 'Ba3As14', 'MnTe2', 'Hf2N', 'LuTe3', 'KBi2', 'HoNi2', 'Y5S7', 'TaB', 'PbO', 'Sm11Cd45', 'Zr3Ir', 'TbB2', 'Nb6Zn7', 'NdF3', 'Ca5Bi3', 'YTe', 'CeRh2', 'ThIn', 'PaGa3', 'AcHg3', 'TbCu2', 'GdRu2', 'GaNi3', 'U2Te3', 'ScAl3', 'AlAs', 'Zr2Si', 'Bi2Pd5', 'TaNi3', 'Ga3Os', 'TbZn12', 'Sb2Se3', 'ScHg', 'Ho5Pb3', 'VFe3', 'TmMg', 'HoAu', 'NdZn2', 'MnAu4', 'Er4C7', 'Dy5Sn4', 'DyBi', 'CeNi', 'Mg149Te', 'ScPd3', 'RhPb2', 'Ce5Ir4', 'Cr5O12', 'Eu5Pt4', 'SrIn2', 'Th7Te12', 'HfF4', 'EuN', 'La3Os', 'LiP', 'ScNi', 'Al9Co2', 'U2Ti', 'Mg149Si', 'HoF3', 'CoSe2', 'Nb3Au2', 'ZnS', 'AsPd5', 'Be2Fe', 'Ba2Ge', 'NiH', 'Sc5Sb3', 'Mg2Cd', 'TmB12', 'BaIn2', 'La2Sn3', 'La2S3', 'HoAl2', 'UTe5', 'GePt3', 'PBr5', 'LiSn', 'FeSi2', 'Zr3Ga5', 'SrHg3', 'La5Sn3', 'DyNi3', 'PmIn3', 'PdS', 'VP', 'UF3', 'HfI3', 'YCl3', 'Li3As', 'MnBe12', 'Lu5Ir3', 'SmOs2', 'UIr', 'GeF2', 'GdMg3', 'CeTl3', 'SmH3', 'Zn61Pd8', 'MoIr3', 'SiIr', 'Ti7Br16', 'UP', 'Ge5F12', 'TlBr', 'SmRe2', 'Ti2Re', 'I2O5', 'V3Ge', 'CeFe2', 'YbTe2', 'V11Ge8', 'Er2Au', 'SO3', 'NaPb3', 'NbRh3', 'Th7Se12', 'BaSi2', 'SmRu2', 'PF5', 'Ta3Sn', 'TmFe2', 'Hf5Ge4', 'AlFe3', 'SiH4', 'PaAs', 'ClF5', 'Cr3P', 'ThRe2', 'RbSe', 'TmAu2', 'YPt2', 'Dy3Pt', 'Ca3Hg2', 'Ca3Ga5', 'TbGa2', 'NaS2', 'Gd3I', 'ThTe3', 'Sr5Cd3', 'NaSe', 'Ba3P4', 'CaTl', 'Mg3Au13', 'P2Os', 'Ho3Ni', 'Dy3Ru', 'Ni4Sn3', 'In3Pb', 'TcI4', 'La3In', 'Dy3Rh', 'MgPt7', 'Al12W', 'BaN6', 'Te4Mo3', 'AgF3', 'SnRh2', 'BiPd', 'Nd2Sn3', 'SrPd5', 'Yb2C3', 'CsN3', 'YBr3', 'GdP', 'Nd7Rh3', 'NiSb2', 'AuSe', 'ScIn2', 'ZrCo', 'Na2In', 'PaCl5', 'CeZn3', 'VIr', 'Tb3Tl5', 'Zn6Ru', 'GdHg3', 'Si2Rh3', 'HfRe2', 'PW', 'HgCl', 'Tm3Pt4', 'PdCl2', 'SiTc', 'Eu3Pt2', 'SrCd6', 'ZnPt3', 'CaIr2', 'HoAu3', 'PIr2', 'Tb2Al', 'SrBe13', 'Zn8Cu5', 'TaC', 'HoCd3', 'Zn3Ir', 'Ti2O3', 'Ba2Mg17', 'VRu', 'Pr5Pb3', 'HoCu', 'Zr3Pb', 'LuHg', 'TiCl4', 'Sm2In', 'Be12W', 'La2Br5', 'In2Au', 'Er5Ir3', 'TmBe13', 'CrTe3', 'TiAl', 'Ti2Zn', 'PaGe3', 'Zn3Cu', 'Zn53Co7', 'Ti2Ga', 'ScCu2', 'K2P3', 'U11Se20', 'Re3N', 'Er2Co17', 'ReOs3', 'SCl', 'La4Pb3', 'HfMo2', 'Al22Mo5', 'B2S3', 'CaS', 'V6C5', 'PrMg149', 'BIr', 'HoPd3', 'CeS2', 'KGa3', 'Tm2Te3', 'Na5Sn2', 'ErS', 'Ca2Ni7', 'LaIn3', 'NdI2', 'NdSi', 'DyAs', 'YbZn11', 'Te2O5', 'Sm5Ge4', 'YbCu5', 'Mg149Ni', 'UCl3', 'EuAu2', 'K2Hg7', 'La5Ga3', 'ZrAl2', 'YbIn3', 'Y3C4', 'Pr5Ir3', 'Ni3N', 'CaAs', 'Ni9S8', 'PrHg3', 'W5I16', 'GdAl2', 'Nd17Au36', 'InI2', 'LaP7', 'Ho3Ga5', 'ZrBr', 'ScH2', 'Lu5In4', 'BeAu2', 'TcOs3', 'YbRh', 'Tb5Ge3', 'Lu3Co', 'ZrS2', 'LuPt', 'Lu2C', 'TmCd2', 'ZrS', 'MoCl2', 'ThCu6', 'Hf2Cu', 'TmAl', 'Dy3Ni2', 'USb2', 'CrCl3', 'DyCu2', 'Eu3Ag2', 'ScAu', 'CeGa3', 'TiSi2', 'Lu3S4', 'MoN', 'PtI4', 'Sm3Ge5', 'NdZn', 'HoB12', 'Sm2Zn17', 'EuSi2', 'OsSe2', 'Tb4C5', 'ErAl', 'SBr', 'MgAg3', 'SrP', 'ErPb3', 'GaSe', 'DyTe', 'As2Ir', 'MgPd5', 'Tc2O7', 'NdBe13', 'PaBr4', 'ThO2', 'As3Ir', 'Er5S7', 'TiRh3', 'U2Zn17', 'Y4C5', 'PrSi', 'DyCd3', 'Eu3Pd2', 'ScGa3', 'TaW', 'La13Cd58', 'PrRh2', 'Li8Ag5', 'GaCl3', 'Tb2S3', 'DyPt3', 'TlCl3', 'Ta7Co6', 'ReRh3', 'SmBr3', 'HoZn12', 'GaBr2', 'Eu7Au3', 'Nb3Sb', 'HoSe2', 'ScCu', 'Cs8Ga11', 'NdAl3', 'MnAu2', 'Ca2Sn', 'B2W', 'HgTe', 'LuZn12', 'CaI2', 'FeN', 'NdCd3', 'Y3Tl5', 'Eu4Zn51', 'HfPd', 'LiHg', 'GdP5', 'CrF4', 'Cr7C3', 'LiCd', 'La3Co', 'UN', 'DyCo3', 'DyBe13', 'ScGa', 'NbRh', 'BOs', 'Cs2P3', 'GdCu2', 'HoH2', 'GaPd', 'PmN', 'YBi', 'Yb11Sb10', 'SiPt', 'Er7Rh3', 'HoHg', 'Pr14Ag51', 'CrB', 'TmZn12', 'SrAu5', 'CdPd3', 'BrF5', 'RhF5', 'Mg149Mo', 'TcRh3', 'LaMg3', 'HoAs', 'DyPt', 'BaPd5', 'Sr2Ge', 'Ti21Mn25', 'H3F2', 'CoGe2', 'PaO3', 'TcF4', 'Er3Sn7', 'Zr5Sn4', 'Co3H', 'Hf3Ge2', 'LiPd7', 'Sb2S3', 'Gd5Ge4', 'HoB2', 'Ho4C5', 'CaAu', 'In3Co', 'Tc7B3', 'LaSe', 'ThAl3', 'SmAl3', 'MnSe2', 'Yb5Ir3', 'LuH2', 'YB12', 'LaBr3', 'Ho5Tl3', 'Gd3In', 'AcSi3', 'TiCo', 'InBr2', 'ErSe2', 'Gd3Lu', 'SmSn2', 'HoTl3', 'BaGa4', 'Ga4Cu9', 'Tm5Ge3', 'Be3Nb', 'Ta3Ru', 'Nd5Pb4', 'Pr2Br5', 'La2Zn17', 'Nd3Ru', 'ScAg2', 'Be12Nb', 'ErCd6', 'Sc5Si3', 'BaHg3', 'MgZn2', 'HfAl2', 'LaCo13', 'SmIn', 'Tl2S', 'GdH2', 'La7Pd3', 'HoBe13', 'CeTl', 'AsCl5', 'La2Ni7', 'ThTl3', 'SnCl2', 'EuGa4', 'ThOs2', 'Zr4O', 'NdPb3', 'ScIr', 'La5Ge3', 'LaCu', 'Ta3Ru2', 'BiI5', 'SnPt', 'Fe3N', 'Mg149Zr', 'Ta3B2', 'DyIn', 'Sm5Bi3', 'ScAg4', 'B6O', 'Pr2Te3', 'LiPb', 'Nd2O3', 'LaIr2', 'RuO4', 'YNi', 'ErAg', 'Sc2Pd', 'RuO2', 'Th4C3', 'TlPd3', 'OsF5', 'Tb3Pt', 'Sr5Bi3', 'EuZn2', 'Ni2B', 'Bi3Sb', 'DyCu5', 'Ta7S12', 'XeF6', 'Sm5Tl3', 'YBe13', 'YbAu4', 'ZrBr4', 'In3Ir', 'YbCd6', 'URe2', 'AlPd2', 'Ce3Se4', 'PrI2', 'Y2Co17', 'YbHg', 'LaGa6', 'NaTl3', 'LaP2', 'Ca3N2', 'ZrNi3', 'Nb3B2', 'SmPt', 'Er11Sn10', 'ErSn2', 'La2Bi', 'YbBi2', 'Er5Ru2', 'CeH3', 'RuF5', 'ZrSe', 'HoMg149', 'HI', 'Zr3P', 'XeF2', 'Ta6Zn7', 'Ni11As8', 'DyCo2', 'ThC', 'ThCu2', 'TiNi', 'ZrP', 'LuAs', 'Hf2Pd', 'SmB4', 'UBr5', 'Zr2Ni', 'TaMn2', 'SrH2', 'Nb3Cl7', 'YGe', 'TePt', 'NbF5', 'RbHg2', 'Y8Te3', 'Bi2O3', 'Al21Pt8', 'BeSe', 'Eu3Au', 'AlCu3', 'La7Rh3', 'ZrAu2', 'YAu', 'CeN2', 'Gd2S3', 'TiCr2', 'InBr', 'NbRe', 'BaTl2', 'Hf2Au', 'Ho3Ir', 'TbTl3', 'Tc2Te5', 'HoN', 'UBe13', 'VO2', 'CdS', 'ZnPd', 'LuCd', 'NaP7', 'Al23B50', 'CaZn11', 'TmP', 'Pm2Se3', 'CdS2', 'Eu5As3', 'SiPt2', 'U3As4', 'BPd5', 'Cu3Se2', 'ErI3', 'TmBi', 'RuS2', 'BiF5', 'Y5Ge3', 'YbNi5', 'BMo', 'K2S3', 'VZn3', 'DyAu3', 'Si7Tc4', 'YbGa4', 'ZrAs', 'BePd', 'Tl2Te3', 'Eu2Ge', 'BiF3', 'BrF3', 'Nd11Cd45', 'Sc3Ga5', 'TiZn2', 'GdCd', 'TiF4', 'NdMg149', 'EuTl3', 'Ti2N', 'Na2O', 'DyRu2', 'Tm3Os', 'Te2Ru', 'Er5Pb4', 'Be22Re', 'Mg2Zn11', 'NaBi', 'Zr5Ge4', 'DySb', 'MnCo', 'Nd3Au4', 'Sm5Sb3', 'PbBr2', 'Cu3Pd', 'Zr14Cu51', 'YAs', 'EuTl2', 'PmSn3', 'P3Au2', 'MgPd', 'Th3Pt5', 'Sr3Hg2', 'AlV', 'Nb3Os', 'ScCd', 'Gd2B5', 'LuRh', 'Ta3Ir', 'GdRh', 'Mg149Ru', 'Cr2B', 'Dy3Pd2', 'EuAl2', 'TiFe2', 'Tb3Pd4', 'Re3Pd', 'SmGa', 'PrPd', 'Ho13Zn58', 'ThNi', 'Ce2Sb', 'ZrOs2', 'Mg3N2', 'La14Au51', 'Dy2Sb5', 'La3Tl', 'Mg3Au', 'BaS', 'Zr3Hg', 'Tb3Ge4', 'Yb8In3', 'NbAs', 'LaAg', 'VPd2', 'CrP4', 'ScZn12', 'TbRe2', 'FeF2', 'VS4', 'CrO2', 'Lu2Au', 'Tm4Co3', 'Ta3I7', 'ReOs', 'Rb8In11', 'Sn3F8', 'EuSn', 'TiMn2', 'Sc7Cl10', 'B6As', 'BaSb3', 'GaAu', 'Te2Pd', 'NdMg3', 'HfCr2', 'EuCu2', 'SmGe', 'TiH2', 'YHg', 'YbCu2', 'Mg3Pt', 'FeF3', 'Ga2Pt', 'VS2', 'SmCo2', 'ScOs2', 'Rb2As3', 'Mg2Pt', 'PaAl3', 'UO2', 'Ta5As4', 'PrSi2', 'SmBi', 'Ti7S12', 'NaAs', 'BiPt', 'CuPd3', 'Ta2Be17', 'ZrAu3', 'CsAu', 'BiBr3', 'NbRu', 'PmMg3', 'Ca3Cd2', 'La3Sn', 'Ge7Ir3', 'SrTl3', 'B4C', 'Zr3Rh5', 'SmZn3', 'ThCd11', 'SrHg2', 'MgB4', 'Ba2N', 'BaSe3', 'TiAl2', 'TcIr', 'ThCd2', 'PrPt5', 'NbZn3', 'Cd53Pd16', 'Bi2Te3', 'ZrPd', 'YIr2', 'Sm2Sb5', 'YZn', 'Ti2Pd3', 'PtSe2', 'BeBr2', 'Sc3Tl', 'Sm2Te3', 'LaSi2', 'Sb3Pd8', 'SmCl3', 'LaN', 'Sm3Rh', 'Cr3Si', 'ZrGa', 'GeRh2', 'As2O5', 'Y3Rh', 'TmOs2', 'Sc11Ru4', 'LiCu3', 'PtS', 'AcCd3', 'Sb3Au', 'EuPt2', 'Si4Rh3', 'IrF3', 'SeI2', 'SF4', 'TaB2', 'HfFe2', 'SrZn5', 'YbC6', 'SiCl4', 'TiSb', 'PtCl3', 'AgAu3', 'FeCl4', 'Ti3B4', 'CsTe', 'Y5Tl3', 'RbI3', 'HoGa2', 'K4Sn9', 'TbP', 'HfCd', 'UI3', 'PrTe3', 'SbO2', 'SmTl3', 'La2Co3', 'SiSe2', 'Ce7Ir3', 'AlPt2', 'Lu5Tl3', 'SmRh', 'TaPt2', 'NbGe2', 'V5Ge3', 'CsGa7', 'Dy3Ir', 'Li5In4', 'Nd3Ir', 'TaTe4', 'V2H', 'Er2C', 'Cu13I15', 'UBr3', 'Zr9S2', 'PmGe3', 'Ce5Pb3', 'Be3P2', 'CuCl2', 'MnSb', 'ZrSb2', 'TaIr3', 'DyZn', 'TmGa2', 'Li7Pb2', 'TlHg3', 'CoSb3', 'La3Sn7', 'Te8Rh3', 'MoP4', 'PrGa', 'U2Se3', 'V2O3', 'ErGe', 'KP', 'AlPd', 'MgPt3', 'LaI', 'Pm3Hg', 'VSn2', 'Co3Se4', 'US', 'PaP2', 'AgF2', 'GdPt', 'CoI2', 'UPt', 'LiIn3', 'Ta3S2', 'Mg149Os', 'B9H11', 'Dy2Te', 'GdCd3', 'Tm2Co17', 'Ta3B4', 'V5S4', 'YRe2', 'ThSi2', 'LaPd', 'SrBi3', 'ThRu', 'HgPd3', 'Ca8In3', 'HoPt3', 'Mg3Cd', 'Eu3P4', 'Li5Tl2', 'CsSe4', 'Hf2Be17', 'TaRh3', 'LaSi', 'LiTe3', 'ScZn', 'Ge2Os', 'VNi2', 'Pa3As4', 'FeI2', 'InPd3', 'IrBr3', 'Pr3Ir', 'ThBr4', 'Sc2Sb', 'MoPt', 'SmP', 'Sc3Ga2', 'BaCd2', 'Tl2Au', 'Cu3Au', 'KHg2', 'H2S', 'Sm5Ru2', 'Dy5Sn3', 'ThSe3', 'NaZn13', 'CuPt', 'UF6', 'Er5Pt4', 'Nd3Pd4', 'TiBr4', 'NdTe3', 'CaGa2', 'PdF3', 'Cr5Se8', 'PdSe', 'K3Sb', 'V3P', 'La2C3', 'NdHg2', 'Ho3Ge4', 'Na2S', 'Y5Si3', 'FeTe2', 'BePd3', 'TbB12', 'YPb2', 'Nb2Tc', 'Tm2In', 'LaHg', 'TiCu', 'HfGe2', 'Yb8Tl3', 'ErCd2', 'NbTc', 'LuTe', 'Ir3Ru', 'Ni3Te2', 'ThAu', 'InPd', 'Ac3In', 'Hf2Se3', 'YbCl2', 'Mg2Cu', 'LuOs2', 'SbI3', 'Zn9Fe4', 'Te2Br', 'Nd3Sn7', 'CeNi3', 'Cs3As7', 'Ga2S3', 'Os3W', 'Er5Ir2', 'BaHg', 'Te3Au', 'CeIr2', 'Th7Co3', 'SnF4', 'Ni3Ge', 'Ho5Ge3', 'CaCd6', 'ZrI2', 'Mg149Br', 'SmBe13', 'NaTe3', 'Hf2In5', 'Dy5Tl3', 'RbMg149', 'NdNi', 'TaFe', 'Rb2Te', 'Li3Ag', 'ReI3', 'DyCd2', 'TiSe2', 'Th7Fe3', 'ClO2', 'HfZn16', 'In2Au3', 'Be17Ru3', 'MgAu', 'PmCu3', 'HoMg', 'Tb3Co', 'HfIr3', 'LiIr3', 'CaF2', 'Cs3As11', 'Lu8Te', 'TmPb3', 'Nb5Te4', 'Sc3P2', 'PrCd', 'ZrRe2', 'LaZn2', 'VF3', 'Nb12O29', 'TaF5', 'BCl3', 'HoCd6', 'Eu3O4', 'PaIr3', 'Al9Rh2', 'Cs2S', 'YbPt2', 'Sc44Ru7', 'Ga2O3', 'V3B2', 'Lu5Sn3', 'Mn2P', 'Tc2N', 'TeCl4', 'Ho5Ge4', 'Sc11Os4', 'Lu2Zn17', 'Ca3Au4', 'TiMo3', 'Ti5Ga3', 'Zr3S4', 'BiI3', 'BN', 'Lu2S3', 'NbCo3', 'TiRu', 'TiAs2', 'ScS', 'FeCl3', 'SeS7', 'CeZn11', 'IF5', 'AcI3', 'MgSc', 'DyHg', 'RbZn13', 'SrAg2', 'SrHg', 'CeAl2', 'CaGa4', 'As3W2', 'Ir2S3', 'EuF2', 'Ce5Si3', 'VF2', 'PrCd3', 'LuAg4', 'LaGa2', 'Th3As4', 'YAu2', 'GdCl3', 'CaBi2', 'MgPt', 'ThB6', 'CeCd3', 'Ge3F8', 'CsBi', 'Mn2O3', 'LuBr3', 'TePd', 'Hf5Sn4', 'AlF3', 'Ca4As3', 'Pr2Sn3', 'Bi2Pt', 'MnGe', 'Sm3Tl5', 'Pt5Se4', 'KSn', 'BaAl4', 'PrGa6', 'B3Ru2', 'LuZn', 'Li17Pb4', 'TlSe', 'HfMn2', 'Al3Pd2', 'YbS2', 'Tl5Se3', 'DyTl', 'Ba11Bi10', 'Li3P7', 'UCo', 'Lu3Ga2', 'ScI3', 'Ti2S', 'Ba2Sn', 'P2Pt5', 'CeZn2', 'PaSb2', 'Ce3In', 'SiRu', 'Cs2S5', 'Ho5Pb4', 'Ce2C3', 'ScRu', 'Ta5Si3', 'MoRh3', 'Nb7P4', 'Al3Ni', 'Ge3Ru2', 'CsI3', 'Nd3Co', 'GaFe3', 'TaS2', 'B6P', 'Mg2Pb', 'BaZn13', 'LaSn3', 'La3Al11', 'Ta3As', 'Er5Sn3', 'Sc2Au', 'VMo', 'AgBr', 'ScIr3', 'ScIn', 'YbAl2', 'HoAg2', 'PCl3', 'Sc5Pb3', 'EuBi2', 'HfAu3', 'HoPd', 'TmSb', 'Y5Ru2', 'HgI2', 'Ti3Pd5', 'V2B3', 'LiI', 'Ga5Pt', 'Be2Cr', 'VCl4', 'ZnBr2', 'ErAg2', 'CuP10', 'Ti5Ge3', 'GaPd2', 'Ce3Te4', 'MoP2', 'CeGa', 'PaB3', 'LuSi', 'Mg149Tl', 'HfCo2', 'PrAl2', 'Hf2Ge', 'DyNi5', 'La2Te3', 'DyIr2', 'TbGa', 'HgS', 'HPd', 'Th7Os3', 'Mg149Fe', 'Nb3As', 'GeF4', 'Be5Pt', 'K5Sb4', 'U3S5', 'VSb2', 'VPd3', 'NdP5', 'Li2O', 'EuH2', 'YbI2', 'Ba3Au2', 'ThF4', 'PtCl2', 'Nd3Ga2', 'Dy2O3', 'K3Cd16', 'W2N3', 'V3S', 'CeAs2', 'Sc2S3', 'SmTl', 'TaV2', 'GaS', 'DyNi2', 'TaS3', 'LiPt', 'Pd3Pb', 'GdHg', 'Cu3Pt', 'Er3Ru', 'Hf3Te2', 'TmSi', 'In7Ni3', 'CuBr', 'LiAg3', 'DyCd', 'HgS4', 'Li13In3', 'PmB3', 'DyI3', 'AuF3', 'CaO', 'Ta3Os2', 'Tl2S5', 'NdI3', 'Ta6Fe7', 'CeSb3', 'SrTe', 'PtF4', 'Eu2O3', 'LuB12', 'TbAl3', 'Y2Pt', 'HoTc2', 'Pr2Au', 'SnTe', 'BaRh2', 'LiCl', 'PrCu', 'TaTc', 'MnZn3', 'SnO', 'Nd3Os', 'ScMn2', 'Ir3Rh', 'Yb3Ge5', 'LuIr', 'CS14', 'PaSe3', 'Ti3Sn', 'Hf2Se', 'CaZn', 'AcGa3', 'Ho2Al', 'SiI3', 'ScSe', 'V2O5', 'CeAs', 'YCu5', 'SeBr4', 'EuCu5', 'PrAu2', 'CdAu', 'DyPd', 'Mg3Pd5', 'Cr2Te3', 'Ti3Sb', 'GdIr3', 'HoFe2', 'Tc3Pt', 'BaPb', 'Zr5Ge3', 'Zr2Ga', 'Sr2Pd', 'Rb3Sb', 'TbCu5', 'Yb7Au3', 'CoBr2', 'Hf2P', 'Mg149Al', 'VRe', 'Hf2Zn', 'KTe', 'CdTe', 'BeRh', 'NbP2', 'SrTl', 'Ta2Cl5', 'EuS', 'HoZn3', 'Y2Te3', 'Pm3Al', 'CeHg', 'Gd3Ga2', 'Ca5Pd2', 'Sm2C3', 'GeSe2', 'TaSe3', 'DyMg149', 'YPd3', 'Y2Al', 'PrB4', 'Ca5Pt2', 'GaN', 'FeBr3', 'InBi', 'NaSb', 'LaPt5', 'Pd17Se15', 'DyF3', 'YPd', 'GaSb', 'TbI3', 'TbPt2', 'ZrAg', 'Ce2Ni7', 'Nb6C5', 'SnPd3', 'Pr5Co2', 'SmGa6', 'LaSe2', 'Ti3Te4', 'La2H5', 'Zr2Sb', 'CrI3', 'Cd3As2', 'Nb2P', 'V3Au', 'Hf3N2', 'Sr7Ag3', 'CeF3', 'SrZn', 'Ca5Ag3', 'NdZn11', 'Ga3Fe', 'ZnF2', 'NdGa6', 'CrTe2', 'TmF3', 'Yb4Bi3', 'IrF4', 'SmN', 'NdHg3', 'ErIn3', 'YbO', 'AlAu4', 'YAu3', 'YbNi3', 'Ba6Mg23', 'GaCu3', 'SmCd11', 'Tm3C4', 'Th2Ni7', 'LiAu', 'CaH2', 'HfTe5', 'Nd2Te3', 'FeSe', 'SnS', 'ErCl3', 'InAs', 'TbCo2', 'SnF2', 'MgGa', 'Sr2Sn', 'KH', 'Yb5Bi3', 'Sm5Co2', 'HoZn2', 'Ti2C', 'Ga17Rh10', 'Y14Ag51', 'YS', 'V3Rh', 'Ho5Ir3', 'PrN', 'CeGe', 'LuPd', 'YbPd3', 'Ce2Te5', 'Ti5As3', 'ClF3', 'KSb', 'SmAg', 'YRh2', 'TmPt', 'Dy2Se3', 'TiZn3', 'Ho5Sn3', 'Cr23C6', 'LaTl', 'MoP', 'PbS2', 'Lu5Ru2', 'La10Se19', 'SrGe2', 'CaIn2', 'Er2O3', 'PdPt', 'CeBi3', 'HoAl', 'Ca5Ge3', 'Sm7Pt3', 'PaBr5', 'ZrBe5', 'AgSe5', 'Mg13Au41', 'MgH2', 'PrAl', 'EuCd2', 'TlBi2', 'Zn3Pd', 'Y4C7', 'Mg3Pd', 'PrNi3', 'TmNi2', 'FeS2', 'Sr3Au2', 'NbTe2', 'EuAu', 'CrS2', 'Ta5Ge3', 'ZrC', 'Pr5Si3', 'Ca3Pt2', 'AlH3', 'CsGe', 'MgAl2', 'Rb2Te5', 'ErMg', 'Sm5Pb3', 'DySn2', 'Dy11Sn10', 'Tm5Ru2', 'Tl2O3', 'TiPt8', 'Zn74Pd21', 'Sc5Ge3', 'YMg', 'Li3Tl', 'CaO2', 'Sb2Pt', 'HfGa2', 'Zn3Ru', 'Sc57Pt13', 'H4W', 'VBr3', 'BaPd2', 'CeSb', 'Eu2In', 'BS2', 'Ti3As', 'NaPt2', 'GeSe', 'Hf2Ga3', 'YbGa2', 'U3Ge', 'Ti8C5', 'Ti3O', 'ReTc3', 'GeBr4', 'RbGa7', 'Sr5Sn3', 'PrAu', 'LaCd2', 'CaAu2', 'Rb2O2', 'KGe', 'Mo15N16', 'ZnNi', 'ThGa', 'ZnCu', 'TmAu', 'GdNi3', 'Er5Bi3', 'YbP5', 'Al5W', 'PaPd3', 'RhO2', 'Ga7Ni3', 'ErMn12', 'Co9S8', 'TiPd2', 'LaCd', 'TiS3', 'GeMo3', 'HoCu5', 'LuCl3', 'NbSe2', 'Dy3Os', 'SiTe2', 'HfRh3', 'Sr2Bi3', 'RbF', 'CeAu6', 'TiGa2', 'V3Re', 'Sr5Sb3', 'Co9Se8', 'AgPt4', 'InP', 'La3Te4', 'Rh4Pb5', 'Ta2Ni', 'GdPd', 'SrAl4', 'LiMg2', 'InAg3', 'Ni5P4', 'Sm3In', 'KAs', 'RbCl', 'BaMg149', 'HfPt3', 'SiP2', 'Sr2N', 'V3Co', 'LaBi3', 'Sm2Au', 'TlF3', 'Gd5Si4', 'SrSi2', 'Be5Au', 'Zr2Rh', 'Hf2Si', 'Rh3S4', 'ScSi', 'HgCl2', 'LiBr', 'PrCu2', 'Ga2Au', 'MnBe2', 'LuN', 'Dy11Cd45', 'Ga2I3', 'Tb3Rh2', 'Ca11Bi10', 'LiTl', 'Tc3Os', 'SrBr2', 'YZn3', 'YbBe13', 'Er2Zn17', 'Pr13Zn58', 'Cr5Te8', 'Li8Pb3', 'La3Pb', 'TbRh2', 'PrHg', 'TiZn', 'YbAg2', 'Be4B', 'Tm4C7', 'YMn12', 'YZn12', 'LuRh3', 'Pd16S7', 'Hf2Rh', 'Nd3In', 'YAg2', 'Ca2Ge', 'LuRu', 'PmSi3', 'Pr2S3', 'Sm2S3', 'HoBr3', 'Ga9Ir2', 'TaMo', 'ErBe13', 'Ho2Te3', 'Gd4Sb3', 'MnBr2', 'CeSn3', 'Tb5Sn3', 'IrS2', 'ZrMn2', 'CrAs2', 'FeP', 'Ti2S3', 'PaO2', 'Pm2S3', 'ThAg2', 'Mg149I', 'LuRh2', 'Be2Re', 'MnF4', 'ScHg3', 'MnPd2', 'YSb', 'Sr3As4', 'Yb2Sn', 'Al2Te3', 'Cs3Te22', 'Yb5Ag3', 'Eu5Pt2', 'EuAu5', 'B2O3', 'ErPd', 'Ce4Ru3', 'Cs4Pb9', 'SnPd2', 'Tm2O3', 'V3Cr', 'ThNi5', 'ScBi', 'Yb4Sb3', 'Yb5Sb3', 'PrP', 'CaMg149', 'AgI2', 'K4P3', 'TbS', 'MoS2', 'Sm2Co17', 'ZrBe13', 'Ni4W', 'PrNi5', 'TmN', 'MoCl6', 'LuBe13', 'Ac3Tl', 'Mg44Ir7', 'Si2Os', 'Li2Sb', 'Mg149Ir', 'Rb2S5', 'LuMg', 'Be17Os3', 'KC8', 'UPt2', 'Ge8Pd21', 'AcMg3', 'Si4Ir3', 'ZnPd2', 'In2S3', 'SrIn', 'Ce2Zn17', 'TiPt3', 'Ba2Sb3', 'SeO2', 'Mg149Ti', 'PdO2', 'NaIn3', 'CrP', 'CeCl3', 'SmSe', 'Li15Ge4', 'CrF2', 'Re3Rh', 'MgSc2', 'HoAg', 'HoIr2', 'PbF4', 'Th5Pb4', 'Bi6Cl7', 'NiF2', 'Nb2F5', 'SiP', 'TaPd2', 'YSi', 'K2Au3', 'TmRh2', 'HI3', 'SmS2', 'Be5Pd', 'Ta5N6', 'Lu5Si3', 'Zr14As9', 'Er2Se3', 'GdGa2', 'P4Os', 'ScAg', 'SnI4', 'Ce3Pt4', 'LaBe13', 'EuBr2', 'CaIn', 'HoCu2', 'Mg3Tl', 'AlPt3', 'Ta3Re', 'Tm5In4', 'VCl2', 'Li9Ge4', 'CdBr2', 'Al13Os4', 'ZrTc2', 'ZrTe2', 'Ga9Rh2', 'CaPb3', 'Ca2Si', 'CrF6', 'PrGe', 'UAl2', 'EuPb3', 'Bi2Pd', 'Ce3Pb', 'BaSi', 'Ca2As3', 'GaTe', 'Al2Te5', 'CuTe2', 'ErIr2', 'NiTe2', 'GaMo3', 'Be17Nb2', 'Lu3Al2', 'CdSe2', 'ThGe', 'ErIr', 'PrSn3', 'ErGa3', 'EuIr2', 'Sr28In11', 'Sc2Ni7', 'KIn4', 'TmNi5', 'ZrNi', 'GdIn3', 'MoF5', 'Th4H15', 'Ba2Si', 'TmTl', 'Ti8Bi9', 'ZrS3', 'EuCl3', 'Be3Ru', 'Pr3Ru', 'LaIn', 'Zr2Cd', 'CeHg3', 'SF6', 'Pr2Zn17', 'Ce2Bi', 'Si2Ni', 'PRh2', 'Hf5Te4', 'Ga3Ni5', 'UFe2', 'BiRh', 'Ga2Se3', 'Na2Te', 'Zr3Co', 'SmSi2', 'NaSn2', 'Rb3P11', 'Sr3P14', 'Nb3Os2', 'RbHg11', 'SnAu', 'Tb5Pb4', 'Ag3P11', 'LaAu', 'NiIr3', 'Cr2S3', 'TmH2', 'Sc5Bi3', 'Hf23Se25', 'EuIn3', 'YbCd3', 'HfOs', 'Fe9Co7', 'SnSe2', 'VCl3', 'CoS2', 'BP', 'Sn7Ru3', 'Sc6Sn5', 'SbBr3', 'MoCl5', 'TiBr3', 'TiNi3', 'Ni3Sn2', 'HoRu2', 'LuF3', 'K3P11', 'Ti2Cu', 'CrN', 'NdIr2', 'ErTl3', 'ScBr3', 'SmAu6', 'Mg149P', 'Tm6Mn23', 'MgS2', 'Sn2Pt', 'CoP', 'FeAs2', 'Nb3Te4', 'ErSb', 'Ti3Pt5', 'Ce3Tl', 'TmIn', 'Eu3Ge5', 'Ca2Cu', 'NdCd2', 'TcB2', 'TmZn', 'Al4Cu9', 'Ca5P8', 'PrNd', 'Nd3Zn11', 'EuAg5', 'IrCl3', 'GdB4', 'Y3Ni', 'Tb13Zn58', 'Ce5O9', 'DyH3', 'UI4', 'EuSe', 'TbFe2', 'PbO2', 'WF6', 'Zn3Pt', 'Y3Co', 'TiB', 'Tb2Zn17', 'Lu5Ge3', 'Cd3Pt', 'Eu5Ge3', 'ErFe3', 'CrB4', 'HoH3', 'SmMg149', 'Ca8Al3', 'Rh2Se3', 'SmF3', 'Ti5Te4', 'Zr2S', 'Lu6Mn23', 'BaAu', 'Tb5Tl3', 'MgRh3', 'Zr11Os4', 'B2Ru', 'NbSb2', 'MnZn13', 'BaSr4', 'Ti3Ga', 'UGa3', 'Ba2Cd', 'ZrFe2', 'RbH', 'In4Ag9', 'GdAg2', 'SnO2', 'Pr3In5', 'TcO2', 'ErNi3', 'Lu3Ga5', 'Nb3Ru', 'Mg3Sc', 'Tb5Sb3', 'ErCu', 'As2Se3', 'GdS', 'Li2Se', 'AgCl', 'Ti3Zn22', 'Ce3Sn', 'In2Pt3', 'ThIn3', 'IrO2', 'ScB12', 'CoPt', 'La7Pt3', 'BaMg2', 'K3Ge17', 'Cr2O3', 'ReCl6', 'Gd4Co3', 'ZnSe2', 'ThGa2', 'YbCo2', 'MgCo2', 'VNi3', 'Sr8Ga7', 'Sr21Hg109', 'Eu5Si3', 'YbCd', 'Sm3Ru', 'Bi4Rh', 'Th7Ni3', 'Bi2Rh', 'ErPt', 'VP2', 'HoPt', 'MnGa4', 'TmTc2', 'DyGa3', 'UC2', 'Th2S5', 'CeGa2', 'In3Cu7', 'LuNi5', 'NdB6', 'Mg149Cr', 'Re3Ir', 'CeOs2', 'Zn13Rh', 'Nb14S5', 'CaGe', 'VPt8', 'Ti2Cd', 'Mg149Rh', 'EuAl', 'TiS2', 'Rb5Sb4', 'Th7Ir3', 'HoZn', 'Nd5Ir3', 'Ho2Sb5', 'LiC12', 'K3As', 'Cd3Au', 'HoSn2', 'LuMg149', 'TaAs2', 'Lu3Ru', 'Ho3Ga2', 'Ho11Cd45', 'Rb2S3', 'MnO', 'Hf2Cd', 'AuCl2', 'Nb25S48', 'CuSn', 'Eu16Sb11', 'TmGa', 'CdI2', 'ZrGa2', 'Dy5Ru2', 'Ba7Al10', 'NdPd3', 'Ni3O4', 'InS', 'Er3Pt4', 'YbBr2', 'SiRh2', 'InN', 'NaCl', 'NbSi2', 'NdP', 'MoF3', 'Mg149Mn', 'Fe3P', 'HfP2', 'GaF3', 'US3', 'KPb2', 'LuAu', 'LaNi5', 'ZrRh', 'Tc3N', 'Sb2Ru', 'Ti3Hg', 'SnCl4', 'Ni5As2', 'Li2Te', 'Zn3Au', 'BaSn3', 'Ta3Be2', 'Ni12P5', 'Nd2Au', 'ReP4', 'NdTe', 'RbSi', 'LaBi', 'SiIr3', 'Y3Ir', 'TmPd3', 'PmRh3', 'Ga2Pd5', 'ZrSi2', 'NdCl3', 'Lu2Co7', 'Ga2Te5', 'K8Tl11', 'Th3Ge2', 'CdP2', 'Bi9I2', 'LaC2', 'ZrIr3', 'Sm2B5', 'SnS2', 'Ba3Si4', 'LiBi', 'ScAu4', 'Th2Fe7', 'SbAs', 'Sm5Sn3', 'CsS3', 'Eu3Ga2', 'SbF3', 'ZrSi', 'TiTe2', 'VTc', 'Be2Mo', 'V12P7', 'TiGe2', 'TmIr2', 'La5Pb4', 'MnS', 'FePt', 'US2', 'ErNi', 'Y5Ir2', 'GeRh', 'Fe3Rh', 'Y3In5', 'La5Ir2', 'La4Rh3', 'K2S5', 'RbTe6', 'NiS2', 'Lu3Ge4', 'TmCu', 'NaO2', 'VB2', 'ZnRh', 'VF5', 'V3Ni', 'Pr14Au51', 'Hf2S', 'PrTe', 'La2Au', 'RbAu5', 'YbSi', 'HfS2', 'Dy3In5', 'SrGa4', 'TbCd2', 'NdAg2', 'Zr3N4', 'Yb2Pb', 'DyS2', 'Pb3O4', 'NdBi', 'CsC8', 'Ho12Co7', 'NbPd2', 'LaCd11', 'Zn53Ni16', 'Pr5Ir2', 'Bi4Se3', 'Tb14Ag51', 'Yb11Bi10', 'UIn3', 'SrAu', 'Re2P5', 'Mg2Sn', 'LuZn3', 'SrAg', 'Pm3Sn', 'TiO2', 'Hf2Ga', 'Te2Pt', 'GdPt3', 'TmRu2', 'Pd3S', 'TiRe', 'HgPd', 'HoRe2', 'LuAg2', 'NdS2', 'NdCu', 'AlRh', 'NbMo', 'YB2', 'SmTe3', 'BeTe', 'ThNi2', 'Rb3As', 'Ti3Cu4', 'HoMg3', 'DyRh2', 'PdAu3', 'Pr7Ru3', 'Na15Pb4', 'LuRu2', 'In7Cl9', 'VI3', 'SiNi2', 'Li5Mg', 'AlI3', 'PrTe2', 'YB4', 'UNi5', 'V2C', 'SbTe2', 'AsBr3', 'Na26Cd141', 'Mn2B', 'YGa3', 'TbPt3', 'NbPt', 'Er3In5', 'MoW', 'Al5Co2', 'Rb2S', 'GeTe', 'Nd14Ag51', 'Re2O7', 'Sc2C', 'Ta2Be', 'CdPd', 'TbTl', 'SrF2', 'UIr3', 'AcAg', 'ErAu4', 'AcIn3', 'BaAg2', 'LuAu4', 'Cs2Se', 'Yb3Ag2', 'Dy5Pb4', 'B2H5', 'ReIr3', 'Ta3Os', 'BrCl', 'DyB2', 'HoTe3', 'Ta3Br7', 'Cs2S3', 'Nd5Ge4', 'HfW2', 'ZnIr', 'DyCd6', 'Eu2Sb3', 'Tl9Pd13', 'YbAg', 'Sb2F13', 'U3Sn7', 'DyMg3', 'ZrZn2', 'K3Ga13', 'SmPd', 'B2Mo', 'Tm5Sb3', 'PmH', 'Cr5S8', 'U2S3', 'IrO3', 'ErB2', 'BaH2', 'AlNi', 'Ba2Pb', 'SiRh', 'Al12Tc', 'LaPd3', 'WI2', 'KO2', 'ScCo2', 'SmPb3', 'DyBr3', 'Nd4Ge7', 'LiIn', 'CeF4', 'ErN', 'TiF3', 'LuAu2', 'BaTe3', 'TmHg', 'DyGa2', 'PaAs2', 'MgI2', 'Al45Cr7', 'EuNi5', 'ZrGa3', 'Ti6Sn5', 'Zr3Si2', 'Nd2Se3', 'ZrHg', 'PrRu2', 'CaAg', 'TbZn3', 'YbSn', 'HfAs2', 'Nd4Sb3', 'EuZn11', 'Cs5Hg19', 'CeI3', 'Ta5Sb4', 'GdS2', 'Sm10Pd21', 'Ni3B', 'NbW', 'Li2O2', 'Lu3Pd4', 'Rb3Au7', 'Pr10S19', 'GdH3', 'Mg149Bi', 'Mg2Ni', 'HfBe5', 'NdCd11', 'Ag3Sn', 'Re3Ge7', 'TcF6', 'V3Ga', 'Sc2Se3', 'GaPt2', 'PbCl2', 'AcZn3', 'GdPd3', 'NaCl3', 'AgF', 'LaH3', 'Ta3Ga2', 'ThTe', 'LuCo2', 'Sm5Si3', 'Dy3Ga2', 'AcSe3', 'Pm2O3', 'ErZn3', 'PrTl3', 'Nb2Se9', 'SrMg149', 'TaW3', 'Mo2As3', 'NaGe', 'Re3B', 'Nb3Ga2', 'HoP', 'DyZn3', 'IF7', 'PRu', 'Yb5Pd2', 'NdRh2', 'Tm13Zn58', 'In2Pt', 'MnRh', 'Ho3Co', 'Eu3Ga5', 'CoTc3', 'ZrOs', 'DyH2', 'TlP5', 'GdSn3', 'KB6', 'Tl2Cl3', 'MnSe', 'PmBi3', 'NbAu2', 'In2Br3', 'PmS2', 'HoAl3', 'P3Ir', 'Ce4Ge3', 'TmGa3', 'Zr7As4', 'PPd6', 'Ho3In5', 'HgI', 'Sc39N34', 'Eu4Bi3', 'DyAl2', 'SmSi', 'PtBr3', 'TiAu4', 'AgTe', 'Zn35Cu17', 'MgB2', 'HoGa3', 'URh3', 'Sc9Te2', 'Ti2Se', 'LaP', 'Mg149Pb', 'Lu3C4', 'Dy5Bi3', 'Tb5Ge4', 'PrGa3', 'TbHg', 'MnNi3', 'PaIn3', 'Mn4Al11', 'ZrW2', 'ScTc2', 'NdAl', 'UC', 'Be3Ni', 'GdTe', 'SrN2', 'UB2', 'SmPd3', 'CeCd2', 'MnPt', 'Ca5Ir', 'EuGa', 'ErTl', 'Yb13Zn58', 'HfC', 'BaAu5', 'Pm3Tl', 'AsF5', 'BaSe2', 'Mg2Si', 'ThIr2', 'BaHg6', 'LuCu5', 'Ga3Re', 'ThRh3', 'Be3Tc', 'BaCl2', 'DyPd3', 'CaTl3', 'Dy3Ge5', 'HgF2', 'P2S5', 'TmCd3', 'RhSe2', 'HoFe3', 'DyN', 'Ho2Ni7', 'KHg', 'FeB2', 'Sc3Co', 'Tb2C', 'MnS2', 'Pr2B5', 'Eu3Tl', 'PrS2', 'Er3Ga5', 'TiAu2', 'YNi5', 'Ti7P4', 'AcAg3', 'Ho3Pt4', 'LiRh', 'MnOs3', 'ErMg149', 'MgSe', 'SmCd3', 'MoBr2', 'VPt', 'NbRu3', 'Mn3Pd5', 'TbAu', 'ErRu2', 'LiH', 'SmB6', 'Te16Rh9', 'AlAg2', 'Er5Tl3', 'TcCl3', 'LiZn', 'InSe', 'CeHg2', 'WCl6', 'ZrCl', 'RhPb', 'Yb2Co17', 'Dy14Ag51', 'RbPb', 'VN', 'Y2Cl3', 'Ce2Co17', 'RbBi', 'Ag2F', 'YbMg2', 'TiCo3', 'PtS2', 'Cu3Ge', 'CeB6', 'MoRu3', 'AgO', 'V8N', 'HgBr2', 'Ta2H', 'TeI4', 'Mg149Sb', 'TmCu2', 'Pr9Ga4', 'BaB6', 'Th7Pt3', 'LuIr2', 'ErNi2', 'Zr4Al3', 'EuGe', 'HoTe', 'Ba4Bi3', 'CePt5', 'SmAu', 'SmHg3', 'LaGe', 'Te2Au', 'ZrBr3', 'GdIn', 'Ga7Te10', 'CoF3', 'Sm3Ga2', 'Ge3Pt2', 'DyAl', 'SmCd', 'ThSn3', 'NdIn', 'MoF6', 'Mg17Al12', 'Sn4Pt', 'ZnPt', 'NbAs2', 'Sm5Rh4', 'PrB6', 'ErZn2', 'DyAl3', 'Be2W', 'Mn3Ir', 'Ta2Co', 'CePd', 'Er3Os', 'InCl3', 'Ho3Pt', 'Ti3P', 'CsBr', 'CsBi2', 'NbFe2', 'SmCd2', 'Ta5S8', 'Tb3Rh', 'Ce3Zn11', 'AlN', 'ThPt', 'Tb14Au51', 'Tb11Cd45', 'MgTe', 'BaCd', 'TmB4', 'Th3In5', 'Co2N', 'ReF7', 'Bi2Se3', 'Tb5Si3', 'K8In11', 'ThAs2', 'OsRu', 'CeIr3', 'SrO', 'TbPd3', 'MgCu2', 'Nb5P3', 'Pt3O4', 'CoAs2', 'Li2S', 'CaHg', 'MnAl', 'Mg149Cd', 'BaN2', 'As2Os', 'VRu3', 'Ho5Si3', 'CrF5', 'FePd3', 'Tl3Sb', 'HfP', 'U3P4', 'ZrIr', 'Si3Pt2', 'Dy12Co7', 'PdBr2', 'Sc5As3', 'ErHg3', 'Si5Pt6', 'Y2Au', 'Si3N4', 'TlBr2', 'Y2Br3', 'Lu11Te4', 'YbPb', 'PmSe2', 'Tm3Ga2', 'AuI', 'EuGa2', 'EuZn5', 'V3As', 'LaAs2', 'CsCl', 'TmTe3', 'TmTe', 'YCd3', 'LuGa3', 'LuGe2', 'OsS2', 'TeO2', 'Zn6Mo', 'Sm3Co', 'YbP', 'Cs2Te', 'PmPd3', 'NiPt3', 'PmZn3', 'HoSb', 'Tb5Ir3', 'Y2C', 'P4S9', 'DyFe2', 'Nd3Zn22', 'AgPt', 'Dy2Co17', 'NaTl', 'Ti2Te3', 'Sr2Pb', 'K2Se5', 'ThHg2', 'FeSe2', 'YGa2', 'Ti5Te8', 'NiP3', 'Ge3N4', 'Zr5Sb3', 'Zr2Ag', 'Th3Bi4', 'NaP', 'CePb3', 'NaPb', 'Tm2C', 'HfAu', 'AlRe2', 'NbNi3', 'Sm3Pd4', 'CsO2', 'HoS', 'MgCl2', 'ICl2', 'ThBe13', 'Pr3Ni', 'Lu2Co17', 'AlNi3', 'PmP3', 'Tm3Pd4', 'ZrPt3', 'V3Ru', 'Zn13Co', 'Pr3Pd4', 'SrS', 'IrRu3', 'PbSe', 'TmHg3', 'UCl4', 'V5B6', 'P2Pt', 'Sc5Cl8', 'Cr3Ge', 'OF2', 'Yb3N2', 'P2Ru', 'Nb2O5', 'LaHg2', 'Li3In2', 'SmCu5', 'LuIn', 'YbAu3', 'NdGa', 'KS3', 'AuI2', 'Li3Pt', 'Ho2Co17', 'SmCu', 'Ce4Bi3', 'TaRu3', 'Ta3P', 'Pr5Sb3', 'LiIr', 'CrSb2', 'GdGa', 'IBr2', 'Gd2Zn17', 'NbS2', 'MgBe13', 'ZnCl2', 'Nd2S3', 'TcPt3', 'Li5Sn2', 'V4Zn5', 'TaBe12', 'LiRh3', 'BaO10', 'Ge5Ir4', 'Y2In', 'FeIr3', 'InPt3', 'YCu2', 'TcRu3', 'ScPt', 'KMg149', 'Zn11Rh2', 'PmTl3', 'CsIn3', 'Zr7P4', 'GePd', 'LaPb3', 'LuAu3', 'Nb2Al', 'Ti2Ni', 'BH3', 'ThCo', 'CoRe3', 'Ba3Sn5', 'Lu5Rh3', 'UAs', 'BPd3', 'Tl3Bi', 'Zn11Ni2', 'ZrIn', 'Lu3Os', 'NdIn3', 'MoBr3', 'ErB4', 'TiTc', 'Zn22Ni3', 'In3Rh', 'NbCr2', 'MnPd3', 'NbPt2', 'Ce2H5', 'PaC', 'Sm4Sn3', 'EuCd', 'LaIn2', 'RbF3', 'PbF2', 'Sm3Rh2', 'ReCl3', 'Zr3Au', 'Rb4Pb9', 'InTe', 'TbBe13', 'Lu5Pt4', 'NaIn', 'Re24Mo5', 'TmAg', 'Zr3Ge', 'Er3Ge4', 'Hf7Au10', 'ICl', 'NbIr3', 'Dy5S7', 'PCl5', 'HoBi', 'Ce3Zn22', 'LuSe', 'CeCd11', 'Mg3In', 'ScTe', 'Al2Cu', 'HfSb2', 'Nd5Bi3', 'CoO2', 'Na3B20', 'NdAs', 'Mg149Ga', 'UTe3', 'HfBi2', 'Yb2Zn17', 'AcH2', 'LaCd3', 'HoNi', 'PrIn3', 'AlCr2', 'Dy5Si3', 'Tm5Si3', 'ErZn', 'Ca5Au4', 'Sb2Br9', 'KBr3', 'SmS', 'ThZn4', 'CsP7', 'Dy2S3', 'LaB4', 'GdCu', 'SrCl2', 'Mn3O4', 'ThTc2', 'TiBe2', 'ZrN', 'CeSe', 'Rb9O2', 'Sn5O6', 'Sr5As3', 'Hf3Cu8', 'BeNi', 'Pr5Ru2', 'Th14Cu51', 'Nb2As', 'Sc2Te3', 'PdF4', 'Ta3Ge', 'ErFe2', 'BaP3', 'TcBr3', 'YGa6', 'Th2Zn17', 'Mg2Ga', 'Ag2S', 'Bi2Ir', 'EuIn2', 'FeSi', 'Ho5S7', 'Nb3Pt', 'VPt3', 'Ta7Fe6', 'KAg2', 'CF4', 'Sm10Se19', 'P3Ru', 'RuF6', 'SiC', 'Te2Ir', 'Dy2Pt', 'YbSn3', 'BiCl3', 'Be3Ir', 'Hf5Sb3', 'PdSe2', 'PaZn3', 'GdFe5', 'Er3Ga2', 'MnB', 'CdAs2', 'Ag3O4', 'ThSe', 'UB12', 'Tb3In5', 'Lu11Ge10', 'Cu2O', 'DySe2', 'SrB6', 'YSe', 'Nb7Ni6', 'TbCo3', 'HfCo', 'U3O8', 'Tb3Ga2', 'RhI3', 'TbMg', 'Tb3Ge5', 'Nd5Tl3', 'ThSi', 'Zr3As', 'Hf5Re24', 'PmMg149', 'Eu4As3', 'V2P', 'ZrI4', 'PrBi', 'SmSb', 'Zr6Co23', 'ErRh', 'NdH3', 'Rh3W', 'MgS', 'Ca2Pb', 'Li2Al', 'TmAs', 'HoSe', 'Zn11Ir2', 'GdNi5', 'Zr2Be17', 'SrN6', 'SmPt3', 'Al2Pt', 'Tc3Ru', 'Yb5Au4', 'LaI3', 'CeNi5', 'EuO', 'Nd3Rh2', 'GdBr3', 'HoB4', 'GdBe13', 'Mg44Rh7', 'CePt3', 'ScSn2', 'KN3', 'Hf2Fe', 'Zr10C9', 'TaGa3', 'TaP', 'Re4Si7', 'Be3Rh', 'V6Ga5', 'PaPt5', 'NaSe2', 'HfB2', 'LaPt2', 'AcAl3', 'ReF6', 'Lu5Bi3', 'Lu6Pb5', 'Ce3Ga', 'Te2W', 'LiP7', 'AgPd', 'YI3', 'SrPt5', 'CaSi', 'ZrI3', 'ThPt3', 'DyTl3', 'Rh17S15', 'CO2', 'Cu7S4', 'BeI2', 'ZnSb', 'TiPd3', 'TbH3', 'Sc11Ir4', 'SmP5', 'V3Pd', 'TmMg2', 'Er11Cd45', 'Sm5Ge3', 'Pd3Au', 'Ta2Br5', 'PrGa2', 'Sm14Au51', 'Hf2Hg', 'Al3Cr', 'DyCl3', 'TaRh2', 'VF4', 'Y3Ni2', 'AsCl3', 'FeAs', 'MgAs4', 'EuAs3', 'ScIn3', 'Hf3Rh5', 'ScRh', 'Mg3Hg', 'Zn13Fe', 'Sr2Si', 'CsHg', 'TeF6', 'MgPd2', 'MnRu3', 'Sn2Rh', 'ScZn2', 'HfPd3', 'BaSn2', 'Yb5Pt4', 'PdS2', 'Mg5Ga2', 'Zr2Pd', 'ScCd3', 'Gd2Te3', 'DyMg', 'TiZn16', 'U11Ni16', 'AcCl3', 'Fe3Si', 'Y3Ge5', 'HfNi3', 'PaAu3', 'K2Ga3', 'MgF2', 'Pr5Tl3', 'Ni5Sb2', 'Sc3Hg', 'Rb5Tl9', 'ErBi', 'YbTl3', 'Ga5Ir3', 'GdAg', 'GaRh', 'PmMg', 'Zr2Co', 'BiAu2', 'ZrRu', 'CeIn3', 'LaRh3', 'Ba5Sb3', 'YIn', 'GaIr', 'Mn2N', 'Ho5Pt4', 'BaBi3', 'TmS', 'ReS2', 'SmMg3', 'V2Ga5', 'Nb3P', 'CsSb', 'Ni3S2', 'VW', 'Ir3Se8', 'Zn8Ag5', 'Mg2Ir3', 'Y5Sn3', 'Zr3Tl', 'Re3P4', 'Ni4Mo', 'Li3Hg', 'Ca5Au2', 'Lu13Zn58', 'Er3Rh', 'Ti3O5', 'Th5Sn4', 'Dy6Se11', 'BaIn', 'Pr5Ga3', 'Dy3Pd4', 'Yb3P', 'MgBr2', 'BiPd3', 'Hf3As', 'ThS2', 'Zr2Cu', 'KSb2', 'HF', 'PaPt3', 'PdO', 'Zr5Te4', 'Nb5Si3', 'K2Se3', 'Tm5Bi3', 'HfSi', 'Ag2Cl3', 'VSe2', 'DyZn2', 'EuRh2', 'ErZn12', 'YbIr2', 'HfO2', 'CsI4', 'CdPt3', 'YbOs2', 'GePd5', 'IrSe2', 'AuCl', 'TbH2', 'LaCl3', 'RuF4', 'Cr5B3', 'Al2Ru', 'KS', 'TcN', 'HfI4', 'Tm3Ga5', 'Sr5Al9', 'Eu3S4', 'BI3', 'Cu2O3', 'MnAs', 'HoI3', 'Tb3Ni', 'CrP2', 'BaPt', 'CsH', 'SrIr2', 'B5H7', 'Ho7Rh3', 'GdOs2', 'BRh', 'YbAu', 'YFe2', 'Yb5As3', 'PtPb', 'RhCl3', 'GaI2', 'CoP3', 'YP', 'LaAu2', 'Ba5Ga6', 'Al5Rh2', 'DyFe3', 'TlTe', 'LiCd3', 'CuTe', 'SrSe', 'Eu5Pd2', 'Re2Te5', 'LaPd5', 'Zr3Sb', 'Th3Pd4', 'Sr3Pt2', 'ErSe', 'LaAl', 'VI2', 'Si2Ru', 'EuTe', 'TmH3', 'LiAs', 'Pb3Au', 'UN2', 'PmNi3', 'GePd2', 'BSe2', 'CaPb', 'NbCl5', 'CrNi2', 'BaAu2', 'CoGe', 'RhS2', 'Li3Sn', 'Ca2Bi', 'ThSb2', 'ZnAg3', 'Th7S12', 'HfS3', 'TbTe3', 'AlCo', 'UOs2', 'Y2O3', 'Cs3As', 'GdAu', 'SmGa2', 'CrSe2', 'Ag2Se', 'EuP3', 'OsCl4', 'Zn11Co2', 'UO3', 'ZnTe', 'CBr4', 'PaCo3', 'Tm5Tl3', 'CaBr2', 'ZrP2', 'Nd7Pt3', 'ThPd', 'PmCd3', 'Pr5Pb4', 'ScBe5', 'V5Si3', 'NO3', 'MnP4', 'Sr3Sn5', 'Mg149Ta', 'CaSn', 'LuZn2', 'YH3', 'CoH', 'LiGa', 'Mg149Nb', 'BaS3', 'Ho3Sn7', 'Lu2In', 'TmGe2', 'FeNi3', 'TbSi', 'GeI4', 'Ti2P', 'Tm5Ir3', 'Ca11Sb10', 'GdMg', 'SrS3', 'ThIr', 'Zn3P2', 'Sn2Pd', 'Th14Ag51', 'Ba21Al40', 'ZrCl4', 'ZrF4', 'YbAu2', 'MgRh', 'Pr2O3', 'FeCo', 'NiBr2', 'Rh2S3', 'CeMg3', 'Pm3Si', 'PdI2', 'TbAl', 'TbNi3', 'HoAu2', 'KZn13', 'Pr4Sb3', 'K2S', 'GdSe', 'Hf14Cu51', 'Tl4O3', 'YbTe', 'La3Zn22', 'TmCu5', 'LuS', 'SiPd', 'ThAu2', 'SrCd11', 'Zr21Re25', 'Sc12I25', 'AuBr3', 'Be3Fe', 'HfPt4', 'ZrIn2', 'Zr2Ni7', 'ErIn', 'InI3', 'Th7Ru3', 'TaCl5', 'La2Se3', 'FeBr2', 'GdTl3', 'Th5C', 'ScPd', 'La5Mg41', 'ZnAs2', 'Li21Si5', 'TbSe', 'Ho2O3', 'TbPt', 'Co3Pt', 'Ho5Bi3', 'Th14Au51', 'HoCo2', 'PrZn11', 'NdRu2', 'AlTc2', 'YbB4', 'VPt2', 'Gd2C3', 'GaI3', 'CrAs', 'Al4Ni3', 'PaFe3', 'Mg3Ir', 'La3Tl5', 'Tm2Au', 'YAg', 'HoGa', 'CsHg2', 'CoSn', 'InNi', 'Rb2P3', 'GdPb3', 'NbO2', 'Th2Pd', 'Ni3Pt', 'Te2Rh', 'HfTe2', 'Sm5Ir2', 'Ca3Pd2', 'DyB4', 'InPd2', 'PaTe3', 'TbNi', 'Cd5Au3', 'BaGa2', 'Rb8Tl11', 'SrTl2', 'Ho2Pt', 'Hf3As2', 'VCo3', 'DyAg2', 'SnI2', 'Al3Pt2', 'Cs4Sn23', 'TbAg2', 'Lu5Pb3', 'ScBe13', 'V3Se4', 'NbTe4', 'PaS3', 'VW3', 'Ce3Sn7', 'Tb3Ga5', 'GdZn', 'Tl2Pt3', 'Li2Ca', 'HfSe2', 'NbGa3', 'CuO', 'HfBi', 'Li15Pd4', 'YTl', 'La3Sn4', 'NaS', 'EuCd11', 'ScCo', 'Al12Re', 'MgB7', 'AuCl3', 'LiAu3', 'TbHg3', 'LaCu13', 'Yb5Ge4', 'LiMg', 'Sc2In', 'HfPt', 'Sn4Pd', 'ZrTe5', 'Gd5Pb3', 'Pr3Co', 'TmIn3', 'GdCu5', 'Nb3Ir', 'GaPt', 'In3Pd5', 'SnPd', 'AlMo3', 'CaPt5', 'BeP2', 'Mn3Si', 'Ba4As3', 'Be2C', 'Dy5In3', 'CuPd', 'Ho5In3', 'AlAu', 'CaN6', 'La11Sn10', 'YSn2', 'PrZn2', 'RbC8', 'FeB', 'PPd3', 'Er2Te3', 'NdGa3', 'CrH', 'TaPd3', 'Tb2Pt', 'Ce3Pd5', 'TmIr', 'Eu3As4', 'TmBr3', 'Sm13Zn58', 'SeCl4', 'AlPt', 'PaBe13', 'EuP', 'Zr5Zn39', 'Ti3Al', 'Yb4As3', 'ErTe', 'ErF3', 'PmS', 'Hf5Sb9', 'SrZn11', 'BaAs3', 'Lu5Ir2', 'Na3Pd', 'Tb2Sb5', 'Ba3Pb5', 'Yb2Pt', 'LuSn2', 'LiZn3', 'PrBr3', 'Nd5Sn4', 'CeSi', 'TbAu2', 'Fe2O3', 'Sm5Co19', 'Th2Hg', 'TmSn2', 'Ni2P', 'NdB4', 'Sc13Zn58', 'La4H9', 'Fe3Co', 'HgBr', 'WCl4', 'BBr3', 'LiN3', 'Sb3Ir', 'Hg4Pt', 'PrAg2', 'Se2O5', 'NaCd3', 'B2Os', 'Dy7Rh3', 'KSe', 'Hf3P2', 'Sb2Te3', 'Na3Hg2', 'Tb3Ru', 'Al2Au', 'SrZn2', 'MgIn2', 'NiSe2', 'BaPd', 'ZrSe3', 'Al2Os', 'Ho5Ru2', 'Pa3Sb', 'ScAl', 'Al11O18', 'Dy4C5', 'Ga5Pd', 'VRh3', 'AgTe3', 'SbRh', 'Co3W', 'EuCu', 'VCl5', 'NaN3', 'TmCd', 'LaF3', 'TiN', 'Rb2Se5', 'LaI2', 'Pd7Se4', 'SbPt', 'Ba8Ga7', 'BaNa', 'Tm3Ni', 'NdSi2', 'Ta2C', 'SrAs', 'Eu2Sn', 'LaNi', 'ThB4', 'Ti3Rh5', 'PdPb2', 'Mg2Rh', 'InF3', 'Zr7Sb4', 'Ce3Pd4', 'Te3As2', 'SrCd2', 'FeP2', 'PrZn', 'Nd3Ge5', 'Yb2Ge', 'GeH4', 'Tc2P3', 'TiAl3', 'Pd3W', 'Ho3Os', 'VCr3', 'RuCl3', 'GdTl', 'CeP', 'NbFe', 'TmSe', 'RbBr3', 'TmCl3', 'Zr5Re24', 'HoGe', 'Sb16Te3', 'AlCl3', 'ReB2', 'Y3Zn11', 'NaAu2', 'Sr6Mg23', 'TbFe3', 'Th2Ga', 'ZnSe', 'Sc5Sn3', 'Nd2Co3', 'Nb3Sn', 'MnP', 'USe2', 'NdAu', 'CdSb', 'TiC', 'Sn3Pt2', 'DyS', 'SmIn3', 'V3Si', 'Na3Bi', 'DyTe3', 'LaTe', 'TeSe2', 'SiI4', 'PrIn', 'Er3Pd2', 'MoPt2', 'KF2', 'HoOs2', 'Ga7Pt3', 'ZrZn22', 'CaTe', 'ScFe2', 'AlRe', 'Pr3Rh2', 'InI', 'FeSb3', 'Pr2Se3', 'CaPd5', 'Sm5Ir3', 'SnIr', 'NaHg', 'Er5Si3', 'XeF3', 'LaZn4', 'Ho3Ge5', 'TeSe', 'AlBr3', 'Ti3Se4', 'OsF6', 'Ta2Te3', 'V3O5', 'Fe2P', 'MgAg', 'Au2O3', 'As2Rh', 'BaSb2', 'Na7Ga13', 'PrOs2', 'Dy5Ir2', 'ThMg149', 'Sc3In', 'P4Ru', 'Cs2Se3', 'PrPb2', 'VCr', 'HoSi', 'LiB3', 'Pm3Au', 'CeO2', 'Hf7Cu10', 'Rb3Bi', 'EuPd2', 'Ce7O12', 'PrPt', 'K2O2', 'CoTe2', 'Sr11Sb10', 'Nd5Ni19', 'Y3Os', 'RuSe2', 'HgSe', 'Sb2Pd', 'Y3Pt', 'Hf2Co', 'Nb3S4', 'Hf5Sn3', 'Gd3Pt', 'CsS', 'Nd2B5', 'PbCl4', 'LiPt7', 'ZrIn3', 'Pr2Ni7', 'TiAg', 'ZnI2', 'UTe2', 'CaPt2', 'HoAu4', 'NdCu5', 'HfAs', 'SnBr4', 'ZrGe', 'YMg149', 'NbN', 'Cs2Te5', 'GdGe', 'LuCu2', 'TbCl3', 'NbB2', 'Bi2S3', 'SrCd', 'CoN', 'Pr3In', 'PmF3', 'Gd2Ni7', 'Be5Co', 'Sc57Ru13', 'Nb2N', 'Tc3Ir', 'PrIr2', 'Dy5Pb3', 'V4P3', 'Mn4N', 'Hf6Co23', 'Si12Ni31', 'Sm5Pb4', 'BPd6', 'BaTe2', 'Hf5Ir3', 'TiB2', 'CdSe', 'Th5Bi3', 'H3N', 'V5Te4', 'Bi8Se9', 'PI2', 'Sr4Bi3', 'CeNi2', 'FeS', 'GaP', 'ErCo3', 'UGe3', 'ThCd3', 'La2I5', 'Ti5S8', 'SiH8', 'ZrH2', 'Tb2Au', 'Pr3Zn22', 'Sn2Ir', 'Nb5As3', 'BaPt5', 'PBr3', 'AlAg3', 'Ag2Te', 'Ti3Pb', 'NiF3', 'P2Pd', 'TaAl3', 'SbF4', 'K49Tl108', 'LiAl3', 'AgI', 'HoNi5', 'Pr7Pt3', 'GdAu2', 'ScSb', 'ErCu5', 'EuSi', 'HfTc', 'CeAu3', 'Be12V', 'LaRh', 'LuB2', 'DySe', 'SbPd', 'SmAl2', 'VIr3', 'Bi4Te3', 'Li2In', 'EuC6', 'Pr7Pd3', 'MnB4', 'NO2', 'BaSe', 'DyAu', 'KBr', 'Si3Os2', 'NbO', 'Be2Cu', 'PaH3', 'Ir3W', 'V5Se4', 'YbHg3', 'P2S7', 'ZrCl2', 'Dy5Ir3', 'PrPb3', 'ZnP2', 'ErTe3', 'TcIr3', 'SmRh3', 'NdTl', 'SmMg', 'BaAs2', 'MgSe2', 'WO2', 'P3Rh', 'EuBe13', 'TaN', 'LuNi', 'AcH3', 'ReSe2', 'Hf4Al3', 'CaGa', 'LuIn3', 'AsRh2', 'SrPb3', 'La7Ni3', 'Hf3P', 'Ba20As13', 'Ce3Ge5', 'ScRh3', 'Ho3Ru', 'Co3S4', 'GeO2', 'PrCu5', 'Nb3Cl8', 'Ca11Ga7', 'Sr19Li44', 'K4Sn23', 'Mn3Co', 'Cs2Te3', 'CeCu6', 'Ge2Mo', 'YH2', 'CaMg2', 'Cu2Sb', 'CuBr2', 'MgTe2', 'TbF3', 'Dy14Au51', 'Nd3Tl5', 'HfBe13', 'HfSn2', 'NiGe', 'TaCo3', 'CeB4', 'Ga3Co', 'Y2S3', 'Pa3Si', 'Ti3Pt', 'ZrAs2', 'Zr7Cu10', 'In7Pt3', 'TbGe', 'CaB4', 'GeS', 'BeCo', 'Y3Rh2', 'RbSb', 'Al6Ru', 'CaSe', 'CaBe13', 'VAs2', 'ErH2', 'Zr2N', 'Ti2Ga3', 'Nd5Si3', 'PmAg3', 'MoPd2', 'Cr2N', 'Sc2Pt', 'Sr4As3', 'Tb5Ir2', 'V3Pt', 'Lu2O3', 'SiIr2', 'GdGa6', 'Er2Pt', 'BaGe', 'Zr14P9', 'Pd4Se', 'Y5Sn4', 'YbZn', 'HRh', 'H4C', 'CaCl2', 'EuAl4', 'Ho11Sn10', 'HfRh', 'La4Sb3', 'Ca5Zn3', 'Li3Au', 'SrCu', 'TbOs2', 'SrRh2', 'RbBr', 'NbZn2', 'NiBi3', 'Ag2F5', 'TcCl4', 'Co3Mo', 'Tm10S19', 'Er5Pb3', 'Sb2Ir', 'Pa3Sb4', 'YbSi2', 'Th3N4', 'Sb2Rh', 'CaAu5', 'Mn2Nb', 'HfIr', 'PrRh', 'Re3Ru', 'Bi4Ir', 'Er2Ni7', 'Si3Ru2', 'Dy2Al', 'Eu2N', 'Ho4C7', 'NiBi', 'TcP4', 'EuAg', 'ZrCo2', 'TlCl2', 'TiCl3', 'Dy3Co', 'Y5Bi3', 'ScF3', 'Mg3Ru2', 'Hf3Pb', 'LaSb', 'Pr3Os', 'NbBr4', 'Y5Ge4', 'Ge22Rh17', 'OsBr4', 'ZrO2', 'TbMg3', 'HfCl4', 'RbO2', 'SrAs3', 'NaF', 'Mo8O23', 'Nb3S5', 'Zr2Se', 'La4Ge7', 'Y15Ni32', 'ScGe', 'ScAu2', 'Th2Al', 'Ba5P4', 'SmZn', 'Th7Rh3', 'ErPd3', 'TiI4', 'Ge2Pt3', 'Gd2Co17', 'K2Te', 'Nd2Zn17', 'Pa3Ge', 'Yb5Pt2', 'Na3As7', 'ThN', 'Er3Pd4', 'LuTl', 'CdO', 'Gd3Al', 'BF3', 'FeGe', 'Ga2Ir', 'Al2O3', 'V3Mo', 'Ta2Au', 'USn3', 'TiSi', 'SrGa2', 'NdN', 'Ce3Os', 'As2S3', 'TbCd', 'Ti6O', 'USe3', 'ZrTe', 'Er2S3', 'AlP', 'Nb7Co6', 'Tm2Mg', 'Y3Pd', 'UPt5', 'YIn3', 'Th2Co17', 'Ca5Rh', 'Ta2P', 'WBr2', 'Ho5Ir2', 'Ba3P2', 'Ho3Pd4', 'SmPt2', 'SrAu2', 'ThBi2', 'CrBr3', 'TeF4', 'Nb3Se4', 'HfAg', 'GeI2', 'NaMg149', 'La5Sn4', 'Tm5Ge4', 'UPd3', 'ErAs', 'ErAl2', 'XeF4', 'Nd14Au51', 'AsS2', 'YCu', 'Mg5Rh2', 'PrH3', 'CuSe2', 'LiF', 'TbPd', 'V3Ir', 'Li7Si3', 'AlPd5', 'Tm5Pb3', 'Tb3Ir', 'SrPb', 'Rb5Hg19', 'Y2Zn17', 'Eu2Si', 'Li3Mg', 'Ce2Sn3', 'LaAg2', 'K3As7', 'Al4C3', 'KP15', 'Cs3Sb', 'YCd2', 'LuAl3', 'Re3Br7', 'Al13Fe4', 'InAu3', 'Sc4C3', 'CaZn5', 'LaTe2', 'Y5Sb3', 'Nd3Ni', 'TaH2', 'La7Ni16', 'BeO', 'Ga2Te3', 'CeAg2', 'Rb2O', 'Re3Os', 'Rb3As11', 'YbIn2', 'ZrMo2', 'MnAl6', 'LuB4', 'Tm2Pt', 'Mn23C6', 'As2Pd', 'Cs2Se5', 'Eu2Cu', 'Sr5Si3', 'LuI3', 'Zr2Ga3', 'Yb2Ga', 'OsO2', 'GaAg2', 'Tb12Co7', 'Sm2O3', 'Ho14Ag51', 'ThC2', 'Tc3P', 'FeSn', 'CsCd13', 'CeBe13', 'Pr2Co17', 'BW', 'GaCl2', 'ErGa', 'NdPt2', 'ZrAl3', 'Sm2Se3', 'TmTl3', 'ZrTe3', 'Lu3Ir', 'Dy5Ge3', 'TiAu', 'MoO2', 'NbPd3', 'PRu2', 'ErSi', 'NiP2', 'PaRh3', 'AcAu3', 'CePt', 'Li3Sb', 'SmAu3', 'Tc3Rh', 'Hf2Ag', 'MgCd3', 'NbB', 'TaI5', 'Pr2C3', 'YbCu', 'Re3As7', 'Mg149Ag', 'AcTe3', 'MgCd', 'OsO4', 'MnV', 'HoIn', 'Nd5Sn3', 'NdZn3', 'GdAs', 'Mg149Re', 'LuH3', 'PSe', 'Sc6Pb5', 'CsI', 'PmH3', 'PaCl4', 'TmAl3', 'NdAl2', 'CrGa4', 'Cs2Hg27', 'Nd7Pd3', 'Sm2Ni7', 'ThH2', 'TmGe', 'V3Fe', 'ScRu2', 'Sc3Al', 'La3Ir2', 'NbPt3', 'YRh3', 'Er3Ni', 'USe', 'LuCd3', 'EuPd', 'MgCd2', 'YbRu2', 'Ti2Co', 'SnPt3', 'NdSb', 'LaAl3', 'ErP', 'Rb2Au3', 'UCl6', 'NiSb', 'NbI5', 'PrAl3', 'GdBi', 'NdS', 'PaSi3', 'DyRh', 'Li2Pt', 'ReO3', 'Ce5Ge4', 'In3Ru', 'ThTl', 'Y3Ru', 'LuPd3', 'Eu3Sn5', 'SrC6', 'Li15Au4', 'NaH', 'BaCu', 'Sr11Bi10', 'Pr10Se19', 'TbBi', 'ThI4', 'CeRu2', 'Th2Au', 'MgNi2', 'ZrAu4', 'Y3Pd4', 'Mg21Zn25', 'EuB6', 'Te2Mo', 'V2F7', 'AlCu', 'NbH2', 'NdCu2', 'Ir3S8', 'GdRh2', 'Li3Al2', 'K2Te3', 'ZrGe2', 'TiIn', 'Sb7Pd20', 'ZrSb', 'SeF4', 'YbF2', 'Yb3Zn11', 'Be2V', 'ThSb', 'ZrSn2', 'Bi4O7', 'ScAs', 'Pb2Au', 'Th2S3', 'Mn3Ge', 'Y11Sn10', 'SmAs', 'ScRe2', 'Cu2P7', 'Tb3Pt4', 'Zn3As2', 'Pr5Sn3', 'Dy5Sb3', 'Te8Ir3', 'GdSi2', 'TaRu', 'NdGe', 'Pr4Ge3', 'Sn4Ir', 'Ga7Pd3', 'Ag3Au', 'In2Se3', 'TiS', 'Pr3Al11', 'Sn2Au', 'YbPb3', 'AcN', 'As2O3', 'YRu2', 'BaGe2', 'Ta3N5', 'DyAu2', 'Sc2Al', 'RuBr3', 'EuBr3', 'Dy2Te3', 'Lu3Pt4', 'CaGe2', 'ZnAu3', 'ThGe2', 'Si2Mo', 'Mg149Hg', 'PrCl3', 'P2O5', 'Mg149Zn', 'YbMg149', 'Lu4Co3', 'Y7Rh3', 'Ce3Al11', 'UCl5', 'Yb2Ag7', 'RbGa3', 'CrPd3', 'TmAu3', 'Zr3Bi', 'Sc5Ge4', 'LaMg', 'NdH2', 'RbN3', 'LaZn11', 'MoI2', 'Mg5Hg3', 'SmTe', 'Ti2Sb', 'TbAu3', 'Sr3Ag2', 'Al3Ir', 'Tb5Pb3', 'YFe3', 'Al13Ru4', 'CaP', 'BaTe', 'NdRh3', 'Pd4S', 'ScZn6', 'YMg3', 'MnN', 'MnCl2', 'LaCu2', 'BaO', 'SiPd3', 'CuI', 'CoSi2', 'PrH2', 'Be2Ru', 'ThAl2', 'VH2', 'SiF4', 'ErH3', 'HgF', 'LiPd', 'TlI3', 'CdAu3', 'As2Pt', 'HfSe3', 'Tb2Se3', 'CeAu', 'YbF3', 'EuBi3', 'ThHg3', 'YCd', 'Co2P', 'NbAl3', 'ErB12', 'RhF6', 'P2W', 'Sm3Ir', 'SbCl5', 'Rb15Hg16', 'Ga3Tc', 'Mo2C', 'BiS2', 'CaB6', 'NdSb2', 'NbI4', 'UP3', 'SiMo3', 'ScGe2', 'YbB6', 'K17In41', 'Zr3O', 'PI3', 'V2N', 'TmPd', 'Zr3Te', 'Mg2Ge', 'Si2W', 'FeO', 'CeRh3', 'AsPd2', 'GeAs', 'SrAg5', 'GaTc', 'Ho6Se11', 'ErAu', 'Sr3P2', 'Te4Pt3', 'BaAg', 'YFe5', 'HfH2', 'BaHg2', 'EuAs', 'Tb2Si3', 'YCo', 'LaAs', 'TlF', 'V3Ni2', 'Li15Si4', 'MgP4', 'Th3Sb4', 'V3Sn', 'ZrSc2', 'Er3Ir', 'TbGa3', 'Na2O2', 'SiPd2', 'Mn29H2', 'SmHg2', 'Sr7Pt3', 'Sc44Ir7', 'WBr6', 'PrI3', 'CaP3', 'SrSb2', 'PtI3', 'Sm11Sn10', 'ErTc2', 'Pr11Cd45', 'Mg149V', 'Sr7Au3', 'TbS2', 'TmNi3', 'UP2', 'HfZn2', 'AcBr3', 'ZrBi2', 'Co2Si', 'Cs2Te13', 'ThI3', 'Nd5Ru2', 'ScZn3', 'PrF3', 'SbCl3', 'UAs2', 'YbH2', 'BaO2', 'SmZn12', 'Ce2Br5', 'Tm2Zn17', 'Ba5Bi3', 'TbSb', 'Nb3Rh', 'EuHg', 'HoTl', 'Tb5Bi3', 'AlAu2', 'Y5Ir3', 'YOs2', 'AcGe3', 'LuAl', 'Au2S', 'PrAg', 'Be12Mo', 'Ti5Si4', 'CsTe4', 'BeF2', 'TaPd', 'ReRu3', 'NdHg', 'YPt', 'DyHg3', 'LaZn13', 'DyB12', 'V2Se9', 'La10S19', 'ErRh2', 'LuBi', 'MnGa', 'TbTc2', 'DyP', 'NdBr3', 'DyGe', 'TbAg', 'CuF2', 'TiPt', 'YN', 'Co3Ni', 'Ti2Be17', 'TbSn2', 'HfSb', 'RbCd13', 'SiNi3', 'Hf3N4', 'VBr2', 'Zr3Fe', 'Ti5Si3', 'CuP2', 'PtI2', 'Eu8In3', 'Na3P11', 'Ac3Sn', 'DyTc2', 'HfMg149', 'EuSn3', 'Ce2S3', 'Li2Ga', 'Eu5Bi3', 'V3Os', 'La5Ir3', 'DyZn12', 'LaCu5', 'EuAg2', 'Tm3Al2', 'Nb2Se', 'YbRh2', 'Zr3Sc', 'AlSb', 'Ti3Ir', 'Tb5Sn4', 'Sm3In5', 'SrP3', 'Rb2Se3', 'Sc3P', 'Tl2Se3', 'Ti2Rh', 'La3Ge5', 'PBr7', 'USi3', 'Be3Co', 'Nd5Sb3', 'UF5', 'NdSe2', 'Tb5S7', 'ZrZn3', 'LuTc2', 'FeRh3', 'Ho2Au', 'CuPt7', 'Cr3C2', 'YRh', 'Ti2Sn', 'Sb7Mo3', 'Mn4Si7', 'TiBe12', 'SmCu2', 'BiSb', 'NdO2', 'Gd2C', 'Mg3Rh', 'TiOs', 'LaP5', 'In3Pd2', 'EuP7', 'TbN', 'Zr5Sn3', 'HfZn3', 'FeP4', 'WS2', 'Tb5Ru2', 'Na3Cd', 'Ho2Se3', 'TbIn3', 'NbCl4', 'Fe2B', 'ThIr5', 'Ti3Au', 'CaCd2', 'CaCd', 'Ca5Ga3', 'InBr3', 'Ag2Br3', 'HoCd', 'CePd7', 'Zr3Ga2', 'ScP', 'TiO', 'Mg5Pd2', 'Na3Sb', 'AlIr', 'Hf5Sc', 'BaSn', 'PmCl3', 'BiSe2', 'LaZn', 'ThSn2', 'GdAl3', 'Sb2F7', 'TaBr5', 'CaPd2', 'P7Pb', 'RbSn', 'Tl2Te', 'ZnO', 'TiI3', 'Mg149Au', 'UB4', 'GeBr2', 'TlI', 'Dy5Sn11', 'Pa3P4', 'Cs2Sb', 'CdAg3', 'HfAl3', 'SnSe', 'Pr3Tl5', 'Dy3Pt4', 'ThRh2', 'As2Ru', 'Nd5Ge3', 'Cs3O', 'TlCl', 'Al3V', 'SnSb', 'Tb3Os', 'PrBe13', 'FeSb2', 'La5Pb3', 'Tc3B', 'CaN2', 'TbTe', 'ScB2', 'Na3P', 'GeCl4', 'LuP', 'PrSn2', 'TaPt3', 'Er5Ge4', 'TcRu', 'ErCd3', 'Ti7Cl16', 'SbF5', 'MnI2', 'BW2', 'CsBr3', 'Ba5Sb4', 'NbBr5', 'TeO3', 'Tm2S3', 'CoPt3', 'U3Si', 'NiAs2', 'KHg6', 'TiBe3', 'Pm3Pb', 'Li2Tl', 'CeO', 'SnF3', 'Ho3C4', 'Th2Zn', 'GdGa3', 'Mg149Be', 'VSi2', 'ErCd', 'Zr3As2', 'GdZn2', 'Sr3In11', 'AcMg', 'WCl2', 'EuI2', 'ZrPt8', 'Ga2Ru', 'CoAs', 'Th3Si2', 'Ba2Pd', 'Nd11Sn10', 'LuGa', 'Na2Au', 'Ni4B3', 'GdNi2', 'Br2O3', 'KCl', 'TbZn', 'SrMg2', 'RhBr3', 'In7Pd3', 'Ni3Mo', 'GdRh3', 'TbB4', 'Y3Ga2', 'Rb2Se', 'Nb5Ge3', 'ScPt3', 'Nd2C3', 'ThAs', 'YAl3', 'NaBr', 'Be2Nb3', 'MnF2', 'InCl2', 'Al21Pd8', 'Ca31Sn20', 'AuF5', 'CoB', 'CaHg3', 'Ce5Sn3', 'RbP15', 'Ni3S4', 'GeIr', 'In7Te10', 'Ni3Se4', 'Rh3Se8', 'PrCd2', 'CeBi', 'TmAg2', 'PaI3', 'Dy2Au', 'PbS', 'Eu3Au2', 'Fe2Re3', 'Mg149Sc', 'Zr3Cu8', 'Ac2S3', 'CuSe', 'BeS', 'P2Rh', 'TaTe2', 'Sn4P3', 'Sb2O5', 'TiIr3', 'Y3Ge4', 'RbSb2', 'MnPt3', 'P2Se5', 'SiAs2', 'Dy10Si17', 'TcS2', 'SmGa3', 'Sn4As3', 'Li13Si4', 'Ba2Zn', 'FeH', 'PaBi3', 'NdMg', 'BaLi4', 'Co2Ge', 'Y2Ni7', 'Ga9Ni13', 'V8Ga41', 'CsSn', 'Tb3Sn7', 'PrSb', 'TlPb', 'PrAs', 'Er3Co', 'Gd10S19', 'YF3', 'Re2C', 'Li3P', 'UMn2', 'KrF2', 'ErOs2', 'GdN', 'Ca2Hg', 'NaB15', 'NdAg', 'TaOs3', 'LiAg', 'AlRu', 'RbS', 'La7Ir3', 'U4N7', 'Eu4Ir', 'BaPt2', 'Pm3Ge', 'Ta2O5', 'TmPt3', 'IrI3', 'Mg54Ag17', 'Hf2As', 'LaB6', 'YbIn', 'SrGe', 'NdCd', 'Lu5Ge4', 'SrN', 'YTc2', 'BaS2', 'VAs', 'TiW', 'Nb3I8', 'TaZn2', 'Y11Cd45', 'TmI3', 'Sm2C', 'RbBi2', 'Pa3Al', 'ScCl3', 'PbSe2', 'CoF2', 'Mg149Pd', 'La5Tl3', 'HoNi3', 'HBr', 'MnAl12', 'Ta3W', 'HfGa3', 'GdSi', 'GdNi', 'Er3Rh2', 'Ga2Cu', 'Li5Ga4', 'NdTl3', 'TmAu4', 'InRh', 'TmAl2', 'Te2Os', 'TiSb2', 'LaS2', 'Sm5Sn4', 'CeSe2', 'LaAl2', 'Cs2O', 'Dy3Ge4', 'Hf5As3', 'HoMn12', 'Ta21Te13', 'LaSb2', 'PmAl3', 'HfN', 'GdPt2', 'Mg2Au', 'Pr5Ni19', 'IN4', 'GaAs', 'Ti5Sb3', 'Pr27Se40', 'Na3As', 'SiO2', 'NdSn3', 'TaFe2', 'ErMg3', 'MoIr', 'LiGe', 'ScAl2', 'Sc3As2', 'BaTl4', 'CaNi2', 'YHg3', 'Re2P', 'Al11Re4', 'DyPb3', 'LuAl2', 'Tb2Ni7', 'BaIn4', 'CdF2', 'NiI2', 'MgPd3', 'CuAu', 'Tb2In', 'ErPt3', 'PrMg3', 'GdAl', 'ReIr', 'La5Si3', 'V3S4', 'Pt3I8', 'Mg149Se', 'Zr2Au', 'NaHg2', 'SO2', 'CdNi', 'Lu2Te3', 'LuRe2', 'CaAl2', 'HoCl3', 'Sm7Rh3', 'Fe3Ge', 'DyNi', 'Ni5Ge3', 'K3Bi', 'Mg149Pt', 'CuS', 'RuF3', 'TaGe2', 'ErAu3', 'Sc57Rh13', 'ThPb3', 'LaTe3', 'GdF3', 'Ni3Sn', 'Re3Pt', 'NaHg3', 'GdSn2', 'ThPt2', 'AgAu', 'Sc5Re24', 'Na2Se', 'SrZn13', 'ThRh', 'Zr5Pb3', 'Ta2Al', 'BaZn5', 'MgO', 'Ho2Zn17', 'B13C2', 'NdPt', 'HoIr', 'TeBr4', 'In2Te5', 'YbS', 'Cr2Se3', 'YNi3', 'TiFe', 'Dy2Ni7', 'Gd2Tl', 'Hf3Si2', 'EuSe2', 'CeH2', 'PmBr3', 'BePd2', 'BaBr2', 'IrF6', 'CaSn3', 'Pt3Rh', 'Ti3In', 'YGa', 'TbAs', 'ClO3', 'SrO2', 'SrSn', 'TiP', 'LaS', 'PrPt2', 'TaBe3', 'Ho5Sb3', 'SrCu5', 'LiPt3', 'PbI2', 'Pt2W', 'DyAg', 'Mg149H', 'Na8Hg3', 'ThPd3', 'BaI2', 'Lu2Pt', 'Mg2Ga5', 'FeNi', 'V3B4', 'TbRu2', 'EuMg149', 'ZrB2', 'KBi', 'InSb', 'K2Se', 'ZrPt', 'PmI3', 'ErS2', 'ErRe2', 'KI', 'BaP2', 'Sb3Rh', 'Ta27S50', 'BaC6', 'RbGe', 'HoCd2', 'Sc2Ni', 'Ca3Pd', 'Ta3Sb', 'U2C3', 'HfBr4', 'Nd3In5', 'Tb2Cl3', 'IrW', 'Mg3Bi2', 'Tm5Pt4', 'MoRh', 'LuTl3', 'TlBr3', 'V5Se8', 'Ba7Cd31', 'MgHg', 'PrSe', 'LuGa2', 'Pr2I5', 'As3Rh', 'UBr4', 'Zn7Tc', 'CeN', 'AsS', 'TePb', 'Te2I', 'YAl2', 'PbAu2', 'CrSi2', 'ZrCl3', 'CoAs3', 'Ti2Sn3', 'PrCd11', 'Zr2Te3', 'NdGa2', 'Ba3Ge5', 'Tm2Se3', 'K2O', 'Dy2In', 'HfAu2', 'TcBr4', 'KPb', 'HfNi', 'Ti5Sn3', 'Ce4H11', 'LaHg3', 'AsI3', 'Th3Au4', 'TmFe3', 'Cs2O2', 'CoSi', 'SiS2', 'MnSi', 'CsSi', 'Dy2C', 'Sm10S19', 'KSi', 'UH3', 'HoIn3', 'NbIr', 'FeRh', 'YbSb2', 'CdPt', 'Si3Mo5', 'TaSb2', 'Yb3Ni', 'ThSe2', 'Ge4Se9', 'Ce5Sn4', 'YbZn2', 'GaPt3', 'Ni3P', 'GeAs2', 'Li2Pd', 'Fe2W', 'Hf21Re25', 'SiNi', 'FeCl2', 'Tc3Ni', 'UF4', 'AcCu3', 'Na15Sn4', 'NbP', 'TaSn2', 'Pr7Rh3', 'Rb2Te3', 'Li3Bi', 'Ti2Ag', 'NaAg2', 'Ga31Mo6', 'BiO2', 'HoS2', 'Nd10Se19', 'TmZn3', 'SrPd', 'MnV3', 'Nd5Ir2', 'InCl', 'Hf5Ga3', 'ThS', 'Yb2Si', 'Te3Pd13', 'HoRh', 'ErCu2', 'WO3', 'Zr8Bi13', 'Pr4Ge7', 'Sr2Sb3', 'EuCd3', 'Fe13Mo9', 'Al3Ni2', 'Zr3Rh', 'Gd2Se3', 'Ga3Ru', 'CoO', 'Ba4P3', 'MgAu3', 'AsF3', 'AlFe', 'TmZn2', 'Ho3Rh2', 'La2Sb', 'CrF3', 'Ni3Se2', 'LuIn2', 'La3Pd4', 'HgO', 'Sm3Zn22', 'YSe2', 'Ce4Ge7', 'BPt2', 'NiO', 'U17O31', 'Tm5Ir2', 'CrIr3', 'Sc2O3', 'Er2In', 'WI4', 'Fe3O4', 'HfRu', 'GePt', 'LaH2', 'FeF6', 'YTl3', 'GdSb', 'Th3In', 'SmI3', 'NiPt', 'UCo2', 'PtF5', 'CoCl2', 'ZrCd3', 'PrPd3', 'Ti5Re24', 'Lu5Sb3', 'ZrBi', 'Cs5Sb8', 'ThGa3', 'Er12Co7', 'ErNi5', 'TmMg3', 'SmSn3', 'SrPd2', 'TbPb3', 'Eu5Sb3', 'Cs2As3', 'NdRh', 'CoSn3', 'RbIn4', 'MoAs2', 'Er5Sb3', 'MnO2', 'EuF3', 'Ba3P14', 'Sn4Rh', 'SmAl', 'Sm3Os', 'ErCo2', 'SiBr4', 'Zn49Pt29', 'TiCu4', 'Al4Tc', 'Ba3Ag2', 'BaAg5', 'CeGa6', 'ScNi2', 'K10Tl7', 'PbF3', 'ThCl4', 'Mg149Sn', 'Er3C4', 'PtO2', 'Ru3W', 'Ca2Sb', 'Dy2Zn17', 'CeSb2', 'Ni3Sn4', 'CaAg2', 'CdCl2', 'Sb2O3', 'HCl', 'Ta3Si', 'NbSn2', 'BaF2', 'Ca2Ag7', 'Gd2O3', 'CeTe', 'CoP2', 'Mg149Cl', 'Ba4Al5', 'Tb2Te3', 'PrSb2', 'SCl4', 'Nd10S19', 'GeS2', 'AsPd3', 'Ce2O3', 'Ag2O', 'Li7Sn2', 'CsF', 'Ce16Ru9', 'Ca5Sb3', 'ErGa2', 'PdPb', 'Co3O4', 'TiAs', 'LaGa', 'NdPd', 'Ta2Se', 'Ca4Zn51', 'CaCu', 'Li2Ga7', 'Tl2Pd', 'ThFe5', 'ErAu2', 'SrSn3', 'B3Os2', 'HoCo3', 'Na2Tl', 'TaIr', 'Rb3As7', 'Nb5N6', 'YTe3', 'ZrPd3', 'Ga3Ni2', 'HfS', 'Mg3As2', 'EuZn', 'PmAs3', 'SrI2', 'Ti3Pd', 'B4Rh5', 'Cs3Bi', 'Sc3C4', 'Ti5Se4', 'Pa2S3', 'CeRh', 'P2Ir', 'UAu2', 'TmRh', 'MnIr3', 'V3Sb', 'YbNi2', 'Y5Pb3', 'Cu15Si4', 'CeTh3', 'La2O3', 'HfGa', 'Zr5Ir3', 'TiGa3', 'WF4', 'Al3Pt5', 'Si2Pd9', 'TbNi5', 'NdSe', 'CeSi2', 'CeCo2', 'PmGa3', 'Tm11Sn10', 'NdPt5', 'TcP3', 'RbAu', 'Th3P4', 'YPt3', 'Ce2Se3', 'Tm5Sn3', 'Yb3Pd4', 'Tb2O3', 'H2O', 'TiGa', 'ThZn2', 'CeP2', 'ZnAu', 'PmSe', 'Ba9In4', 'Sb7F29', 'Zn3Rh', 'TbCd3', 'EuCl2', 'LiO8', 'DyCu', 'RhF3', 'Ti5Ge4', 'ScN', 'Be3N2', 'La3Pt4', 'Zr2Se3', 'Al8Mo3', 'ThP', 'PtF6', 'CeAl3', 'Pm3Ga', 'Hf3Sb', 'YbPd', 'KF', 'Tc3Pd', 'AuBr', 'TmRe2', 'TaSe2', 'GdCd2', 'CeS', 'SnBr2', 'Ba2Hg', 'VB', 'RbAs', 'YbTl', 'YbSe', 'LuPt3', 'MoO3', 'Er2Al', 'PaNi3', 'Mg149S', 'UPt3', 'TiRh', 'URu3', 'Tb8Se15', 'CaZn2', 'PrNi', 'TaRe', 'P4S7', 'Al3Ru2', 'HoPb3', 'BaPb3', 'Nb3Br8', 'BeAu', 'Ti2Bi', 'Ca2N', 'Sc44Os7', 'VRh', 'Ta2N', 'Ca5As3', 'Pr5Sn4', 'PmAu3', 'Pr3Si2', 'Pr3Tl', 'CeCu2', 'LaRh2', 'Eu3Rh', 'Mg3P2', 'BeCl2', 'NaI', 'MnF3', 'Ti45Se16', 'Al2Se3', 'SbPb', 'Na2S5', 'MoSe2', 'NaSn', 'ReN', 'AcMg149', 'Zr3Al', 'ErAl3', 'TbAl2', 'Mo3P', 'BPd2', 'TiIr', 'LuFe2', 'NiSb3', 'Li3Ga2', 'Tb7Rh3', 'WC', 'DyIn3', 'Li3N', 'P3N5', 'LiB', 'TmNi', 'CaPd', 'TbNi2', 'HfTc2', 'Zn2Pd', 'TbRh', 'Re3Ni', 'CeBr3', 'V5Te8', 'SrPt2', 'Tm3Ge4', 'YCo2', 'Cd8Ag5', 'WSe2', 'KAu5', 'VTe2', 'CaRh2', 'Gd2Cl3', 'GdTe2', 'PaN', 'Nd5Pb3', 'Ho10Si17', 'LuCd2', 'Tm5Pb4', 'DyGa', 'Ba3Ge4', 'ZrZn', 'NbZn16', 'MgIr', 'Lu4C7', 'SrP2', 'TaCr2', 'CrH2', 'Al9Ir2', 'BaCd11', 'LuSb', 'TmCo2', 'Al3Ni5', 'Er5Ge3', 'LiMg149', 'NdSn2', 'DySi', 'ErHg', 'DyMn12', 'Sc2Te', 'LiPd3', 'CaAs3', 'NdNi5', 'LaTl3', 'K3As11']\n"
          ]
        }
      ]
    },
    {
      "cell_type": "code",
      "source": [
        "# Initialize an empty dictionary where each key is a column name and each value is an empty list\n",
        "D={'density_atomic':[], 'band_gap':[], 'formation_energy_per_atom':[], 'material_id':[], 'formula':[]}\n",
        "\n",
        "# Iterate over the 'docs' list (which presumably contains document objects)\n",
        "for doc in docs:\n",
        "    # For each document, append the relevant attributes to the corresponding lists in the dictionary\n",
        "    D['density_atomic'].append(doc.density_atomic)\n",
        "    D['formation_energy_per_atom'].append(doc.formation_energy_per_atom)\n",
        "    D['band_gap'].append(doc.band_gap)\n",
        "    D['material_id'].append(doc.material_id)\n",
        "    D['formula'].append(doc.formula_pretty)\n",
        "\n",
        "# Convert the dictionary to a pandas DataFrame\n",
        "mp_query = pd.DataFrame(D)\n",
        "\n",
        "# Convert the 'formula' column to string type, then call the 'unique' method to get all unique formulas\n",
        "mp_query[\"formula\"].astype(\"string\").unique()\n"
      ],
      "metadata": {
        "colab": {
          "base_uri": "https://localhost:8080/"
        },
        "id": "RG7-vGMoqoC_",
        "outputId": "3ae86e75-983a-4df4-bf79-092b4a651742"
      },
      "execution_count": null,
      "outputs": [
        {
          "output_type": "execute_result",
          "data": {
            "text/plain": [
              "<StringArray>\n",
              "[ 'Mg149Tc',    'K5As4',     'CuS2', 'Sm14Ag51',     'GdB6',    'Th2C3',\n",
              "      'YIr',    'TmSe2',    'ZrCr2',    'CaCu5',\n",
              " ...\n",
              "    'NdSn2',     'DySi',     'ErHg',   'DyMn12',    'Sc2Te',    'LiPd3',\n",
              "    'CaAs3',    'NdNi5',    'LaTl3',   'K3As11']\n",
              "Length: 5149, dtype: string"
            ]
          },
          "metadata": {},
          "execution_count": 6
        }
      ]
    },
    {
      "cell_type": "code",
      "source": [
        "# Import the necessary libraries for data visualization\n",
        "import matplotlib.pyplot as plt\n",
        "import seaborn as sns\n",
        "\n",
        "# Create a scatter plot using Seaborn's scatterplot function\n",
        "# 'formation_energy_per_atom' is on the x-axis and 'band_gap' is on the y-axis\n",
        "# The data is sourced from the 'mp_query' DataFrame\n",
        "sns.scatterplot(x = 'formation_energy_per_atom', y = 'band_gap', data = mp_query)\n",
        "\n",
        "# Set the title of the scatter plot\n",
        "plt.title('Formation Energy per Atom vs Band Gap')\n",
        "\n",
        "# Set the label for the x-axis\n",
        "plt.xlabel('Formation Energy per Atom')\n",
        "\n",
        "# Set the label for the y-axis\n",
        "plt.ylabel('Band Gap')\n",
        "\n",
        "# Display the plot\n",
        "plt.show()\n"
      ],
      "metadata": {
        "colab": {
          "base_uri": "https://localhost:8080/",
          "height": 472
        },
        "id": "3cUUMb9iGNTB",
        "outputId": "3c9ef5fa-5414-45d5-cc2f-643c8389f391"
      },
      "execution_count": null,
      "outputs": [
        {
          "output_type": "display_data",
          "data": {
            "text/plain": [
              "<Figure size 640x480 with 1 Axes>"
            ],
            "image/png": "[encoded data removed]"
          },
          "metadata": {}
        }
      ]
    },
    {
      "cell_type": "code",
      "source": [
        "# Extract all the elements from the 'formula' column of the mp_query DataFrame\n",
        "elements = mp_query['formula'].str.extractall(r'([A-Z][a-z]*)').reset_index()\n",
        "# Rename the columns of the 'elements' DataFrame\n",
        "elements.columns = ['material_id', 'match', 'Symbol']\n",
        "\n",
        "# Merge 'elements' DataFrame with the 'df' DataFrame based on the 'Symbol' column\n",
        "merged = pd.merge(elements, df, left_on='Symbol', right_on='Symbol')\n",
        "\n",
        "# Create new columns in the mp_query DataFrame to store the sum of metals, nonmetals and metalloids,\n",
        "# and the average atomic radius and electronegativity for each material_id\n",
        "mp_query['num_metals'] = merged.groupby('material_id')['Metal'].sum()\n",
        "mp_query['num_nonmetals'] = merged.groupby('material_id')['Nonmetal'].sum()\n",
        "mp_query['num_metalloids'] = merged.groupby('material_id')['Metalloid'].sum()\n",
        "mp_query['average_atomic_radius'] = merged.groupby('material_id')['AtomicRadius'].mean()\n",
        "mp_query['average_electronegativity'] = merged.groupby('material_id')['Electronegativity'].mean()\n",
        "\n",
        "# Convert the metal, nonmetal, and metalloid columns to numeric, and handle any errors by replacing them with NaN\n",
        "mp_query['num_metals'] = pd.to_numeric(mp_query['num_metals'], errors='coerce')\n",
        "mp_query['num_nonmetals'] = pd.to_numeric(mp_query['num_nonmetals'], errors='coerce')\n",
        "mp_query['num_metalloids'] = pd.to_numeric(mp_query['num_metalloids'], errors='coerce')\n",
        "\n",
        "# Fill any NaN values in the metal, nonmetal, and metalloid columns with 0\n",
        "mp_query['num_metals'].fillna(0, inplace=True)\n",
        "mp_query['num_nonmetals'].fillna(0, inplace=True)\n",
        "mp_query['num_metalloids'].fillna(0, inplace=True)\n"
      ],
      "metadata": {
        "id": "EWsePT2Uq_y6"
      },
      "execution_count": null,
      "outputs": []
    },
    {
      "cell_type": "code",
      "source": [
        "from sklearn.model_selection import train_test_split\n",
        "from sklearn.linear_model import LinearRegression\n",
        "from sklearn.metrics import mean_squared_error\n",
        "X = mp_query[['num_metals', 'num_nonmetals', 'num_metalloids', 'average_atomic_radius', 'average_electronegativity']]\n",
        "for target in ['formation_energy_per_atom', 'band_gap']:\n",
        "    y = mp_query[target]\n",
        "    X_train, X_test, y_train, y_test = train_test_split(X, y, test_size=0.2, random_state=42)\n",
        "    model = LinearRegression()\n",
        "    model.fit(X_train, y_train)\n",
        "    predictions = model.predict(X_test)\n",
        "    mse = mean_squared_error(y_test, predictions)\n",
        "    print(f'Mean Squared Error for {target}:', mse)# Import necessary modules from sklearn\n",
        "from sklearn.model_selection import train_test_split\n",
        "from sklearn.linear_model import LinearRegression\n",
        "from sklearn.metrics import mean_squared_error\n",
        "\n",
        "# Define the feature matrix X using selected columns from mp_query DataFrame\n",
        "X = mp_query[['num_metals', 'num_nonmetals', 'num_metalloids', 'average_atomic_radius', 'average_electronegativity']]\n",
        "\n",
        "# Loop through two targets: 'formation_energy_per_atom' and 'band_gap'\n",
        "for target in ['formation_energy_per_atom', 'band_gap']:\n",
        "    # Define the target vector y using the current target column from mp_query DataFrame\n",
        "    y = mp_query[target]\n",
        "\n",
        "    # Split the data into training set and test set, with 20% of the data being used as the test set\n",
        "    X_train, X_test, y_train, y_test = train_test_split(X, y, test_size=0.2, random_state=42)\n",
        "\n",
        "    # Initialize a Linear Regression model\n",
        "    model = LinearRegression()\n",
        "\n",
        "    # Train the model using the training set\n",
        "    model.fit(X_train, y_train)\n",
        "\n",
        "    # Make predictions using the test set\n",
        "    predictions = model.predict(X_test)\n",
        "\n",
        "    # Calculate the Mean Squared Error (MSE) of the predictions\n",
        "    mse = mean_squared_error(y_test, predictions)\n",
        "\n",
        "    # Print the MSE for the current target\n",
        "    print(f'Mean Squared Error for {target}:', mse)\n"
      ],
      "metadata": {
        "colab": {
          "base_uri": "https://localhost:8080/"
        },
        "id": "9BIluZjrH0Ce",
        "outputId": "df2aeb98-4aa5-43d8-bdd8-fb6391522609"
      },
      "execution_count": null,
      "outputs": [
        {
          "output_type": "stream",
          "name": "stdout",
          "text": [
            "Mean Squared Error for formation_energy_per_atom: 0.4040325421494253\n",
            "Mean Squared Error for band_gap: 0.9536760634960799\n",
            "Mean Squared Error for formation_energy_per_atom: 0.4040325421494253\n",
            "Mean Squared Error for band_gap: 0.9536760634960799\n"
          ]
        }
      ]
    },
    {
      "cell_type": "code",
      "source": [
        "df.set_index(\"Symbol\", inplace=True)\n",
        "df.loc[\"O\"][\"AtomicRadius\"]"
      ],
      "metadata": {
        "id": "FliZx3crgI5t",
        "colab": {
          "base_uri": "https://localhost:8080/"
        },
        "outputId": "5e0005d3-7d36-4ef9-a5d7-a310c261113b"
      },
      "execution_count": null,
      "outputs": [
        {
          "output_type": "execute_result",
          "data": {
            "text/plain": [
              "0.65"
            ]
          },
          "metadata": {},
          "execution_count": 10
        }
      ]
    },
    {
      "cell_type": "code",
      "source": [
        "from pymatgen.core import Composition\n",
        "comp = Composition('FeO2')\n",
        "comp.elements\n",
        "comp.get_atomic_fraction('O')"
      ],
      "metadata": {
        "colab": {
          "base_uri": "https://localhost:8080/"
        },
        "id": "hroqg74_FNMl",
        "outputId": "6472d271-27be-48d1-f076-5ea731d408f6"
      },
      "execution_count": null,
      "outputs": [
        {
          "output_type": "execute_result",
          "data": {
            "text/plain": [
              "0.6666666666666666"
            ]
          },
          "metadata": {},
          "execution_count": 11
        }
      ]
    },
    {
      "cell_type": "code",
      "source": [
        "# Loop through all the chemical formulas in the 'formula' column of mp_query DataFrame\n",
        "for formula in mp_query['formula']:\n",
        "    # Create a Composition object from the chemical formula\n",
        "    comp = Composition(formula)\n",
        "\n",
        "    # Initialize average property values\n",
        "    avg_atomic_radius = 0\n",
        "    avg_electronegativity = 0\n",
        "    avg_first_ionization = 0\n",
        "    avg_density = 0\n",
        "    avg_melting_point = 0\n",
        "    avg_boiling_point = 0\n",
        "    avg_number_of_isotopes = 0\n",
        "\n",
        "    # Loop through all the elements in the composition\n",
        "    for element in comp:\n",
        "        # Get the property values for the current element from the DataFrame df\n",
        "        atomic_radius = df.loc[str(element), 'AtomicRadius']\n",
        "        electronegativity = df.loc[str(element), 'Electronegativity']\n",
        "        first_ionization = df.loc[str(element), 'FirstIonization']\n",
        "        density = df.loc[str(element), 'Density']\n",
        "        melting_point = df.loc[str(element), 'MeltingPoint']\n",
        "        boiling_point = df.loc[str(element), 'BoilingPoint']\n",
        "        number_of_isotopes = df.loc[str(element), 'NumberOfIsotopes']\n",
        "\n",
        "        # Get the atomic fraction of the current element in the composition\n",
        "        fraction = comp.get_atomic_fraction(str(element))\n",
        "\n",
        "        # Compute the weighted averages of the properties\n",
        "        avg_atomic_radius += atomic_radius * fraction\n",
        "        avg_electronegativity += electronegativity * fraction\n",
        "        avg_first_ionization += first_ionization * fraction\n",
        "        avg_density += density * fraction\n",
        "        avg_melting_point += melting_point * fraction\n",
        "        avg_boiling_point += boiling_point * fraction\n",
        "        avg_number_of_isotopes += number_of_isotopes * fraction\n",
        "\n",
        "    # Store the computed average properties in the mp_query DataFrame\n",
        "    mp_query.loc[mp_query['formula'] == formula, 'AtomicRadius'] = avg_atomic_radius\n",
        "    mp_query.loc[mp_query['formula'] == formula, 'Electronegativity'] = avg_electronegativity\n",
        "    mp_query.loc[mp_query['formula'] == formula, 'FirstIonization'] = avg_first_ionization\n",
        "    mp_query.loc[mp_query['formula'] == formula, 'Density'] = avg_density\n",
        "    mp_query.loc[mp_query['formula'] == formula, 'MeltingPoint'] = avg_melting_point\n",
        "    mp_query.loc[mp_query['formula'] == formula, 'BoilingPoint'] = avg_boiling_point\n",
        "    mp_query.loc[mp_query['formula'] == formula, 'NumberOfIsotopes'] = avg_number_of_isotopes\n",
        "\n",
        "# Define a list of properties\n",
        "properties = ['AtomicRadius', 'Electronegativity', 'FirstIonization', 'Density', 'MeltingPoint', 'BoilingPoint', 'NumberOfIsotopes']\n",
        "\n",
        "# Initialize the properties in mp_query DataFrame to 0\n",
        "for prop in properties:\n",
        "    mp_query[prop] = 0\n",
        "\n",
        "# Loop through all the rows in the mp_query DataFrame\n",
        "for i, row in mp_query.iterrows():\n",
        "    # Get the formula for the current row\n",
        "    formula = row['formula']\n",
        "    # Create a Composition object from the formula\n",
        "    comp = Composition(formula)\n",
        "\n",
        "    # Loop through all the properties\n",
        "    for prop in properties:\n",
        "        # Initialize the weighted property to 0\n",
        "        weighted_property = 0\n",
        "\n",
        "        # Loop through all the elements in the composition\n",
        "        for element in comp.elements:\n",
        "            # Get the property value for the current element from the DataFrame df\n",
        "            property_value = df.loc[str(element),prop]\n",
        "\n",
        "            # Get the atomic fraction of the current element in the composition\n",
        "            fraction = comp.get_atomic_fraction(str(element))\n",
        "            # Compute the weighted property\n",
        "            weighted_property += property_value * fraction\n",
        "\n",
        "        # Store the computed weighted property in the mp_query DataFrame\n",
        "        mp_query.loc[i, prop] = weighted_property\n"
      ],
      "metadata": {
        "id": "cxVQSZe5OEVK"
      },
      "execution_count": null,
      "outputs": []
    },
    {
      "cell_type": "code",
      "source": [
        "#Let it easy to read features\n",
        "mp_query.head()"
      ],
      "metadata": {
        "colab": {
          "base_uri": "https://localhost:8080/",
          "height": 270
        },
        "id": "nwcf8qvwi9rF",
        "outputId": "6b412f9f-8f1a-42f7-9e14-51d7064e3a1b"
      },
      "execution_count": null,
      "outputs": [
        {
          "output_type": "execute_result",
          "data": {
            "text/plain": [
              "   density_atomic  band_gap  formation_energy_per_atom material_id   formula  \\\n",
              "0       22.877356    0.0978                  -0.018674  mp-1185636   Mg149Tc   \n",
              "1       32.273652    0.0000                  -0.437151  mp-1223503     K5As4   \n",
              "2       16.316454    0.0000                  -0.432674   mp-849086      CuS2   \n",
              "3       20.401661    0.0000                  -0.246306  mp-1219378  Sm14Ag51   \n",
              "4        9.856148    0.0000                  -0.456620    mp-22266      GdB6   \n",
              "\n",
              "   num_metals  num_nonmetals  num_metalloids  average_atomic_radius  \\\n",
              "0         0.0            0.0             0.0                   1.85   \n",
              "1         0.0            0.0             0.0                   2.05   \n",
              "2         0.0            0.0             0.0                   1.35   \n",
              "3         0.0            0.0             0.0                   2.20   \n",
              "4         0.0            0.0             0.0                   1.85   \n",
              "\n",
              "   average_electronegativity  AtomicRadius  Electronegativity  \\\n",
              "0                      1.605      1.702000           1.313933   \n",
              "1                      1.500      2.133333           1.424444   \n",
              "2                      2.240      1.266667           2.353333   \n",
              "3                      1.550      1.972308           1.766308   \n",
              "4                      1.620      1.385714           1.920000   \n",
              "\n",
              "   FirstIonization   Density  MeltingPoint  BoilingPoint  NumberOfIsotopes  \n",
              "0         7.643759  1.805067    933.483333   1388.246667          8.100000  \n",
              "1         6.761989  3.047778    671.455556    967.555556         11.777778  \n",
              "2         9.482133  4.366667    711.590000   1423.533333         10.333333  \n",
              "3         7.159969  9.858154   1258.057692   2355.738462         24.846154  \n",
              "4         7.991157  3.134286   2432.007143   4106.571429          7.571429  "
            ],
            "text/html": [
              "\n",
              "  <div id=\"df-e3296f5f-563f-4265-840d-2d3db80a8e2c\">\n",
              "    <div class=\"colab-df-container\">\n",
              "      <div>\n",
              "<style scoped>\n",
              "    .dataframe tbody tr th:only-of-type {\n",
              "        vertical-align: middle;\n",
              "    }\n",
              "\n",
              "    .dataframe tbody tr th {\n",
              "        vertical-align: top;\n",
              "    }\n",
              "\n",
              "    .dataframe thead th {\n",
              "        text-align: right;\n",
              "    }\n",
              "</style>\n",
              "<table border=\"1\" class=\"dataframe\">\n",
              "  <thead>\n",
              "    <tr style=\"text-align: right;\">\n",
              "      <th></th>\n",
              "      <th>density_atomic</th>\n",
              "      <th>band_gap</th>\n",
              "      <th>formation_energy_per_atom</th>\n",
              "      <th>material_id</th>\n",
              "      <th>formula</th>\n",
              "      <th>num_metals</th>\n",
              "      <th>num_nonmetals</th>\n",
              "      <th>num_metalloids</th>\n",
              "      <th>average_atomic_radius</th>\n",
              "      <th>average_electronegativity</th>\n",
              "      <th>AtomicRadius</th>\n",
              "      <th>Electronegativity</th>\n",
              "      <th>FirstIonization</th>\n",
              "      <th>Density</th>\n",
              "      <th>MeltingPoint</th>\n",
              "      <th>BoilingPoint</th>\n",
              "      <th>NumberOfIsotopes</th>\n",
              "    </tr>\n",
              "  </thead>\n",
              "  <tbody>\n",
              "    <tr>\n",
              "      <th>0</th>\n",
              "      <td>22.877356</td>\n",
              "      <td>0.0978</td>\n",
              "      <td>-0.018674</td>\n",
              "      <td>mp-1185636</td>\n",
              "      <td>Mg149Tc</td>\n",
              "      <td>0.0</td>\n",
              "      <td>0.0</td>\n",
              "      <td>0.0</td>\n",
              "      <td>1.85</td>\n",
              "      <td>1.605</td>\n",
              "      <td>1.702000</td>\n",
              "      <td>1.313933</td>\n",
              "      <td>7.643759</td>\n",
              "      <td>1.805067</td>\n",
              "      <td>933.483333</td>\n",
              "      <td>1388.246667</td>\n",
              "      <td>8.100000</td>\n",
              "    </tr>\n",
              "    <tr>\n",
              "      <th>1</th>\n",
              "      <td>32.273652</td>\n",
              "      <td>0.0000</td>\n",
              "      <td>-0.437151</td>\n",
              "      <td>mp-1223503</td>\n",
              "      <td>K5As4</td>\n",
              "      <td>0.0</td>\n",
              "      <td>0.0</td>\n",
              "      <td>0.0</td>\n",
              "      <td>2.05</td>\n",
              "      <td>1.500</td>\n",
              "      <td>2.133333</td>\n",
              "      <td>1.424444</td>\n",
              "      <td>6.761989</td>\n",
              "      <td>3.047778</td>\n",
              "      <td>671.455556</td>\n",
              "      <td>967.555556</td>\n",
              "      <td>11.777778</td>\n",
              "    </tr>\n",
              "    <tr>\n",
              "      <th>2</th>\n",
              "      <td>16.316454</td>\n",
              "      <td>0.0000</td>\n",
              "      <td>-0.432674</td>\n",
              "      <td>mp-849086</td>\n",
              "      <td>CuS2</td>\n",
              "      <td>0.0</td>\n",
              "      <td>0.0</td>\n",
              "      <td>0.0</td>\n",
              "      <td>1.35</td>\n",
              "      <td>2.240</td>\n",
              "      <td>1.266667</td>\n",
              "      <td>2.353333</td>\n",
              "      <td>9.482133</td>\n",
              "      <td>4.366667</td>\n",
              "      <td>711.590000</td>\n",
              "      <td>1423.533333</td>\n",
              "      <td>10.333333</td>\n",
              "    </tr>\n",
              "    <tr>\n",
              "      <th>3</th>\n",
              "      <td>20.401661</td>\n",
              "      <td>0.0000</td>\n",
              "      <td>-0.246306</td>\n",
              "      <td>mp-1219378</td>\n",
              "      <td>Sm14Ag51</td>\n",
              "      <td>0.0</td>\n",
              "      <td>0.0</td>\n",
              "      <td>0.0</td>\n",
              "      <td>2.20</td>\n",
              "      <td>1.550</td>\n",
              "      <td>1.972308</td>\n",
              "      <td>1.766308</td>\n",
              "      <td>7.159969</td>\n",
              "      <td>9.858154</td>\n",
              "      <td>1258.057692</td>\n",
              "      <td>2355.738462</td>\n",
              "      <td>24.846154</td>\n",
              "    </tr>\n",
              "    <tr>\n",
              "      <th>4</th>\n",
              "      <td>9.856148</td>\n",
              "      <td>0.0000</td>\n",
              "      <td>-0.456620</td>\n",
              "      <td>mp-22266</td>\n",
              "      <td>GdB6</td>\n",
              "      <td>0.0</td>\n",
              "      <td>0.0</td>\n",
              "      <td>0.0</td>\n",
              "      <td>1.85</td>\n",
              "      <td>1.620</td>\n",
              "      <td>1.385714</td>\n",
              "      <td>1.920000</td>\n",
              "      <td>7.991157</td>\n",
              "      <td>3.134286</td>\n",
              "      <td>2432.007143</td>\n",
              "      <td>4106.571429</td>\n",
              "      <td>7.571429</td>\n",
              "    </tr>\n",
              "  </tbody>\n",
              "</table>\n",
              "</div>\n",
              "      <button class=\"colab-df-convert\" onclick=\"convertToInteractive('df-e3296f5f-563f-4265-840d-2d3db80a8e2c')\"\n",
              "              title=\"Convert this dataframe to an interactive table.\"\n",
              "              style=\"display:none;\">\n",
              "        \n",
              "  <svg xmlns=\"http://www.w3.org/2000/svg\" height=\"24px\"viewBox=\"0 0 24 24\"\n",
              "       width=\"24px\">\n",
              "    <path d=\"M0 0h24v24H0V0z\" fill=\"none\"/>\n",
              "    <path d=\"M18.56 5.44l.94 2.06.94-2.06 2.06-.94-2.06-.94-.94-2.06-.94 2.06-2.06.94zm-11 1L8.5 8.5l.94-2.06 2.06-.94-2.06-.94L8.5 2.5l-.94 2.06-2.06.94zm10 10l.94 2.06.94-2.06 2.06-.94-2.06-.94-.94-2.06-.94 2.06-2.06.94z\"/><path d=\"M17.41 7.96l-1.37-1.37c-.4-.4-.92-.59-1.43-.59-.52 0-1.04.2-1.43.59L10.3 9.45l-7.72 7.72c-.78.78-.78 2.05 0 2.83L4 21.41c.39.39.9.59 1.41.59.51 0 1.02-.2 1.41-.59l7.78-7.78 2.81-2.81c.8-.78.8-2.07 0-2.86zM5.41 20L4 18.59l7.72-7.72 1.47 1.35L5.41 20z\"/>\n",
              "  </svg>\n",
              "      </button>\n",
              "      \n",
              "  <style>\n",
              "    .colab-df-container {\n",
              "      display:flex;\n",
              "      flex-wrap:wrap;\n",
              "      gap: 12px;\n",
              "    }\n",
              "\n",
              "    .colab-df-convert {\n",
              "      background-color: #E8F0FE;\n",
              "      border: none;\n",
              "      border-radius: 50%;\n",
              "      cursor: pointer;\n",
              "      display: none;\n",
              "      fill: #1967D2;\n",
              "      height: 32px;\n",
              "      padding: 0 0 0 0;\n",
              "      width: 32px;\n",
              "    }\n",
              "\n",
              "    .colab-df-convert:hover {\n",
              "      background-color: #E2EBFA;\n",
              "      box-shadow: 0px 1px 2px rgba(60, 64, 67, 0.3), 0px 1px 3px 1px rgba(60, 64, 67, 0.15);\n",
              "      fill: #174EA6;\n",
              "    }\n",
              "\n",
              "    [theme=dark] .colab-df-convert {\n",
              "      background-color: #3B4455;\n",
              "      fill: #D2E3FC;\n",
              "    }\n",
              "\n",
              "    [theme=dark] .colab-df-convert:hover {\n",
              "      background-color: #434B5C;\n",
              "      box-shadow: 0px 1px 3px 1px rgba(0, 0, 0, 0.15);\n",
              "      filter: drop-shadow(0px 1px 2px rgba(0, 0, 0, 0.3));\n",
              "      fill: #FFFFFF;\n",
              "    }\n",
              "  </style>\n",
              "\n",
              "      <script>\n",
              "        const buttonEl =\n",
              "          document.querySelector('#df-e3296f5f-563f-4265-840d-2d3db80a8e2c button.colab-df-convert');\n",
              "        buttonEl.style.display =\n",
              "          google.colab.kernel.accessAllowed ? 'block' : 'none';\n",
              "\n",
              "        async function convertToInteractive(key) {\n",
              "          const element = document.querySelector('#df-e3296f5f-563f-4265-840d-2d3db80a8e2c');\n",
              "          const dataTable =\n",
              "            await google.colab.kernel.invokeFunction('convertToInteractive',\n",
              "                                                     [key], {});\n",
              "          if (!dataTable) return;\n",
              "\n",
              "          const docLinkHtml = 'Like what you see? Visit the ' +\n",
              "            '<a target=\"_blank\" href=https://colab.research.google.com/notebooks/data_table.ipynb>data table notebook</a>'\n",
              "            + ' to learn more about interactive tables.';\n",
              "          element.innerHTML = '';\n",
              "          dataTable['output_type'] = 'display_data';\n",
              "          await google.colab.output.renderOutput(dataTable, element);\n",
              "          const docLink = document.createElement('div');\n",
              "          docLink.innerHTML = docLinkHtml;\n",
              "          element.appendChild(docLink);\n",
              "        }\n",
              "      </script>\n",
              "    </div>\n",
              "  </div>\n",
              "  "
            ]
          },
          "metadata": {},
          "execution_count": 13
        }
      ]
    },
    {
      "cell_type": "code",
      "source": [
        "# Import seaborn library for data visualization\n",
        "import seaborn as sns\n",
        "\n",
        "# Create a subset of mp_query dataframe, including only the columns you're interested in\n",
        "mp_query_subset = mp_query[[\"formation_energy_per_atom\",\"AtomicRadius\", \"Electronegativity\", \"FirstIonization\", \"Density\", \"MeltingPoint\", \"BoilingPoint\", \"NumberOfIsotopes\"]]\n",
        "\n",
        "# Use seaborn's heatmap function to visualize the correlation matrix of the subset dataframe\n",
        "# \"annot=True\" means that the correlation coefficients are written on the heatmap\n",
        "# \"cmap='coolwarm'\" sets the color map of the heatmap to 'coolwarm'\n",
        "sns.heatmap(mp_query_subset.corr(), annot=True, cmap=\"coolwarm\")\n",
        "\n",
        "# Display the heatmap\n",
        "plt.show()\n"
      ],
      "metadata": {
        "colab": {
          "base_uri": "https://localhost:8080/",
          "height": 618
        },
        "id": "2EkvPSZlkKh_",
        "outputId": "60bd922d-17a5-4fbc-c794-65fa02cf5059"
      },
      "execution_count": null,
      "outputs": [
        {
          "output_type": "display_data",
          "data": {
            "text/plain": [
              "<Figure size 640x480 with 2 Axes>"
            ],
            "image/png": "[encoded data removed]"
          },
          "metadata": {}
        }
      ]
    },
    {
      "cell_type": "code",
      "source": [
        "# Import necessary libraries\n",
        "from sklearn.model_selection import train_test_split\n",
        "from sklearn.linear_model import LinearRegression\n",
        "from sklearn.metrics import mean_squared_error, r2_score, mean_absolute_error\n",
        "\n",
        "# Define features and target variable\n",
        "X = mp_query[['AtomicRadius', 'Electronegativity', 'FirstIonization', 'Density', 'MeltingPoint', 'BoilingPoint', 'NumberOfIsotopes']]\n",
        "y = mp_query['formation_energy_per_atom']\n",
        "\n",
        "# Split the data into training and testing sets\n",
        "X_train, X_test, y_train, y_test = train_test_split(X, y, test_size=0.2, random_state=42)\n",
        "\n",
        "# Initialize the Linear Regression model\n",
        "Linear_model = LinearRegression()\n",
        "\n",
        "# Fit the training data to the model\n",
        "Linear_model.fit(X_train, y_train)\n",
        "\n",
        "# Make predictions on the test set using the trained model\n",
        "predictions = Linear_model.predict(X_test)\n",
        "\n",
        "# Calculate Mean Squared Error (MSE) of the model's predictions\n",
        "mse = mean_squared_error(y_test, predictions)\n",
        "print('MSE:', mse)\n",
        "\n",
        "# Calculate R-squared (R2 Score) of the model's predictions\n",
        "r2 = r2_score(y_test, predictions)\n",
        "print('R2 Score:', r2)\n",
        "\n",
        "# Calculate Mean Absolute Error (MAE) of the model's predictions\n",
        "mae = mean_absolute_error(y_test, predictions)\n",
        "print('Mean Absolute Error:', mae)\n"
      ],
      "metadata": {
        "colab": {
          "base_uri": "https://localhost:8080/"
        },
        "id": "2taqWDu3moPM",
        "outputId": "00cb430f-730a-420a-9bb5-04adaeae783e"
      },
      "execution_count": null,
      "outputs": [
        {
          "output_type": "stream",
          "name": "stdout",
          "text": [
            "MSE: 0.2851886654278198\n",
            "R2 Score: 0.4700940136305495\n",
            "Mean Absolute Error: 0.380153852667404\n"
          ]
        }
      ]
    },
    {
      "cell_type": "code",
      "source": [
        "# Import necessary libraries\n",
        "import numpy as np\n",
        "from sklearn.ensemble import RandomForestClassifier\n",
        "from sklearn.metrics import classification_report\n",
        "from sklearn.model_selection import train_test_split, GridSearchCV\n",
        "\n",
        "# Copy the original DataFrame\n",
        "mp_query_subset = mp_query.copy()\n",
        "\n",
        "# Create a new column 'metallicity' based on the condition of 'band_gap' < 0.001\n",
        "mp_query_subset['metallicity'] = np.where(mp_query_subset['band_gap'] < 0.001, 0, 1)\n",
        "\n",
        "# Drop unnecessary columns from the DataFrame\n",
        "mp_query_subset = mp_query_subset.drop(['material_id', 'formula', 'band_gap'], axis=1)\n",
        "\n",
        "# Define features and target variable\n",
        "X = mp_query_subset.drop('metallicity', axis=1)\n",
        "y = mp_query_subset['metallicity']\n",
        "\n",
        "# Split the data into training and testing sets\n",
        "X_train, X_test, y_train, y_test = train_test_split(X, y, test_size=0.2, random_state=42)\n",
        "\n",
        "# Initialize the Random Forest Classifier\n",
        "clf = RandomForestClassifier(random_state=42)\n",
        "\n",
        "# Define the grid of hyperparameters to search\n",
        "param_grid = {\n",
        "    'n_estimators': range(1, 11),\n",
        "    'max_depth': range(1, 8),\n",
        "    'min_samples_split': range(2, 8)\n",
        "}\n",
        "\n",
        "# Initialize Grid Search with the classifier and the chosen parameters\n",
        "grid_search = GridSearchCV(clf, param_grid, cv=5, scoring='accuracy')\n",
        "\n",
        "# Fit the data to Grid Search\n",
        "grid_search.fit(X_train, y_train)\n",
        "\n",
        "# Print the best parameters found by Grid Search\n",
        "print('Best Parameters: ', grid_search.best_params_)\n",
        "\n",
        "# Define the best estimator found by Grid Search\n",
        "best_clf = grid_search.best_estimator_\n",
        "\n",
        "# Make predictions on the test set using the best estimator\n",
        "y_pred = best_clf.predict(X_test)\n",
        "\n",
        "# Print the classification report\n",
        "print(classification_report(y_test, y_pred))\n",
        "\n",
        "# Import Decision Tree Classifier\n",
        "from sklearn.tree import DecisionTreeClassifier\n",
        "\n",
        "# Initialize the Decision Tree Classifier\n",
        "clf_tree = DecisionTreeClassifier(random_state=42)\n",
        "\n",
        "# Fit the training data to the classifier\n",
        "clf_tree.fit(X_train, y_train)\n",
        "\n",
        "# Make predictions on the test set using the classifier\n",
        "y_pred_tree = clf_tree.predict(X_test)\n",
        "\n",
        "# Print the classification report\n",
        "print(classification_report(y_test, y_pred_tree))\n"
      ],
      "metadata": {
        "colab": {
          "base_uri": "https://localhost:8080/"
        },
        "id": "4RMb9K8Ff4-X",
        "outputId": "62957568-e142-4a9c-c3ed-077707fb28f5"
      },
      "execution_count": null,
      "outputs": [
        {
          "output_type": "stream",
          "name": "stdout",
          "text": [
            "Best Parameters:  {'max_depth': 7, 'min_samples_split': 5, 'n_estimators': 10}\n",
            "              precision    recall  f1-score   support\n",
            "\n",
            "           0       0.92      0.93      0.92       768\n",
            "           1       0.78      0.75      0.76       262\n",
            "\n",
            "    accuracy                           0.88      1030\n",
            "   macro avg       0.85      0.84      0.84      1030\n",
            "weighted avg       0.88      0.88      0.88      1030\n",
            "\n",
            "              precision    recall  f1-score   support\n",
            "\n",
            "           0       0.91      0.91      0.91       768\n",
            "           1       0.74      0.75      0.74       262\n",
            "\n",
            "    accuracy                           0.87      1030\n",
            "   macro avg       0.83      0.83      0.83      1030\n",
            "weighted avg       0.87      0.87      0.87      1030\n",
            "\n"
          ]
        }
      ]
    },
    {
      "cell_type": "code",
      "source": [
        "# Import necessary libraries\n",
        "from sklearn.linear_model import LogisticRegression\n",
        "from sklearn.metrics import accuracy_score, precision_score, recall_score, f1_score\n",
        "\n",
        "# Select the features and the target variable for your model\n",
        "X = mp_query_subset[['AtomicRadius', 'Electronegativity', 'FirstIonization', 'Density', 'MeltingPoint', 'BoilingPoint', 'NumberOfIsotopes']]\n",
        "y = mp_query_subset['metallicity']\n",
        "\n",
        "# Split the data into training and testing sets\n",
        "X_train, X_test, y_train, y_test = train_test_split(X, y, test_size=0.2, random_state=42)\n",
        "\n",
        "# Initialize the Logistic Regression model\n",
        "Logistic_model = LogisticRegression()\n",
        "\n",
        "# Train the model using the training data\n",
        "Logistic_model.fit(X_train, y_train)\n",
        "\n",
        "# Use the trained model to predict the target variable in the test data\n",
        "y_pred = Logistic_model.predict(X_test)\n",
        "\n",
        "# Calculate accuracy of the model's predictions\n",
        "accuracy = accuracy_score(y_test, y_pred)\n",
        "\n",
        "# Calculate precision of the model's predictions\n",
        "precision = precision_score(y_test, y_pred)\n",
        "\n",
        "# Calculate recall of the model's predictions\n",
        "recall = recall_score(y_test, y_pred)\n",
        "\n",
        "# Calculate F1 score of the model's predictions\n",
        "f1 = f1_score(y_test, y_pred)\n",
        "\n",
        "# Print the calculated metrics\n",
        "print('Accuracy:', accuracy)\n",
        "print('Precision:', precision)\n",
        "print('Recall:', recall)\n",
        "print('F1 Score:', f1)\n"
      ],
      "metadata": {
        "colab": {
          "base_uri": "https://localhost:8080/"
        },
        "id": "VJPpNE7XrB6z",
        "outputId": "44fadf0b-bdfb-46ad-8265-496d0da3c6ec"
      },
      "execution_count": null,
      "outputs": [
        {
          "output_type": "stream",
          "name": "stdout",
          "text": [
            "Accuracy: 0.8601941747572815\n",
            "Precision: 0.7657657657657657\n",
            "Recall: 0.648854961832061\n",
            "F1 Score: 0.7024793388429752\n"
          ]
        },
        {
          "output_type": "stream",
          "name": "stderr",
          "text": [
            "/usr/local/lib/python3.10/dist-packages/sklearn/linear_model/_logistic.py:458: ConvergenceWarning: lbfgs failed to converge (status=1):\n",
            "STOP: TOTAL NO. of ITERATIONS REACHED LIMIT.\n",
            "\n",
            "Increase the number of iterations (max_iter) or scale the data as shown in:\n",
            "    https://scikit-learn.org/stable/modules/preprocessing.html\n",
            "Please also refer to the documentation for alternative solver options:\n",
            "    https://scikit-learn.org/stable/modules/linear_model.html#logistic-regression\n",
            "  n_iter_i = _check_optimize_result(\n"
          ]
        }
      ]
    },
    {
      "cell_type": "code",
      "source": [
        "# Import necessary libraries\n",
        "import matplotlib.pyplot as plt\n",
        "\n",
        "# Generate a classification report for the Random Forest model\n",
        "rf_report = classification_report(y_test, y_pred, output_dict=True)\n",
        "# Extract the weighted average metrics from the report\n",
        "rf_metrics = rf_report['weighted avg']\n",
        "\n",
        "# Generate a classification report for the Decision Tree model\n",
        "dt_report = classification_report(y_test, y_pred_tree, output_dict=True)\n",
        "# Extract the weighted average metrics from the report\n",
        "dt_metrics = dt_report['weighted avg']\n",
        "\n",
        "# Prepare metrics for the Logistic Regression model\n",
        "log_metrics = {'precision': precision, 'recall': recall, 'f1-score': f1}\n",
        "\n",
        "# Combine all metrics into a single dictionary for easier manipulation\n",
        "metrics = {\n",
        "    'Random Forest': rf_metrics,\n",
        "    'Decision Tree': dt_metrics,\n",
        "    'Logistic Regression': log_metrics\n",
        "}\n",
        "\n",
        "# Prepare a dictionary to hold the data that we want to plot\n",
        "plot_data = {'Model': [], 'Metric': [], 'Score': []}\n",
        "# Fill the dictionary with data from the metrics\n",
        "for model, values in metrics.items():\n",
        "    for metric, score in values.items():\n",
        "        plot_data['Model'].append(model)\n",
        "        plot_data['Metric'].append(metric)\n",
        "        plot_data['Score'].append(score)\n",
        "\n",
        "# Convert the dictionary to a DataFrame for easier plotting\n",
        "df = pd.DataFrame(plot_data)\n",
        "\n",
        "# Import seaborn for advanced plotting\n",
        "import seaborn as sns\n",
        "\n",
        "# Create a figure\n",
        "plt.figure(figsize=(10, 6))\n",
        "\n",
        "# Create a barplot with Model on the x-axis, Score on the y-axis, and Metric as hue\n",
        "sns.barplot(x='Model', y='Score', hue='Metric', data=df)\n",
        "\n",
        "# Set the y-axis limits to be between 0 and 1\n",
        "plt.ylim([0.0, 1.0])\n",
        "\n",
        "# Set the title of the plot\n",
        "plt.title('Model Performance Comparison')\n",
        "\n",
        "# Display the plot\n",
        "plt.show()\n"
      ],
      "metadata": {
        "colab": {
          "base_uri": "https://localhost:8080/",
          "height": 564
        },
        "id": "srTtADdYm1JO",
        "outputId": "bbc22786-89b5-438d-f9af-3a2192dff4cd"
      },
      "execution_count": null,
      "outputs": [
        {
          "output_type": "display_data",
          "data": {
            "text/plain": [
              "<Figure size 1000x600 with 1 Axes>"
            ],
            "image/png": "[encoded data removed]"
          },
          "metadata": {}
        }
      ]
    },
    {
      "cell_type": "markdown",
      "source": [
        "The image above shows that the decision tree and random forest have almost the same performance to classify things."
      ],
      "metadata": {
        "id": "L816MhSUi2oQ"
      }
    },
    {
      "cell_type": "code",
      "source": [
        "# Import necessary libraries and modules\n",
        "from sklearn.svm import SVR\n",
        "from sklearn.tree import DecisionTreeRegressor\n",
        "from sklearn.ensemble import RandomForestRegressor\n",
        "\n",
        "# Create an instance of Support Vector Regression (SVR)\n",
        "svm_reg = SVR()\n",
        "\n",
        "# Train the SVR model\n",
        "svm_reg.fit(X_train, y_train)\n",
        "\n",
        "# Use the trained SVR model to make predictions on the test data\n",
        "svm_predictions = svm_reg.predict(X_test)\n",
        "\n",
        "# Calculate the Mean Squared Error (MSE) of the SVR predictions\n",
        "svm_mse = mean_squared_error(y_test, svm_predictions)\n",
        "\n",
        "# Calculate the R-squared (R2) score of the SVR predictions\n",
        "svm_r2 = r2_score(y_test, svm_predictions)\n",
        "\n",
        "# Create an instance of Decision Tree Regressor\n",
        "tree_reg = DecisionTreeRegressor()\n",
        "\n",
        "# Train the Decision Tree model\n",
        "tree_reg.fit(X_train, y_train)\n",
        "\n",
        "# Use the trained Decision Tree model to make predictions on the test data\n",
        "tree_predictions = tree_reg.predict(X_test)\n",
        "\n",
        "# Calculate the MSE of the Decision Tree predictions\n",
        "tree_mse = mean_squared_error(y_test, tree_predictions)\n",
        "\n",
        "# Calculate the R2 score of the Decision Tree predictions\n",
        "tree_r2 = r2_score(y_test, tree_predictions)\n",
        "\n",
        "# Create an instance of Random Forest Regressor\n",
        "rf_reg = RandomForestRegressor()\n",
        "\n",
        "# Train the Random Forest model\n",
        "rf_reg.fit(X_train, y_train)\n",
        "\n",
        "# Use the trained Random Forest model to make predictions on the test data\n",
        "rf_predictions = rf_reg.predict(X_test)\n",
        "\n",
        "# Calculate the MSE of the Random Forest predictions\n",
        "rf_mse = mean_squared_error(y_test, rf_predictions)\n",
        "\n",
        "# Calculate the R2 score of the Random Forest predictions\n",
        "rf_r2 = r2_score(y_test, rf_predictions)\n"
      ],
      "metadata": {
        "id": "n8y_Tn-xrZT4"
      },
      "execution_count": null,
      "outputs": []
    },
    {
      "cell_type": "code",
      "source": [
        "# Import the matplotlib library for creating visualizations\n",
        "import matplotlib.pyplot as plt\n",
        "\n",
        "# Create a list of model names\n",
        "models = ['Linear Regression', 'Support Vector Regression', 'Decision Tree Regression', 'Random Forest Regression']\n",
        "\n",
        "# Create a list of Mean Squared Error (MSE) scores for each model\n",
        "mse_scores = [mse, svm_mse, tree_mse, rf_mse]\n",
        "\n",
        "# Create a list of R-squared (R2) scores for each model\n",
        "r2_scores = [r2, svm_r2, tree_r2, rf_r2]\n",
        "\n",
        "# Create a figure and a set of subplots\n",
        "fig, axs = plt.subplots(2, figsize=(10, 10))\n",
        "\n",
        "# Create a bar chart on the first subplot (index 0) for the MSE scores\n",
        "axs[0].bar(models, mse_scores, color=['blue', 'orange', 'green', 'red'])\n",
        "axs[0].set_title('MSE Score Comparison')  # Set the title for the first subplot\n",
        "axs[0].set_ylabel('MSE Score')  # Set the y-axis label for the first subplot\n",
        "\n",
        "# Create a bar chart on the second subplot (index 1) for the R2 scores\n",
        "axs[1].bar(models, r2_scores, color=['blue', 'orange', 'green', 'red'])\n",
        "axs[1].set_title('R2 Score Comparison')  # Set the title for the second subplot\n",
        "axs[1].set_ylabel('R2 Score')  # Set the y-axis label for the second subplot\n",
        "\n",
        "# Adjust the padding between and around the subplots\n",
        "fig.tight_layout()\n",
        "\n",
        "# Display the figure\n",
        "plt.show()\n"
      ],
      "metadata": {
        "colab": {
          "base_uri": "https://localhost:8080/",
          "height": 1000
        },
        "id": "WOlXoHGeJbwY",
        "outputId": "b610e58e-9ef1-431c-8dfe-e90a5f8f8f72"
      },
      "execution_count": null,
      "outputs": [
        {
          "output_type": "display_data",
          "data": {
            "text/plain": [
              "<Figure size 1000x1000 with 2 Axes>"
            ],
            "image/png": "[encoded data removed]"
          },
          "metadata": {}
        }
      ]
    },
    {
      "cell_type": "markdown",
      "source": [
        "For the regression model, random forest has best ability to predict things, but linear regression can be more accuracy to have new value."
      ],
      "metadata": {
        "id": "fHHhxOaniE_P"
      }
    },
    {
      "cell_type": "code",
      "source": [
        "#Linear Regression\n",
        "importance_linear = Linear_model.coef_\n",
        "\n",
        "for i, j in enumerate(importance_linear):\n",
        "    print('Feature: %s, Score: %.5f' % (X.columns[i], j))\n"
      ],
      "metadata": {
        "colab": {
          "base_uri": "https://localhost:8080/"
        },
        "id": "rVYYlBr5O-tf",
        "outputId": "f49a7e36-c456-4d5e-a61c-0807c1877f78"
      },
      "execution_count": null,
      "outputs": [
        {
          "output_type": "stream",
          "name": "stdout",
          "text": [
            "Feature: AtomicRadius, Score: -1.53046\n",
            "Feature: Electronegativity, Score: -1.09343\n",
            "Feature: FirstIonization, Score: -0.18705\n",
            "Feature: Density, Score: 0.07626\n",
            "Feature: MeltingPoint, Score: 0.00010\n",
            "Feature: BoilingPoint, Score: -0.00008\n",
            "Feature: NumberOfIsotopes, Score: -0.00262\n"
          ]
        }
      ]
    },
    {
      "cell_type": "markdown",
      "source": [
        "In this module, Atomic Radius and Electronegativity have the greatest impact and MeltingPoint and BoilingPoint have the least impact."
      ],
      "metadata": {
        "id": "pDe9Gx0t9tQ5"
      }
    },
    {
      "cell_type": "code",
      "source": [
        "#Random Forest Classifier\n",
        "importance_rfc = best_clf.feature_importances_\n",
        "# Summarize feature importance\n",
        "for i, j in enumerate(importance_rfc[:len(X.columns)]):\n",
        "    print('Feature: %s, Score: %.5f' % (X.columns[i], j))\n"
      ],
      "metadata": {
        "colab": {
          "base_uri": "https://localhost:8080/"
        },
        "id": "Yj_etowIQRk7",
        "outputId": "4619cbaf-8c0c-4fc3-f922-4229d29af06c"
      },
      "execution_count": null,
      "outputs": [
        {
          "output_type": "stream",
          "name": "stdout",
          "text": [
            "Feature: AtomicRadius, Score: 0.06093\n",
            "Feature: Electronegativity, Score: 0.08859\n",
            "Feature: FirstIonization, Score: 0.00000\n",
            "Feature: Density, Score: 0.00000\n",
            "Feature: MeltingPoint, Score: 0.00000\n",
            "Feature: BoilingPoint, Score: 0.02766\n",
            "Feature: NumberOfIsotopes, Score: 0.05992\n"
          ]
        }
      ]
    },
    {
      "cell_type": "markdown",
      "source": [
        "In this module, NumberOfIsotopes and Electronegativity have the greatest impact and FirstIonization, Density and MeltingPoint have the least impact."
      ],
      "metadata": {
        "id": "8l5tNEaV-OE3"
      }
    },
    {
      "cell_type": "code",
      "source": [
        "#Decision Tree classifier\n",
        "importance_dt = clf_tree.feature_importances_\n",
        "\n",
        "# Summarize feature importance\n",
        "for feature_name, score in zip(X.columns, importance_dt):\n",
        "    print('Feature: %s, Score: %.5f' % (feature_name, score))\n",
        "\n"
      ],
      "metadata": {
        "colab": {
          "base_uri": "https://localhost:8080/"
        },
        "id": "llPy8T2aQlra",
        "outputId": "c898b991-5574-4e95-973f-7594dd21aa6c"
      },
      "execution_count": null,
      "outputs": [
        {
          "output_type": "stream",
          "name": "stdout",
          "text": [
            "Feature: AtomicRadius, Score: 0.09014\n",
            "Feature: Electronegativity, Score: 0.07967\n",
            "Feature: FirstIonization, Score: 0.00000\n",
            "Feature: Density, Score: 0.00000\n",
            "Feature: MeltingPoint, Score: 0.00000\n",
            "Feature: BoilingPoint, Score: 0.02199\n",
            "Feature: NumberOfIsotopes, Score: 0.03076\n"
          ]
        }
      ]
    },
    {
      "cell_type": "markdown",
      "source": [
        "In this module, AtomicRadius and Electronegativity have the greatest impact and FirstIonization, Density and MeltingPoint have the least impact."
      ],
      "metadata": {
        "id": "xBCVKOKy-kG1"
      }
    },
    {
      "cell_type": "code",
      "source": [
        "# Logistic_model\n",
        "importance_Logistic = Logistic_model.coef_[0]\n",
        "\n",
        "# Summarize feature importance\n",
        "for i, j in enumerate(importance_Logistic):\n",
        "    print('Feature: %s, Score: %.5f' % (X.columns[i], j))\n"
      ],
      "metadata": {
        "colab": {
          "base_uri": "https://localhost:8080/"
        },
        "id": "3aFEwPCWRkUG",
        "outputId": "97139fcc-f775-40e8-9e16-965fccedf262"
      },
      "execution_count": null,
      "outputs": [
        {
          "output_type": "stream",
          "name": "stdout",
          "text": [
            "Feature: AtomicRadius, Score: -0.58278\n",
            "Feature: Electronegativity, Score: 0.99551\n",
            "Feature: FirstIonization, Score: 0.01607\n",
            "Feature: Density, Score: -0.45264\n",
            "Feature: MeltingPoint, Score: 0.00080\n",
            "Feature: BoilingPoint, Score: -0.00137\n",
            "Feature: NumberOfIsotopes, Score: 0.13634\n"
          ]
        }
      ]
    },
    {
      "cell_type": "markdown",
      "source": [
        "In this module, AtomicRadius and Electronegativity have the greatest impact and BoilingPoint and MeltingPoint have the least impact."
      ],
      "metadata": {
        "id": "X7PDGhwD-2md"
      }
    },
    {
      "cell_type": "code",
      "source": [
        "# Decision tree regression\n",
        "importance_tree = tree_reg.feature_importances_\n",
        "\n",
        "# Summarize feature importance\n",
        "for i, value in enumerate(importance_tree):\n",
        "    print('Feature: %s, Score: %.5f' % (X.columns[i], value))\n"
      ],
      "metadata": {
        "colab": {
          "base_uri": "https://localhost:8080/"
        },
        "id": "-ZkcagilX6-C",
        "outputId": "8d37359a-63b8-4f6a-9f2e-de43c45a6d15"
      },
      "execution_count": null,
      "outputs": [
        {
          "output_type": "stream",
          "name": "stdout",
          "text": [
            "Feature: AtomicRadius, Score: 0.06491\n",
            "Feature: Electronegativity, Score: 0.12092\n",
            "Feature: FirstIonization, Score: 0.10657\n",
            "Feature: Density, Score: 0.16608\n",
            "Feature: MeltingPoint, Score: 0.05765\n",
            "Feature: BoilingPoint, Score: 0.43203\n",
            "Feature: NumberOfIsotopes, Score: 0.05185\n"
          ]
        }
      ]
    },
    {
      "cell_type": "markdown",
      "source": [
        "In this module, BoilingPoint and Density have the greatest impact and AtomicRadius have the least impact."
      ],
      "metadata": {
        "id": "778f__zp--ng"
      }
    },
    {
      "cell_type": "code",
      "source": [
        "#Random forest regression\n",
        "importance_rf = rf_reg.feature_importances_\n",
        "\n",
        "# Summarize feature importance\n",
        "for i, value in enumerate(importance_rf):\n",
        "    print('Feature: %s, Score: %.5f' % (X.columns[i], value))\n"
      ],
      "metadata": {
        "colab": {
          "base_uri": "https://localhost:8080/"
        },
        "id": "4Df5eTzvYlyu",
        "outputId": "71ca751f-4d3c-4fdc-f0b0-15600a8e5170"
      },
      "execution_count": null,
      "outputs": [
        {
          "output_type": "stream",
          "name": "stdout",
          "text": [
            "Feature: AtomicRadius, Score: 0.06571\n",
            "Feature: Electronegativity, Score: 0.12441\n",
            "Feature: FirstIonization, Score: 0.07864\n",
            "Feature: Density, Score: 0.14989\n",
            "Feature: MeltingPoint, Score: 0.07385\n",
            "Feature: BoilingPoint, Score: 0.43764\n",
            "Feature: NumberOfIsotopes, Score: 0.06986\n"
          ]
        }
      ]
    },
    {
      "cell_type": "markdown",
      "source": [
        "In this module, BoilingPoint and Density have the greatest impact and NumberOfIsotopes has the least impact."
      ],
      "metadata": {
        "id": "5HXxd8OK_TAy"
      }
    },
    {
      "cell_type": "code",
      "source": [
        "# Install the eli5 library, which will be used for Permutation Importance\n",
        "!pip install eli5\n",
        "\n",
        "# Import the eli5 library\n",
        "import eli5\n",
        "\n",
        "# Import the PermutationImportance module from eli5\n",
        "from eli5.sklearn import PermutationImportance\n",
        "\n",
        "# Create a PermutationImportance object using the Support Vector Regressor model (svm_reg)\n",
        "# The model has been trained, and now the permutation importance will be calculated on the test set (X_test, y_test)\n",
        "# random_state=1 is set for reproducibility of the results\n",
        "perm = PermutationImportance(svm_reg, random_state=1).fit(X_test, y_test)\n",
        "\n",
        "# Show the weights of the PermutationImportance object\n",
        "# The weights represent the importance of each feature in the model\n",
        "# The feature names are taken from the columns of the test set dataframe\n",
        "eli5.show_weights(perm, feature_names = X_test.columns.tolist())\n"
      ],
      "metadata": {
        "id": "gMfd6c8DZwfI",
        "colab": {
          "base_uri": "https://localhost:8080/",
          "height": 555
        },
        "outputId": "f9c03982-b37b-44b8-8797-62918288bd64"
      },
      "execution_count": null,
      "outputs": [
        {
          "output_type": "stream",
          "name": "stdout",
          "text": [
            "Looking in indexes: https://pypi.org/simple, https://us-python.pkg.dev/colab-wheels/public/simple/\n",
            "Collecting eli5\n",
            "  Downloading eli5-0.13.0.tar.gz (216 kB)\n",
            "\u001b[2K     \u001b[90m━━━━━━━━━━━━━━━━━━━━━━━━━━━━━━━━━━━━━━━\u001b[0m \u001b[32m216.2/216.2 kB\u001b[0m \u001b[31m8.2 MB/s\u001b[0m eta \u001b[36m0:00:00\u001b[0m\n",
            "\u001b[?25h  Preparing metadata (setup.py) ... \u001b[?25l\u001b[?25hdone\n",
            "Requirement already satisfied: attrs>17.1.0 in /usr/local/lib/python3.10/dist-packages (from eli5) (23.1.0)\n",
            "Requirement already satisfied: jinja2>=3.0.0 in /usr/local/lib/python3.10/dist-packages (from eli5) (3.1.2)\n",
            "Requirement already satisfied: numpy>=1.9.0 in /usr/local/lib/python3.10/dist-packages (from eli5) (1.22.4)\n",
            "Requirement already satisfied: scipy in /usr/local/lib/python3.10/dist-packages (from eli5) (1.10.1)\n",
            "Requirement already satisfied: six in /usr/local/lib/python3.10/dist-packages (from eli5) (1.16.0)\n",
            "Requirement already satisfied: scikit-learn>=0.20 in /usr/local/lib/python3.10/dist-packages (from eli5) (1.2.2)\n",
            "Requirement already satisfied: graphviz in /usr/local/lib/python3.10/dist-packages (from eli5) (0.20.1)\n",
            "Requirement already satisfied: tabulate>=0.7.7 in /usr/local/lib/python3.10/dist-packages (from eli5) (0.8.10)\n",
            "Requirement already satisfied: MarkupSafe>=2.0 in /usr/local/lib/python3.10/dist-packages (from jinja2>=3.0.0->eli5) (2.1.2)\n",
            "Requirement already satisfied: joblib>=1.1.1 in /usr/local/lib/python3.10/dist-packages (from scikit-learn>=0.20->eli5) (1.2.0)\n",
            "Requirement already satisfied: threadpoolctl>=2.0.0 in /usr/local/lib/python3.10/dist-packages (from scikit-learn>=0.20->eli5) (3.1.0)\n",
            "Building wheels for collected packages: eli5\n",
            "  Building wheel for eli5 (setup.py) ... \u001b[?25l\u001b[?25hdone\n",
            "  Created wheel for eli5: filename=eli5-0.13.0-py2.py3-none-any.whl size=107730 sha256=99da34e8a525ce7774c63b487dbbe288a2e31286b11ceee61d71f0f186f6dc36\n",
            "  Stored in directory: /root/.cache/pip/wheels/b8/58/ef/2cf4c306898c2338d51540e0922c8e0d6028e07007085c0004\n",
            "Successfully built eli5\n",
            "Installing collected packages: eli5\n",
            "Successfully installed eli5-0.13.0\n"
          ]
        },
        {
          "output_type": "execute_result",
          "data": {
            "text/plain": [
              "<IPython.core.display.HTML object>"
            ],
            "text/html": [
              "\n",
              "    <style>\n",
              "    table.eli5-weights tr:hover {\n",
              "        filter: brightness(85%);\n",
              "    }\n",
              "</style>\n",
              "\n",
              "\n",
              "\n",
              "    \n",
              "\n",
              "    \n",
              "\n",
              "    \n",
              "\n",
              "    \n",
              "\n",
              "    \n",
              "\n",
              "    \n",
              "\n",
              "\n",
              "    \n",
              "\n",
              "    \n",
              "\n",
              "    \n",
              "\n",
              "    \n",
              "\n",
              "    \n",
              "\n",
              "    \n",
              "\n",
              "\n",
              "    \n",
              "\n",
              "    \n",
              "\n",
              "    \n",
              "\n",
              "    \n",
              "\n",
              "    \n",
              "        <table class=\"eli5-weights eli5-feature-importances\" style=\"border-collapse: collapse; border: none; margin-top: 0em; table-layout: auto;\">\n",
              "    <thead>\n",
              "    <tr style=\"border: none;\">\n",
              "        <th style=\"padding: 0 1em 0 0.5em; text-align: right; border: none;\">Weight</th>\n",
              "        <th style=\"padding: 0 0.5em 0 0.5em; text-align: left; border: none;\">Feature</th>\n",
              "    </tr>\n",
              "    </thead>\n",
              "    <tbody>\n",
              "    \n",
              "        <tr style=\"background-color: hsl(120, 100.00%, 80.00%); border: none;\">\n",
              "            <td style=\"padding: 0 1em 0 0.5em; text-align: right; border: none;\">\n",
              "                0.6963\n",
              "                \n",
              "                    &plusmn; 0.0512\n",
              "                \n",
              "            </td>\n",
              "            <td style=\"padding: 0 0.5em 0 0.5em; text-align: left; border: none;\">\n",
              "                BoilingPoint\n",
              "            </td>\n",
              "        </tr>\n",
              "    \n",
              "        <tr style=\"background-color: hsl(120, 100.00%, 98.12%); border: none;\">\n",
              "            <td style=\"padding: 0 1em 0 0.5em; text-align: right; border: none;\">\n",
              "                0.0237\n",
              "                \n",
              "                    &plusmn; 0.0219\n",
              "                \n",
              "            </td>\n",
              "            <td style=\"padding: 0 0.5em 0 0.5em; text-align: left; border: none;\">\n",
              "                MeltingPoint\n",
              "            </td>\n",
              "        </tr>\n",
              "    \n",
              "        <tr style=\"background-color: hsl(120, 100.00%, 99.95%); border: none;\">\n",
              "            <td style=\"padding: 0 1em 0 0.5em; text-align: right; border: none;\">\n",
              "                0.0001\n",
              "                \n",
              "                    &plusmn; 0.0002\n",
              "                \n",
              "            </td>\n",
              "            <td style=\"padding: 0 0.5em 0 0.5em; text-align: left; border: none;\">\n",
              "                Density\n",
              "            </td>\n",
              "        </tr>\n",
              "    \n",
              "        <tr style=\"background-color: hsl(120, 100.00%, 100.00%); border: none;\">\n",
              "            <td style=\"padding: 0 1em 0 0.5em; text-align: right; border: none;\">\n",
              "                0.0000\n",
              "                \n",
              "                    &plusmn; 0.0000\n",
              "                \n",
              "            </td>\n",
              "            <td style=\"padding: 0 0.5em 0 0.5em; text-align: left; border: none;\">\n",
              "                AtomicRadius\n",
              "            </td>\n",
              "        </tr>\n",
              "    \n",
              "        <tr style=\"background-color: hsl(120, 100.00%, 100.00%); border: none;\">\n",
              "            <td style=\"padding: 0 1em 0 0.5em; text-align: right; border: none;\">\n",
              "                0.0000\n",
              "                \n",
              "                    &plusmn; 0.0000\n",
              "                \n",
              "            </td>\n",
              "            <td style=\"padding: 0 0.5em 0 0.5em; text-align: left; border: none;\">\n",
              "                Electronegativity\n",
              "            </td>\n",
              "        </tr>\n",
              "    \n",
              "        <tr style=\"background-color: hsl(0, 100.00%, 99.99%); border: none;\">\n",
              "            <td style=\"padding: 0 1em 0 0.5em; text-align: right; border: none;\">\n",
              "                -0.0000\n",
              "                \n",
              "                    &plusmn; 0.0001\n",
              "                \n",
              "            </td>\n",
              "            <td style=\"padding: 0 0.5em 0 0.5em; text-align: left; border: none;\">\n",
              "                NumberOfIsotopes\n",
              "            </td>\n",
              "        </tr>\n",
              "    \n",
              "        <tr style=\"background-color: hsl(0, 100.00%, 99.99%); border: none;\">\n",
              "            <td style=\"padding: 0 1em 0 0.5em; text-align: right; border: none;\">\n",
              "                -0.0000\n",
              "                \n",
              "                    &plusmn; 0.0000\n",
              "                \n",
              "            </td>\n",
              "            <td style=\"padding: 0 0.5em 0 0.5em; text-align: left; border: none;\">\n",
              "                FirstIonization\n",
              "            </td>\n",
              "        </tr>\n",
              "    \n",
              "    \n",
              "    </tbody>\n",
              "</table>\n",
              "    \n",
              "\n",
              "    \n",
              "\n",
              "\n",
              "    \n",
              "\n",
              "    \n",
              "\n",
              "    \n",
              "\n",
              "    \n",
              "\n",
              "    \n",
              "\n",
              "    \n",
              "\n",
              "\n",
              "\n"
            ]
          },
          "metadata": {},
          "execution_count": 27
        }
      ]
    },
    {
      "cell_type": "markdown",
      "source": [
        "In this module, BoilingPoint and MeltingPoint have the greatest impact and Electronegativity, AtomicRadius, FirstIonization and\tNumberOfIsotopes has the least impact."
      ],
      "metadata": {
        "id": "a2WA9Ppu_4GQ"
      }
    },
    {
      "cell_type": "markdown",
      "source": [
        "***BoilingPoint***: The temperature at which a material turns from liquid to gas. Higher boiling points can indicate stronger intermolecular forces and higher thermal stability.\n",
        "\n",
        "***MeltingPoint***: The temperature at which a material turns from solid to liquid. Higher melting points suggest stronger bonds and greater thermal stability.\n",
        "\n",
        "***Density***: A measure of mass per unit volume. It can influence the hardness, strength, and sound/heat/electricity conduction of a material.\n",
        "\n",
        "***Electronegativity***: A measure of an atom's ability to attract shared electrons. Higher electronegativity can lead to more polar bonds and impact the reactivity and bonding properties of a material.\n",
        "\n",
        "***AtomicRadius***: The size of an atom. It can influence how closely atoms can pack together, which affects the material's density, bonding, and reactivity.\n",
        "\n",
        "***FirstIonization***: The energy required to remove an electron from a neutral atom. It can influence the reactivity of a material and its ability to form positive ions.\n",
        "\n",
        "***NumberOfIsotopes***: The number of different forms of an element, having the same number of protons but different numbers of neutrons. Different isotopes of the same element can exhibit slightly different physical properties."
      ],
      "metadata": {
        "id": "3ol4IGJsQ66P"
      }
    },
    {
      "cell_type": "markdown",
      "source": [
        "***Linear Regression***:\n",
        "\n",
        "Drawbacks: Assumes a linear relationship between features and output, which may not be the case in many real-world applications. Also, it may be greatly influenced by outliers.\n",
        "\n",
        "Strategies: If the relationship is not linear, consider using polynomial regression or non-linear regression models. Also, make sure to preprocess the data to deal with outliers, if necessary.\n",
        "\n",
        "***Logistic Regression***:\n",
        "\n",
        "Drawbacks: Similar to linear regression, it assumes a linear decision boundary which is not always the case. Also, it can't handle a large number of categorical features well.\n",
        "\n",
        "Strategies: Consider using non-linear models like Decision Trees or SVM with non-linear kernel if the decision boundary is not linear. Feature engineering can help handle categorical features.\n",
        "\n",
        "***Support Vector Machines (SVM)***:\n",
        "\n",
        "Drawbacks: Can be sensitive to the choice of the kernel parameters and the regularization parameter. It can be computationally intensive and slow for large datasets.\n",
        "\n",
        "Strategies: Use grid search or similar methods to optimize the parameters. Consider using more efficient, linear models for very large datasets.\n",
        "\n",
        "***Decision Trees***:\n",
        "\n",
        "Drawbacks: They can easily overfit or underfit the data if not properly tuned, and small changes in the data can result in a different tree.\n",
        "\n",
        "Strategies: Use ensemble methods like Random Forests or Gradient Boosting to average multiple decision trees and get more stable and robust predictions. Make sure to tune hyperparameters like maximum depth, and minimum samples split.\n",
        "\n",
        "***Neural Networks***:\n",
        "\n",
        "Drawbacks: Require a large amount of data to train effectively, and can be computationally intensive. They can also be difficult to interpret, and choosing the correct architecture can be complex.\n",
        "\n",
        "Strategies: Use techniques like early stopping, dropout, or regularization to prevent overfitting. Try different architectures and use cross-validation to select the best one."
      ],
      "metadata": {
        "id": "LkbuvqGpqeo_"
      }
    },
    {
      "cell_type": "markdown",
      "source": [
        "We can also add some new features to improve these models.\n",
        "\n",
        "1.***Structural Information***: Knowing structure of the materials can be helpful to predict. The structure may include information about the symmetry of the material, the types and arrangement of structural units.\n",
        "\n",
        "2.***Process Parameters***: The processing temperature, pressure, duration, or specific techniques used (like heat treatment or surface treatment) could all be important features.\n",
        "\n",
        "3.***Composite Material Information***: knowing the proportions, distribution, or interactions of these components could be helpful.\n"
      ],
      "metadata": {
        "id": "uvtvBR-Nv9K6"
      }
    },
    {
      "cell_type": "markdown",
      "source": [
        "Conclusions:\n",
        "\n",
        "In this dataset, there are 5149 materials.\n",
        "\n",
        "The plot indicates that the distribution is a imbalanced dataset with a majority of instances concentrated at the tail end.\n",
        "\n",
        "Moreover, this program dose not have any duplicate."
      ],
      "metadata": {
        "id": "Oo9Vg_Sj1uud"
      }
    },
    {
      "cell_type": "code",
      "source": [
        "num_unique_materials = mp_query['material_id'].nunique()\n",
        "print('Number of unique materials:', num_unique_materials)"
      ],
      "metadata": {
        "colab": {
          "base_uri": "https://localhost:8080/"
        },
        "id": "z5ISWakZgVfw",
        "outputId": "5a6536aa-b786-41f8-d4e3-285b094c1999"
      },
      "execution_count": null,
      "outputs": [
        {
          "output_type": "stream",
          "name": "stdout",
          "text": [
            "Number of unique materials: 5149\n"
          ]
        }
      ]
    },
    {
      "cell_type": "code",
      "source": [
        "mp_query['formation_energy_per_atom'].plot(kind='hist', bins=50)\n",
        "plt.title('Distribution of Formation Energy per Atom')\n",
        "plt.xlabel('Formation Energy per Atom')\n",
        "plt.show()\n"
      ],
      "metadata": {
        "colab": {
          "base_uri": "https://localhost:8080/",
          "height": 472
        },
        "id": "NE7qGaHo2pml",
        "outputId": "4f39f222-005f-485a-f18f-343051e9e25c"
      },
      "execution_count": null,
      "outputs": [
        {
          "output_type": "display_data",
          "data": {
            "text/plain": [
              "<Figure size 640x480 with 1 Axes>"
            ],
            "image/png": "[encoded data removed]"
          },
          "metadata": {}
        }
      ]
    },
    {
      "cell_type": "code",
      "source": [
        "print('duplicated datas:', mp_query.duplicated().any())"
      ],
      "metadata": {
        "colab": {
          "base_uri": "https://localhost:8080/"
        },
        "id": "jD2j5FH73mqK",
        "outputId": "ce3296b4-046c-446c-ec53-44654f2bee2a"
      },
      "execution_count": null,
      "outputs": [
        {
          "output_type": "stream",
          "name": "stdout",
          "text": [
            "duplicated datas: False\n"
          ]
        }
      ]
    },
    {
      "cell_type": "code",
      "source": [
        "from sklearn.model_selection import cross_val_score\n",
        "from sklearn.neural_network import MLPClassifier\n",
        "\n",
        "hidden_layer_sizes = [(x,) for x in range(1, 21)]  # Test 1 to 20 layers\n",
        "scores = []\n",
        "\n",
        "for size in hidden_layer_sizes:\n",
        "    clf = MLPClassifier(hidden_layer_sizes=size)\n",
        "    score = cross_val_score(clf, X, y, cv=5).mean()\n",
        "    scores.append(score)\n",
        "\n",
        "plt.plot(range(1, 21), scores)\n",
        "plt.xlabel('Number of Hidden Layers')\n",
        "plt.ylabel('Cross-Validation Score')\n",
        "plt.show()\n"
      ],
      "metadata": {
        "colab": {
          "base_uri": "https://localhost:8080/",
          "height": 643
        },
        "id": "mpnKqAxIMrRm",
        "outputId": "51f64ac7-4048-4108-862f-7c93d8f7f95d"
      },
      "execution_count": null,
      "outputs": [
        {
          "output_type": "stream",
          "name": "stderr",
          "text": [
            "/usr/local/lib/python3.10/dist-packages/sklearn/neural_network/_multilayer_perceptron.py:686: ConvergenceWarning: Stochastic Optimizer: Maximum iterations (200) reached and the optimization hasn't converged yet.\n",
            "  warnings.warn(\n",
            "/usr/local/lib/python3.10/dist-packages/sklearn/neural_network/_multilayer_perceptron.py:686: ConvergenceWarning: Stochastic Optimizer: Maximum iterations (200) reached and the optimization hasn't converged yet.\n",
            "  warnings.warn(\n",
            "/usr/local/lib/python3.10/dist-packages/sklearn/neural_network/_multilayer_perceptron.py:686: ConvergenceWarning: Stochastic Optimizer: Maximum iterations (200) reached and the optimization hasn't converged yet.\n",
            "  warnings.warn(\n",
            "/usr/local/lib/python3.10/dist-packages/sklearn/neural_network/_multilayer_perceptron.py:686: ConvergenceWarning: Stochastic Optimizer: Maximum iterations (200) reached and the optimization hasn't converged yet.\n",
            "  warnings.warn(\n",
            "/usr/local/lib/python3.10/dist-packages/sklearn/neural_network/_multilayer_perceptron.py:686: ConvergenceWarning: Stochastic Optimizer: Maximum iterations (200) reached and the optimization hasn't converged yet.\n",
            "  warnings.warn(\n"
          ]
        },
        {
          "output_type": "display_data",
          "data": {
            "text/plain": [
              "<Figure size 640x480 with 1 Axes>"
            ],
            "image/png": "[encoded data removed]"
          },
          "metadata": {}
        }
      ]
    },
    {
      "cell_type": "code",
      "source": [
        "num_materials = mp_query['material_id'].nunique(dropna=False)\n",
        "print(num_materials)\n"
      ],
      "metadata": {
        "colab": {
          "base_uri": "https://localhost:8080/"
        },
        "id": "94WXOTviTBXU",
        "outputId": "b3df3bf9-3789-4c60-be6c-7d1d7592eec5"
      },
      "execution_count": null,
      "outputs": [
        {
          "output_type": "stream",
          "name": "stdout",
          "text": [
            "5149\n"
          ]
        }
      ]
    },
    {
      "cell_type": "markdown",
      "source": [
        "Github website:https://github.com/TzuHsiangCho/Final-project-Material-dataframe.git"
      ],
      "metadata": {
        "id": "ZFAaUzUgiIjL"
      }
    },
    {
      "cell_type": "code",
      "source": [],
      "metadata": {
        "id": "n7DzqDx7TJEs"
      },
      "execution_count": null,
      "outputs": []
    }
  ]
}